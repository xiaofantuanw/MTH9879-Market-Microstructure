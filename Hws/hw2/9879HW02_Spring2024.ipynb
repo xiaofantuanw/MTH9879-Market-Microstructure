{
 "cells": [
  {
   "cell_type": "markdown",
   "metadata": {},
   "source": [
    "# MTH9879 Homework 2\n",
    "\n",
    "Assigned: February 1, 2024.\n",
    "Due: February 15, 2024 by 6pm. \n",
    "\n",
    "Late homework **will not be accepted**.\n",
    "\n",
    "$$\n",
    "\\newcommand{\\supp}{\\mathrm{supp}}\n",
    "\\newcommand{\\E}{\\mathbb{E} }\n",
    "\\def\\Cov{{ \\mbox{Cov} }}\n",
    "\\def\\Var{{ \\mbox{Var} }}\n",
    "\\newcommand{\\1}{\\mathbf{1} }\n",
    "\\newcommand{\\PP}{\\mathbb{P} }\n",
    "%\\newcommand{\\Pr}{\\mathrm{Pr} }\n",
    "\\newcommand{\\QQ}{\\mathbb{Q} }\n",
    "\\newcommand{\\RR}{\\mathbb{R} }\n",
    "\\newcommand{\\DD}{\\mathbb{D} }\n",
    "\\newcommand{\\HH}{\\mathbb{H} }\n",
    "\\newcommand{\\spn}{\\mathrm{span} }\n",
    "\\newcommand{\\cov}{\\mathrm{cov} }\n",
    "\\newcommand{\\sgn}{\\mathrm{sgn} }\n",
    "\\newcommand{\\HS}{\\mathcal{L}_{\\mathrm{HS}} }\n",
    "%\\newcommand{\\HS}{\\mathrm{HS} }\n",
    "\\newcommand{\\trace}{\\mathrm{trace} }\n",
    "\\newcommand{\\LL}{\\mathcal{L} }\n",
    "%\\newcommand{\\LL}{\\mathrm{L} }\n",
    "\\newcommand{\\s}{\\mathcal{S} }\n",
    "\\newcommand{\\ee}{\\mathcal{E} }\n",
    "\\newcommand{\\ff}{\\mathcal{F} }\n",
    "\\newcommand{\\hh}{\\mathcal{H} }\n",
    "\\newcommand{\\bb}{\\mathcal{B} }\n",
    "\\newcommand{\\dd}{\\mathcal{D} }\n",
    "\\newcommand{\\g}{\\mathcal{G} }\n",
    "\\newcommand{\\p}{\\partial}\n",
    "\\newcommand{\\half}{\\frac{1}{2} }\n",
    "\\newcommand{\\T}{\\mathcal{T} }\n",
    "\\newcommand{\\bi}{\\begin{itemize}}\n",
    "\\newcommand{\\ei}{\\end{itemize}}\n",
    "\\newcommand{\\beq}{\\begin{equation}}\n",
    "\\newcommand{\\eeq}{\\end{equation}}\n",
    "\\newcommand{\\beas}{\\begin{eqnarray*}}\n",
    "\\newcommand{\\eeas}{\\end{eqnarray*}}\n",
    "\\newcommand{\\cO}{\\mathcal{O}}\n",
    "\\newcommand{\\cF}{\\mathcal{F}}\n",
    "\\newcommand{\\cL}{\\mathcal{L}}\n",
    "\\newcommand{\\BS}{\\text{BS}}\n",
    "$$"
   ]
  },
  {
   "cell_type": "markdown",
   "metadata": {},
   "source": [
    "<font color = \"red\">Homework is to be done by each student individually. To receive full credit, you must upload a completed copy of this Jupyter notebook to this [Dropbox File Request link](https://www.dropbox.com/request/ZjM19qvhtkUB2Qcw4uX0) by the due date and time.  All python code must run correctly and solutions must be written up neatly in Markdown/LaTeX format.</font>"
   ]
  },
  {
   "cell_type": "markdown",
   "metadata": {},
   "source": [
    "<font color=blue>Please name your submission as <b>9879HW02_Lastname_Firstname.ipynb</b> (noticing the underscores) <br>\n",
    "e.g., for John Smith, the filename should read 9879HW02_Smith_John. <br> </font>\n",
    "<font color=red><i>Violation of the naming rule will incur a 20% penalty to the score. </i></font>"
   ]
  },
  {
   "cell_type": "markdown",
   "metadata": {},
   "source": [
    "<font color=\"blue\">If you encounter problems with Markdown/LaTeX or Jupyter notebook, please contact your TAs: Robert Wei (robert.wei.p72@gmail.com) and Adam Wen (wen.adam@hotmail.com).</font>"
   ]
  },
  {
   "cell_type": "markdown",
   "metadata": {},
   "source": [
    "### 0. (0 points) \n",
    "\n",
    "Read Chapter 12 of Hasbrouck, Section 6.4 of Foucault, Pagano and R&ouml;ell, and Section 11.3.3 of Trades, quotes and prices.\n"
   ]
  },
  {
   "cell_type": "markdown",
   "metadata": {},
   "source": [
    "## The Parlour (1998) model"
   ]
  },
  {
   "cell_type": "markdown",
   "metadata": {},
   "source": [
    "### 1. (10 points) \n",
    "Consider the first step $t = 1$ of the 3-step order book case presented in the lecture slides. Suppose that the order book at (or just before) $t = 1$ has one share offered and one share bid ($n_B = n_A = 1$).\n",
    "\n",
    "Determine the probabilities of a market buy, market sell, limit buy and limit sell at $t = 1$."
   ]
  },
  {
   "cell_type": "markdown",
   "metadata": {},
   "source": [
    "### 2. (4 points) \n",
    "Explain why the optimal market/limit order decision depends in general on quantity available on both sides of the order book in the Parlour model."
   ]
  },
  {
   "cell_type": "markdown",
   "metadata": {},
   "source": [
    "### Import Python modules"
   ]
  },
  {
   "cell_type": "code",
   "execution_count": 1,
   "metadata": {},
   "outputs": [],
   "source": [
    "import numpy as np\n",
    "import random\n",
    "import matplotlib.pyplot as plt\n",
    "import zero_intelligence\n",
    "\n",
    "from zero_intelligence import ZI"
   ]
  },
  {
   "cell_type": "markdown",
   "metadata": {},
   "source": [
    "## Cont-Kukanov optimal order placement"
   ]
  },
  {
   "cell_type": "markdown",
   "metadata": {},
   "source": [
    "### 3. (16 points)\n",
    "\n",
    "Consider the two BATS exchanges BZX and BYX.  Suppose you are trying to buy shares of MSFT in 3.9 minutes ($1\\%$ of the trading day).  Suppose further that the two exchanges have the following characteristics:\n",
    "\n",
    "**Exchange** | **Make fee** | **Take fee** | **Daily volume** \n",
    "-----|-----:|-------:| ---- |\n",
    "| **(per share)** | **(per share)** | **(shares)** \n",
    "BZX | -0.32¢ | +0.30¢ | 10,500,000\n",
    "BYX | +0.03¢ | -0.03¢ | 1,300,000\n",
    "\n",
    "Assume the daily volatility of MSFT is $1\\%$ and that MSFT is trading at $\\$37.50$.\n",
    "\n",
    "(a) We may suppose that if your order is only partially filled, that's because the price moved away (*adverse selection*).  This suggests that we penalize any under fill of limit orders by $\\sigma\\,\\sqrt{T}$ where $T$ is the order duration.  Compute the corresponding value of $\\lambda_u$ in cents per share.\n",
    "\n",
    "\n",
    "(b) Assuming a spread of $1$ cent, what are $h$, $f$, and $r$ for BZX and BYX respectively (in cents per share)?\n",
    "\n",
    "\n",
    "(c) Assuming no seasonality, what is the mean value $\\bar \\xi$ of $\\xi$ (over 3.9 minutes) for BZX and BYX respectively (in shares)?\n",
    "\n",
    "\n",
    "(d)  Assume that $\\xi$ is log normally distributed with\n",
    "\n",
    "$$\n",
    "\\xi = \\bar \\xi \\,\\exp\\left\\{\\sigma\\,Z-\\frac 12\\,\\sigma^2\\right\\}.\n",
    "$$\n",
    "\n",
    "where $Z \\sim N(0,1)$ and $\\sigma = 1$.  What is the standard deviation of $\\xi$ (in terms of $\\bar \\xi$)?\n",
    "\n",
    "\n",
    "(e) Write python code to determine the optimal order size $L^\\star+Q$ on BZX and BYX respectively. Assume here that you will either trade on BZX or BYX; there is no splitting of the order between the two exchanges. <br>\n",
    "(Hint: You may find the `scipy.stats.norm.ppf` function useful).\n"
   ]
  },
  {
   "cell_type": "code",
   "execution_count": 2,
   "metadata": {},
   "outputs": [],
   "source": [
    "from scipy.stats import norm"
   ]
  },
  {
   "cell_type": "markdown",
   "metadata": {},
   "source": [
    "## The Bouchaud-M&eacute;zard-Potters order book approximation"
   ]
  },
  {
   "cell_type": "markdown",
   "metadata": {},
   "source": [
    "### 4. (15 points)\n",
    "\n",
    "When $\\lambda(u)=\\lambda$,  a constant, the BMP order book density becomes\n",
    "\n",
    "\\begin{eqnarray*}\n",
    "\\rho_{BMP}(\\Delta) &=& \\frac{\\lambda}{\\nu}\\,\\left\\{e^{-\\Delta/{\\tilde \\Delta}}\\,\\int_0^{\\Delta/{\\tilde\\Delta}}\\,\\sinh(u)\\,du + \\sinh(\\Delta/{\\tilde \\Delta})\\,\\int_{\\Delta/{\\tilde\\Delta}}^\\infty\\,e^{-u}\\,du\\right\\} \\\\\n",
    "&=&\\frac{\\lambda}{\\nu}\\,\\left\\{1 - e^{-\\Delta/{\\tilde \\Delta}}  \\right\\},\n",
    "\\end{eqnarray*}\n",
    "\n",
    "where the characteristic distance $\\tilde\\Delta$ is given by\n",
    "\n",
    "$$\n",
    "\\tilde \\Delta=\\sqrt{\\frac{\\sigma^2}{2\\,\\nu}}.\n",
    "$$\n",
    "\n",
    "(a) Use the provided `zero_intelligence` module with $\\lambda = 1$, $\\mu = 10$ and $\\nu = \\frac15$ to simulate 100,000 events. Count the number of limit orders generated from the simulation and plot the resulting average book shape in red (in a band $\\pm 30$ around the mid price).\n",
    "\n",
    "(b) In Lecture 1, by using dimensional analysis we estimated that the variance $\\sigma^2_{DA}$ per unit time should be of the order of\n",
    "\n",
    "$$\n",
    "\\sigma^2_{DA} = \\frac{\\mu^2 \\,\\nu}{\\lambda^2}.\n",
    "$$\n",
    "\n",
    "Compute the characteristic distance $\\tilde \\Delta_{DA}$ with this estimate $\\sigma^2_{DA}$.\n",
    "\n",
    "(c) Using the estimate of $\\tilde \\Delta$ from part (b), code a function to compute the corresponding order book density $\\rho_{DA}(\\Delta)$.\n",
    "\n",
    "(d) Superimpose the plot of the density $\\rho_{DA}(\\Delta)$ (in blue) on your plot of the average book shape.\n",
    "\n",
    "(e) Dimensional analysis can only be expected to give us an estimate of $\\sigma^2$ up to some prefactor of order one.  Amend your function `rho_DA` to use a prefactor in the estimate of $\\sigma^2$.\n",
    "\n",
    "(f) Assuming a pre-factor of $\\tfrac12$, superimpose the amended asymptotic density on your plot from part (d).\n",
    "\n",
    "(g) Guess an accurate formula for $\\sigma^2$ in terms of $\\mu$, $\\lambda$, and $\\nu$.\n"
   ]
  },
  {
   "cell_type": "code",
   "execution_count": 4,
   "metadata": {},
   "outputs": [],
   "source": [
    "lmda, mu, nu= 1, 10, 0.2\n",
    "zi = ZI(lmda=lmda, mu=mu, nu=nu)"
   ]
  }
 ],
 "metadata": {
  "celltoolbar": "Slideshow",
  "kernelspec": {
   "display_name": "Python 3 (ipykernel)",
   "language": "python",
   "name": "python3"
  },
  "language_info": {
   "codemirror_mode": {
    "name": "ipython",
    "version": 3
   },
   "file_extension": ".py",
   "mimetype": "text/x-python",
   "name": "python",
   "nbconvert_exporter": "python",
   "pygments_lexer": "ipython3",
   "version": "3.11.4"
  },
  "varInspector": {
   "cols": {
    "lenName": 16,
    "lenType": 16,
    "lenVar": 40
   },
   "kernels_config": {
    "python": {
     "delete_cmd_postfix": "",
     "delete_cmd_prefix": "del ",
     "library": "var_list.py",
     "varRefreshCmd": "print(var_dic_list())"
    },
    "r": {
     "delete_cmd_postfix": ") ",
     "delete_cmd_prefix": "rm(",
     "library": "var_list.r",
     "varRefreshCmd": "cat(var_dic_list()) "
    }
   },
   "types_to_exclude": [
    "module",
    "function",
    "builtin_function_or_method",
    "instance",
    "_Feature"
   ],
   "window_display": false
  }
 },
 "nbformat": 4,
 "nbformat_minor": 4
}
