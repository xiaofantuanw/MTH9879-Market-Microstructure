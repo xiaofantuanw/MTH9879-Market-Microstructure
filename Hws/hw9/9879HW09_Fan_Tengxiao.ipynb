{
 "cells": [
  {
   "cell_type": "markdown",
   "metadata": {},
   "source": [
    "# MTH9879 Homework 9 \n",
    "\n",
    "Assigned: April 4, 2024.\n",
    "Due: April 18, 2024 by 6pm. \n",
    "\n",
    "Late homework **will not be accepted**.\n",
    "\n",
    "$$\n",
    "\\newcommand{\\supp}{\\mathrm{supp}}\n",
    "\\newcommand{\\E}{\\mathbb{E}}\n",
    "\\newcommand{\\Eof}[1]{\\mathbb{E}\\left[ #1 \\right]}\n",
    "\\def\\Cov{{ \\mbox{Cov} }}\n",
    "\\def\\Var{{ \\mbox{Var} }}\n",
    "\\newcommand{\\1}{\\mathbf{1} }\n",
    "\\newcommand{\\PP}{\\mathbb{P} }\n",
    "%\\newcommand{\\Pr}{\\mathrm{Pr} }\n",
    "\\newcommand{\\QQ}{\\mathbb{Q} }\n",
    "\\newcommand{\\RR}{\\mathbb{R} }\n",
    "\\newcommand{\\DD}{\\mathbb{D} }\n",
    "\\newcommand{\\HH}{\\mathbb{H} }\n",
    "\\newcommand{\\spn}{\\mathrm{span} }\n",
    "\\newcommand{\\cov}{\\mathrm{cov} }\n",
    "\\newcommand{\\sgn}{\\mathrm{sgn} }\n",
    "\\newcommand{\\HS}{\\mathcal{L}_{\\mathrm{HS}} }\n",
    "%\\newcommand{\\HS}{\\mathrm{HS} }\n",
    "\\newcommand{\\trace}{\\mathrm{trace} }\n",
    "\\newcommand{\\LL}{\\mathcal{L} }\n",
    "%\\newcommand{\\LL}{\\mathrm{L} }\n",
    "\\newcommand{\\s}{\\mathcal{S} }\n",
    "\\newcommand{\\ee}{\\mathcal{E} }\n",
    "\\newcommand{\\ff}{\\mathcal{F} }\n",
    "\\newcommand{\\hh}{\\mathcal{H} }\n",
    "\\newcommand{\\bb}{\\mathcal{B} }\n",
    "\\newcommand{\\dd}{\\mathcal{D} }\n",
    "\\newcommand{\\g}{\\mathcal{G} }\n",
    "\\newcommand{\\p}{\\partial}\n",
    "\\newcommand{\\half}{\\frac{1}{2} }\n",
    "\\newcommand{\\T}{\\mathcal{T} }\n",
    "\\newcommand{\\bi}{\\begin{itemize}}\n",
    "\\newcommand{\\ei}{\\end{itemize}}\n",
    "\\newcommand{\\beq}{\\begin{equation}}\n",
    "\\newcommand{\\eeq}{\\end{equation}}\n",
    "\\newcommand{\\beas}{\\begin{eqnarray*}}\n",
    "\\newcommand{\\eeas}{\\end{eqnarray*}}\n",
    "\\newcommand{\\cO}{\\mathcal{O}}\n",
    "\\newcommand{\\cC}{\\mathcal{C}}\n",
    "\\newcommand{\\cF}{\\mathcal{F}}\n",
    "\\newcommand{\\cL}{\\mathcal{L}}\n",
    "\\newcommand{\\BS}{\\text{BS}}\n",
    "$$"
   ]
  },
  {
   "cell_type": "markdown",
   "metadata": {},
   "source": [
    "<font color = \"red\">Homework is to be done by each student individually. To receive full credit, you must upload a completed copy of this Jupyter notebook to this [Dropbox File Request link](https://www.dropbox.com/request/JTpzBmynfmG8J8b6cljT) by the due date and time.  All python code must run correctly and solutions must be written up neatly in Markdown/LaTeX format.\n",
    "\n",
    "<font color=blue>Please name your submission as <b>9879HW09_Lastname_Firstname.ipynb</b> (noticing the underscores) <br>\n",
    "e.g., for John Smith, the filename should read 9879HW09_Smith_John. <br> </font>\n",
    "<font color=red><i>Violation of the naming rule will incur a 20% penalty to the score. </i></font>\n",
    "\n",
    "<font color=\"blue\">If you encounter problems with Markdown/LaTeX or Jupyter notebook, please contact your TAs: Robert Wei (robert.wei.p72@gmail.com) and Adam Wen (wen.adam@hotmail.com).</font>"
   ]
  },
  {
   "cell_type": "markdown",
   "metadata": {},
   "source": [
    "### 1. (20 points)\n",
    "Following Almgren and Chriss,  assume that the stock price $S_t$ evolves as\n",
    "\n",
    "$$\n",
    "dS_t = \\sigma\\,dZ_t\n",
    "$$\n",
    "\n",
    "and the price $\\tilde S_t$ at which we transact is given by\n",
    "\n",
    "$$\n",
    "\\tilde S_t = S_t - \\eta\\,v_t\n",
    "$$\n",
    "\n",
    "where $v_t:=-{\\dot x}_t$ is the rate of trading with $x_0 = X$ and $x_T = 0$.\n",
    "\n",
    "In the lecture notes, we showed that with a risk term that penalizes average VaR instead of variance, the risk-adjusted cost of trading associated with a given price path $\\{S_t\\}$ is given by\n",
    "\n",
    "$$\n",
    "C = \\int_0^T\\,(S_t - \\eta\\,v_t) \\,dx_t + \\lambda\\,\\sigma\\,\\int_0^T\\,x_t\\,dt\n",
    "$$\n",
    "\n",
    "for some price of risk $\\lambda$. We want to find a (possibly state-dependent) control $v_t$ that minimizes the expected cost $\\cC=\\E[C]$.\n",
    "\n",
    "(a) Apply the technique of integration by parts to simplify the term $\\int_0^T S_t dx_t$. Does the optimal strategy depend on the stock price $S_t$?  Why not?  Write down the HJB equation for the resulting problem.\n",
    "\n",
    "(b) Solve the first order condition to find the optimal trading rate $v^\\star$.    \n",
    "\n",
    "(c) Substitute $v^\\star$ back into the HJB equation to show that the value function $\\cC$ must satisfy\n",
    "$$\n",
    "\\cC_t = \\frac{\\cC_x^2}{4\\,\\eta\\,} - \\lambda \\sigma x.\n",
    "$$\n",
    "\n",
    "(d) With the terminal condition, \n",
    "\n",
    "$$\\lim_{t\\uparrow T}\\cC(t,x) = \\begin{cases}0&\\text{if $x=0$,}\\\\\n",
    "+\\infty&\\text{if $x\\neq0$.}\n",
    "\\end{cases}$$\n",
    "\n",
    "solve the HJB equation with the ansatz $\\cC(t,x) = \\eta\\,\\left[a(t)\\,x^2 + b(t)\\,x + c(t)\\right]$. Verify that the optimal trading rate is given by\n",
    "\n",
    "$$\n",
    "v^\\star = \\frac{x}{T-t} - \\frac{1}{4}\\, \\kappa \\, (T-t)\n",
    "$$\n",
    "\n",
    "with \n",
    "\n",
    "$$\n",
    "\\kappa = \\frac{\\lambda\\,\\sigma}{\\eta}.\n",
    "$$\n",
    "\n",
    "(e) Define the characteristic time $T^\\star$ as\n",
    "\n",
    "$$\n",
    "T^\\star=\\sqrt{\\frac{4\\,X}{\\kappa}}=\\sqrt{\\frac{4\\,\\eta\\,X}{\\lambda\\,\\sigma}}.\n",
    "$$\n",
    "\n",
    "\n",
    "Verify that the optimal trading strategy with liquidation horizon set to the characteristic time $T^\\star$ is given by\n",
    "\n",
    "$$\n",
    "\\begin{eqnarray*}\n",
    "x_t&=&X\\,\\left(1-\\frac{t}{T^\\star}\\right)^2.\n",
    "\\end{eqnarray*}\n",
    "$$\n"
   ]
  },
  {
   "cell_type": "markdown",
   "metadata": {},
   "source": [
    "#### <font color=blue> Solution 1(a). </font>"
   ]
  },
  {
   "cell_type": "markdown",
   "metadata": {},
   "source": [
    "To simplify this term, we use integration by part and get:\n",
    "$$\\int_0^TS_tdx_t = S_tx_t\\big|_0^T-\\sigma\\int_0^Tx_tdZ_t=-S_0X-\\sigma\\int_0^Tx_tdZ_t$$\n",
    "And we have $v_t=-\\dot{x}_t$, which means $dx_t=-v_tdt$. \n",
    "Thus, \n",
    "$$\\begin{align}C&=\\int_0^T\\,(S_t - \\eta\\,v_t) \\,dx_t + \\lambda\\,\\sigma\\,\\int_0^T\\,x_t\\,dt\\\\\n",
    "&=-S_0X-\\sigma\\int_0^Tx_tdZ_t+\\int_0^T(\\eta v_t^2+\\lambda\\sigma x_t)dt\n",
    "\\end{align}$$\n",
    "The expectation of this cost functions is $$\\mathcal{C}^{(v)}(t,x)=\\mathbb{E}(C)=-S_0X+\\int_0^T(\\eta v_t^2+\\lambda\\sigma x_t)dt$$\n",
    "Given that the control process evolves at $dx_t=-v_tdt$, we have the HJB equation:\n",
    "$$\\mathcal{C}_t+\\min_{v\\in\\mathcal{G}}(\\eta v^2+\\lambda\\sigma x-v\\mathcal{C}_x)=0$$"
   ]
  },
  {
   "cell_type": "markdown",
   "metadata": {},
   "source": [
    "#### <font color=blue> Solution 1(b). </font>"
   ]
  },
  {
   "cell_type": "markdown",
   "metadata": {},
   "source": [
    "The first order condition is \n",
    "$$2\\eta v-\\mathcal{C}_x=0$$\n",
    "We get $v^*=\\frac{\\mathcal{C}_x}{2\\eta}$"
   ]
  },
  {
   "cell_type": "markdown",
   "metadata": {},
   "source": [
    "#### <font color=blue> Solution 1(c). </font>"
   ]
  },
  {
   "cell_type": "markdown",
   "metadata": {},
   "source": [
    "Substitute $v^*=\\frac{\\mathcal{C}_x}{2\\eta}$ back, we get $$\\mathcal{C}_t+\\eta\\frac{\\mathcal{C}_x^2}{4\\eta^2}+\\lambda\\sigma x-\\frac{\\mathcal{C}_x^2}{2\\eta}=0$$ and we arrange it to get $$\\mathcal{C}_t=\\frac{\\mathcal{C}_x^2}{4\\eta}-\\lambda\\sigma x$$"
   ]
  },
  {
   "cell_type": "markdown",
   "metadata": {},
   "source": [
    "#### <font color=blue> Solution 1(d). </font>"
   ]
  },
  {
   "cell_type": "markdown",
   "metadata": {},
   "source": [
    "Assume $$\\mathcal{C}(t, x)=\\eta\\left[a(t) x^2+b(t) x+c(t)\\right]$$\n",
    "From the terminal conditions $$\\lim _{t \\uparrow T} \\mathcal{C}(t, x)= \\begin{cases}0 & \\text { if } x=0 \\\\ +\\infty & \\text { if } x \\neq 0\\end{cases}$$\n",
    "We get that $c(T)=0$ and $a(T)x^2+b(T)x\\to\\infty$ when $x\\neq 0$.\n",
    "Plug the expression of $\\mathcal{C}$ into the equation we get from (c), we get\n",
    "$$a'(t)x^2+b'(t)x+c'(t)=\\frac{(2xa(t)+b(t))^2}{4}-\\frac{\\lambda \\sigma}{\\eta} x$$ holds for every $x$. Thus we have the coefficients of $x$ and $x^2$ to be equal with left and right hand sides. We get\n",
    "$$\\left\\{\\begin{array}{l}  a^{\\prime}- a^2=0 \\\\   b^{\\prime}- a b+\\frac{\\lambda \\sigma}{\\eta}=0 \\\\   c^{\\prime}-\\frac{b^2}{4}=0\\end{array}\\right.$$\n",
    "Solving this we get\n",
    "$$\\begin{aligned} & a(t)=\\frac{1}{T-t} \\\\ & b(t)=\\frac{\\lambda\\sigma}{2\\eta}(T-t) \\\\ & c(t)=-\\frac{\\lambda^2\\sigma^2}{48\\eta^2}(T-t)^3\\end{aligned}$$\n",
    "With $\\kappa = \\lambda\\sigma/\\eta$ we have $$\\begin{aligned} & a(t)=\\frac{1}{T-t} \\\\ & b(t)=\\frac{\\kappa}{2}(T-t) \\\\ & c(t)=-\\frac{\\kappa^2}{48}(T-t)^3\\end{aligned}$$\n",
    "So $$\\mathcal{C}(t, x)=\\eta\\left[a(t) x^2+b(t) x+c(t)\\right]=\\eta\\left[\\frac{1}{T-t}x^2+\\frac{\\kappa}{2}(T-t)x-\\frac{\\kappa^2}{48}(T-t)^3\\right]$$\n",
    "and\n",
    "$$v^*=\\frac{\\mathcal{C}_x}{2\\eta} = \\frac{x}{T-t}-\\frac{1}{4} \\kappa(T-t)$$"
   ]
  },
  {
   "cell_type": "markdown",
   "metadata": {},
   "source": [
    "#### <font color=blue> Solution 1(e). </font>"
   ]
  },
  {
   "cell_type": "markdown",
   "metadata": {},
   "source": [
    "Take $$-\\dot{x}_t=v^*_t=\\frac{\\mathcal{C}_x}{2\\eta} = \\frac{x}{T-t}-\\frac{1}{4} \\kappa(T-t)$$ as a differential equation and solve it with boundary conditions $x_0 = X$ and $x_T = 0$\n",
    "Get the solution $$x_t=\\left(\\frac{X}{T}+\\frac{\\kappa}{4} t\\right)(T-t)$$\n",
    "and get $$v_t=\\frac{X}{T}+\\frac{\\kappa}{2}t-\\frac{\\kappa}{4}T$$\n",
    "Since we have defined $$T^*=\\sqrt{\\frac{4X}{\\kappa}}$$, plug it in the solution and get\n",
    "$$\\begin{eqnarray*}\n",
    "x_t&=&X\\,\\left(1-\\frac{t}{T^\\star}\\right)^2.\n",
    "\\end{eqnarray*}$$"
   ]
  },
  {
   "cell_type": "markdown",
   "metadata": {},
   "source": [
    "## Kratz and Schöneborn with time-averaged VaR risk charge"
   ]
  },
  {
   "cell_type": "markdown",
   "metadata": {},
   "source": [
    "### 2. (12 points)\n",
    "\n",
    "Consider the Kratz and Schöneborn dark pool liquidation problem with time-averaged VaR\n",
    "\n",
    "$$\n",
    "\\lambda\\,\\sigma\\,\\int_0^T\\,x_t\\,dt\n",
    "$$\n",
    "\n",
    "as the risk term (rather than the quadratic variation $\\lambda\\,\\sigma^2\\,\\int_0^T\\,x_t^2\\,dt$).  \n",
    "\n",
    "(a) Explain why this problem can be cast as a deterministic optimization problem which can be solved using calculus of variations.\n",
    "\n",
    "(b) Show that the optimal position $x$ must satisfy the Euler-Lagrange equation\n",
    "\n",
    "$$\n",
    "\\ddot x_t-\\theta\\,\\dot x_t - A=0\n",
    "$$\n",
    "\n",
    "with $A = \\frac{\\lambda\\sigma}{2\\eta}$.\n",
    "\n",
    "(c) Verify that that the optimal strategy is\n",
    "\n",
    "$$\n",
    "x^\\star(t)=\\left(X-\\frac{A\\, T}{\\theta }\\right)\\,\\frac{1-e^{-\\theta\\,(T-t)} }{1-e^{-\\theta\\,T }}+\\frac{A }{\\theta }\\,(T-t).\n",
    "$$\n",
    "\n",
    "(d) By taking the limit $\\theta \\to 0^+$ of the solution in (c), show that we retrieve the solution derived in the slides with no dark pool\n",
    "\n",
    "$$\n",
    "x^\\star(t)=\\left(X-\\frac{A \\, T}{2}\\,t\\right)\\,\\left(1-\\frac{t}{T}\\right) .\n",
    "$$\n"
   ]
  },
  {
   "cell_type": "markdown",
   "metadata": {},
   "source": [
    "#### <font color=blue> Solution 2(a). </font>"
   ]
  },
  {
   "cell_type": "markdown",
   "metadata": {},
   "source": [
    "Because we are optimizing the expected value of the cost, and the expected value will factor out the diffusion of the price. So we can deal with it as a deterministic optimization problem."
   ]
  },
  {
   "cell_type": "markdown",
   "metadata": {},
   "source": [
    "#### <font color=blue> Solution 2(b). </font>"
   ]
  },
  {
   "cell_type": "markdown",
   "metadata": {},
   "source": [
    "When we sustitute quadratic risk terms to time-averaged VaR, the HJB equation for this problem is\n",
    "$$\\frac{\\partial \\mathcal{C}}{\\partial t}+\\lambda \\sigma x+\\min _{v, y \\in \\mathcal{G}}\\left\\{-v \\mathcal{C}_x+\\eta v^2+\\theta[\\mathcal{C}(t, x-y)-\\mathcal{C}(t, x)]\\right\\}=0$$\n",
    "The first order condition of $v$ is\n",
    "$$\\frac{\\partial}{\\partial v}(-v \\mathcal{C}_x+\\eta v^2+\\theta[\\mathcal{C}(t, x-y)-\\mathcal{C}(t, x)])=2\\eta v-\\mathcal{C}_x=0$$\n",
    "Thus $$v_t^*=\\frac{\\mathcal{C}_x}{2\\eta}$$\n",
    "And the optimal value for $y$ is $y=x$ since the cost function is increasing function. Thus by plugging back to the HJB equation, we get\n",
    "$$\\mathcal{C}_t+\\lambda\\sigma x-\\theta \\mathcal{C}-\\frac{\\mathcal{C}_x^2}{4\\eta}=0$$\n",
    "So $$\\mathcal{C}_t=\\theta \\mathcal{C}+\\frac{\\mathcal{C}_x^2}{4\\eta}-\\lambda\\sigma x$$\n",
    "Take derivatives of x on both sides and get\n",
    "$$\\mathcal{C}_{tx}=\\theta \\mathcal{C}_x-\\lambda\\sigma$$\n",
    "Thus $$\\dot{v}_t=\\frac{\\mathcal{C}_{xt}}{2\\eta}=\\frac{\\theta \\mathcal{C}_x-\\lambda\\sigma}{2\\eta}=v_t-A$$where $A=\\frac{\\lambda\\sigma}{2\\eta}$. Since $v_t=-\\dot{x}_t$, we conclude\n",
    "$$\\ddot x_t-\\theta\\,\\dot x_t - A=0$$"
   ]
  },
  {
   "cell_type": "markdown",
   "metadata": {},
   "source": [
    "#### <font color=blue> Solution 2(c). </font>"
   ]
  },
  {
   "cell_type": "markdown",
   "metadata": {},
   "source": [
    "For \n",
    "$$x^\\star(t)=\\left(X-\\frac{A\\, T}{\\theta }\\right)\\,\\frac{1-e^{-\\theta\\,(T-t)} }{1-e^{-\\theta\\,T }}+\\frac{A }{\\theta }\\,(T-t)$$ we have\n",
    "$$\\ddot{x}^\\star(t)=-\\left(X-\\frac{A\\, T}{\\theta }\\right)\\frac{\\theta^2e^{-\\theta\\,(T-t)}}{1-e^{-\\theta\\,T }}$$\n",
    "and \n",
    "$$\\dot{x}^\\star(t)=-\\left(X-\\frac{A\\, T}{\\theta }\\right)\\frac{\\theta e^{-\\theta\\,(T-t)}}{1-e^{-\\theta\\,T }}-\\frac{A}{\\theta}$$\n",
    "Thus $$\\ddot x_t-\\theta\\,\\dot x_t - A=-\\left(X-\\frac{A\\, T}{\\theta }\\right)\\frac{\\theta^2e^{-\\theta\\,(T-t)}}{1-e^{-\\theta\\,T }}+\\left(X-\\frac{A\\, T}{\\theta }\\right)\\frac{\\theta^2 e^{-\\theta\\,(T-t)}}{1-e^{-\\theta\\,T }}+A-A=0$$\n",
    "So it satisfies the Euler-Lagrange equation. Moreover, \n",
    "$$x^\\star(T) = 0$$ and $$x^\\star(0) = X-\\frac{A }{\\theta }\\,T+\\frac{A }{\\theta }\\,T=X$$\n",
    "Thus $x^\\star$ is the optimal strategy."
   ]
  },
  {
   "cell_type": "markdown",
   "metadata": {},
   "source": [
    "#### <font color=blue> Solution 2(d). </font>"
   ]
  },
  {
   "cell_type": "markdown",
   "metadata": {},
   "source": [
    "Take Taylor expansion for $e^x$ around 0 and get\n",
    "$$\\begin{align} x^\\star(t)&\\approx\\left(X-\\frac{A\\, T}{\\theta }\\right)\\,\\frac{(T-t)-\\frac{1}{2}\\theta(T-t)^2 }{T-\\frac{1}{2}\\theta T^2 }+\\frac{A }{\\theta }\\,(T-t)\\\\\n",
    "&=X\\frac{(T-t)-\\frac{1}{2}\\theta(T-t)^2 }{T-\\frac{1}{2}\\theta T^2 }-A\\frac{\\frac{1}{2}(T-t)t}{1-\\frac{1}{2}\\theta T}\n",
    "\\end{align}$$\n",
    "Take $\\theta \\to 0+$ and get the limitation $$\\lim_{\\theta\\to 0+}x^\\star(t,\\theta)=\\left(X-\\frac{A \\, T}{2}\\,t\\right)\\,\\left(1-\\frac{t}{T}\\right)$$"
   ]
  }
 ],
 "metadata": {
  "celltoolbar": "Slideshow",
  "kernelspec": {
   "display_name": "Python 3 (ipykernel)",
   "language": "python",
   "name": "python3"
  },
  "language_info": {
   "codemirror_mode": {
    "name": "ipython",
    "version": 3
   },
   "file_extension": ".py",
   "mimetype": "text/x-python",
   "name": "python",
   "nbconvert_exporter": "python",
   "pygments_lexer": "ipython3",
   "version": "3.11.4"
  },
  "varInspector": {
   "cols": {
    "lenName": 16,
    "lenType": 16,
    "lenVar": 40
   },
   "kernels_config": {
    "python": {
     "delete_cmd_postfix": "",
     "delete_cmd_prefix": "del ",
     "library": "var_list.py",
     "varRefreshCmd": "print(var_dic_list())"
    },
    "r": {
     "delete_cmd_postfix": ") ",
     "delete_cmd_prefix": "rm(",
     "library": "var_list.r",
     "varRefreshCmd": "cat(var_dic_list()) "
    }
   },
   "types_to_exclude": [
    "module",
    "function",
    "builtin_function_or_method",
    "instance",
    "_Feature"
   ],
   "window_display": false
  }
 },
 "nbformat": 4,
 "nbformat_minor": 4
}
