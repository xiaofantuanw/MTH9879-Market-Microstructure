{
 "cells": [
  {
   "cell_type": "markdown",
   "metadata": {},
   "source": [
    "# MTH9879 Homework 7\n",
    "\n",
    "Assigned: March 14, 2024.\n",
    "Due: March 28, 2024 by 6pm. \n",
    "\n",
    "Late homework **will not be accepted**.\n",
    "\n",
    "$$\n",
    "\\newcommand{\\supp}{\\mathrm{supp}}\n",
    "\\newcommand{\\E}{\\mathbb{E}}\n",
    "\\newcommand{\\Eof}[1]{\\mathbb{E}\\left[ #1 \\right]}\n",
    "\\def\\Cov{{ \\mbox{Cov} }}\n",
    "\\def\\Var{{ \\mbox{Var} }}\n",
    "\\newcommand{\\1}{\\mathbf{1} }\n",
    "\\newcommand{\\PP}{\\mathbb{P} }\n",
    "%\\newcommand{\\Pr}{\\mathrm{Pr} }\n",
    "\\newcommand{\\QQ}{\\mathbb{Q} }\n",
    "\\newcommand{\\RR}{\\mathbb{R} }\n",
    "\\newcommand{\\DD}{\\mathbb{D} }\n",
    "\\newcommand{\\HH}{\\mathbb{H} }\n",
    "\\newcommand{\\spn}{\\mathrm{span} }\n",
    "\\newcommand{\\cov}{\\mathrm{cov} }\n",
    "\\newcommand{\\sgn}{\\mathrm{sgn} }\n",
    "\\newcommand{\\HS}{\\mathcal{L}_{\\mathrm{HS}} }\n",
    "%\\newcommand{\\HS}{\\mathrm{HS} }\n",
    "\\newcommand{\\trace}{\\mathrm{trace} }\n",
    "\\newcommand{\\LL}{\\mathcal{L} }\n",
    "%\\newcommand{\\LL}{\\mathrm{L} }\n",
    "\\newcommand{\\s}{\\mathcal{S} }\n",
    "\\newcommand{\\ee}{\\mathcal{E} }\n",
    "\\newcommand{\\ff}{\\mathcal{F} }\n",
    "\\newcommand{\\hh}{\\mathcal{H} }\n",
    "\\newcommand{\\bb}{\\mathcal{B} }\n",
    "\\newcommand{\\dd}{\\mathcal{D} }\n",
    "\\newcommand{\\g}{\\mathcal{G} }\n",
    "\\newcommand{\\p}{\\partial}\n",
    "\\newcommand{\\half}{\\frac{1}{2} }\n",
    "\\newcommand{\\T}{\\mathcal{T} }\n",
    "\\newcommand{\\bi}{\\begin{itemize}}\n",
    "\\newcommand{\\ei}{\\end{itemize}}\n",
    "\\newcommand{\\beq}{\\begin{equation}}\n",
    "\\newcommand{\\eeq}{\\end{equation}}\n",
    "\\newcommand{\\beas}{\\begin{eqnarray*}}\n",
    "\\newcommand{\\eeas}{\\end{eqnarray*}}\n",
    "\\newcommand{\\cO}{\\mathcal{O}}\n",
    "\\newcommand{\\cF}{\\mathcal{F}}\n",
    "\\newcommand{\\cL}{\\mathcal{L}}\n",
    "\\newcommand{\\BS}{\\text{BS}}\n",
    "$$"
   ]
  },
  {
   "cell_type": "markdown",
   "metadata": {},
   "source": [
    "<font color = \"red\">Homework is to be done by each student individually. To receive full credit, you must upload a completed copy of this Jupyter notebook to this [Dropbox File Request link](https://www.dropbox.com/request/omNtMfpe4NQKnrU9iOPI) by the due date and time.  All python code must run correctly and solutions must be written up neatly in Markdown/LaTeX format."
   ]
  },
  {
   "cell_type": "markdown",
   "metadata": {},
   "source": [
    "<font color=blue>Please name your submission as <b>9879HW07_Lastname_Firstname.ipynb</b> (noticing the underscores) <br>\n",
    "e.g., for John Smith, the filename should read 9879HW07_Smith_John. <br> </font>\n",
    "<font color=red><i>Violation of the naming rule will incur a 20% penalty to the score. </i></font>"
   ]
  },
  {
   "cell_type": "markdown",
   "metadata": {},
   "source": [
    "<font color=\"blue\">If you encounter problems with Markdown/LaTeX or Jupyter notebook, please contact your TAs: Robert Wei (robert.wei.p72@gmail.com) and Adam Wen (wen.adam@hotmail.com).</font>"
   ]
  },
  {
   "cell_type": "markdown",
   "metadata": {},
   "source": [
    "### 0. (0 points) \n",
    "Read Chapters 10, 13 and 14 of Trades, Quotes and Prices"
   ]
  },
  {
   "cell_type": "markdown",
   "metadata": {},
   "source": [
    "## Long memory"
   ]
  },
  {
   "cell_type": "markdown",
   "metadata": {},
   "source": [
    "### 1. (6 points)\n",
    "\n",
    "Consider the long memory process\n",
    "\n",
    "$$\n",
    "X_T=\\sum_{i=1}^T\\,\\epsilon_i\n",
    "$$\n",
    "\n",
    "with autocovariance function $\\gamma(\\tau)=\\E[\\epsilon_i\\,\\epsilon_{i-\\tau}] \\sim \\tau^{-\\alpha}, \\tfrac12<\\alpha <1$.  Show that as $\\tau \\to \\infty$,\n",
    "\n",
    "$$\n",
    "\\Var[X_{t+\\tau}-X_t] \\sim \\tau ^{2 H}\n",
    "$$\n",
    "\n",
    "where the Hurst exponent $H$ is given by\n",
    "\n",
    "$$\n",
    "H=1-\\frac{\\alpha}{2}.\n",
    "$$"
   ]
  },
  {
   "cell_type": "markdown",
   "metadata": {},
   "source": [
    "#### <font color=blue> Solution 1. </font>"
   ]
  },
  {
   "cell_type": "markdown",
   "metadata": {},
   "source": [
    "The variance of the difference is\n",
    "$$\\begin{align}\\Var[X_{t+\\tau}-X_t]&=\\Var[\\sum_{i=t+1}^{t+\\tau}\\epsilon_i]\\\\&=\\sum_{i,j=t+1}^{t+\\tau} \\E[\\epsilon_i\\epsilon_j]\\\\&= \\tau+2(\\tau-1)\\gamma(1)+2(\\tau-2)\\gamma(2)+\\cdots+2\\gamma(\\tau-1) \\\\&\\sim \\tau+2(\\tau-1)1^{-\\alpha}+2(\\tau-2)2^{-\\alpha}+\\cdots+2(\\tau-1)^{-\\alpha}\\\\&=\\tau+2\\sum_{i=1}^{\\tau-1}(\\tau-i)i^{-\\alpha}\\\\\n",
    "&\\sim\\tau+2\\int_{1}^{\\tau}\\tau x^{-\\alpha} -x^{1-\\alpha} dx\\\\\n",
    "&= \\tau + 2(\\frac{1}{1-\\alpha}(\\tau^{2-\\alpha}-\\tau)-\\frac{1}{2-\\alpha}(\\tau^{2-\\alpha}-1))\\\\&\\sim \\tau^{2-\\alpha}=\\tau^{2H}\n",
    "\\end{align}$$\n",
    "When $\\alpha\\in(\\frac{1}{2},1)$ and $\\tau\\to\\infty$"
   ]
  },
  {
   "cell_type": "markdown",
   "metadata": {},
   "source": [
    "## BAC data from 19-Sep-2017 again"
   ]
  },
  {
   "cell_type": "markdown",
   "metadata": {},
   "source": [
    "#### Set up `Python` environment"
   ]
  },
  {
   "cell_type": "code",
   "execution_count": 1,
   "metadata": {},
   "outputs": [],
   "source": [
    "import numpy as np\n",
    "import pandas as pd\n",
    "import matplotlib.pyplot as plt\n",
    "from statsmodels.tsa.ar_model import AutoReg, ar_select_order\n",
    "from statsmodels.tsa.stattools import acf"
   ]
  },
  {
   "cell_type": "code",
   "execution_count": 2,
   "metadata": {},
   "outputs": [],
   "source": [
    "import warnings\n",
    "warnings.filterwarnings(\"ignore\")"
   ]
  },
  {
   "cell_type": "code",
   "execution_count": 3,
   "metadata": {},
   "outputs": [],
   "source": [
    "tqdata = pd.read_csv('tqDataBAC1_20170919.csv')\n",
    "tqdata['TIME'] = pd.to_datetime(tqdata['TIME'])\n",
    "tqdata = tqdata.set_index('TIME')\n",
    "\n",
    "trade_signs = tqdata['SIGN']"
   ]
  },
  {
   "cell_type": "markdown",
   "metadata": {},
   "source": [
    "### 2. (12 points)\n",
    "\n",
    "(a) Fit an AR(1) model to `trade_signs` to give the forecast:\n",
    "<p>\n",
    "    $$\n",
    "    \\hat \\epsilon^{(1)}_t=\\phi_1\\,\\epsilon_{t-1}\n",
    "    $$\n",
    "\n",
    "(b) How does $\\phi_1$ relate to the autocorrelation coefficients of `trade_signs`?  \n",
    "    \n",
    "(c)    What is the mean-squared error of this AR(1) forecast?\n",
    "\n",
    "(d) Fit an $AR(p)$ model to `trade_signs`, allowing `Python` to find the best value of $p$ using the Bayes Information Criterion (BIC).  This generates the forecast:\n",
    "    $$\n",
    "    \\hat \\epsilon^{(2)}_t=\\sum_{k=1}^p\\,\\phi_k\\,\\epsilon_{t-k}.\n",
    "    $$\n",
    "What value of $p$ is selected by `Python`? \n",
    "    \n",
    "(e)    What is the mean-squared error of this AR(p) forecast?\n"
   ]
  },
  {
   "cell_type": "markdown",
   "metadata": {},
   "source": [
    "#### <font color=blue> Solution 2(a). </font>"
   ]
  },
  {
   "cell_type": "code",
   "execution_count": 8,
   "metadata": {},
   "outputs": [
    {
     "name": "stdout",
     "output_type": "stream",
     "text": [
      "Coefficients:\n",
      "const     -0.059194\n",
      "SIGN.L1    0.475231\n",
      "dtype: float64\n"
     ]
    }
   ],
   "source": [
    "# Fit an AR(1) model to the trade_signs series\n",
    "model = AutoReg(trade_signs, lags=1)\n",
    "model_fitted = model.fit()\n",
    "\n",
    "# Display the coefficients\n",
    "print(\"Coefficients:\")\n",
    "print(model_fitted.params)\n"
   ]
  },
  {
   "cell_type": "markdown",
   "metadata": {},
   "source": [
    "#### <font color=blue> Solution 2(b). </font>"
   ]
  },
  {
   "cell_type": "code",
   "execution_count": 10,
   "metadata": {
    "scrolled": true
   },
   "outputs": [
    {
     "name": "stdout",
     "output_type": "stream",
     "text": [
      "Lag  0: 1.000\n",
      "Lag  1: 0.475\n",
      "Lag  2: 0.379\n",
      "Lag  3: 0.350\n",
      "Lag  4: 0.324\n",
      "Lag  5: 0.305\n",
      "Lag  6: 0.284\n",
      "Lag  7: 0.267\n",
      "Lag  8: 0.250\n",
      "Lag  9: 0.240\n",
      "Lag 10: 0.232\n",
      "Lag 11: 0.227\n",
      "Lag 12: 0.214\n",
      "Lag 13: 0.201\n",
      "Lag 14: 0.200\n",
      "Lag 15: 0.199\n",
      "Lag 16: 0.188\n",
      "Lag 17: 0.181\n",
      "Lag 18: 0.172\n",
      "Lag 19: 0.169\n",
      "Lag 20: 0.169\n",
      "Lag 21: 0.164\n",
      "Lag 22: 0.160\n",
      "Lag 23: 0.158\n",
      "Lag 24: 0.159\n",
      "Lag 25: 0.156\n",
      "Lag 26: 0.150\n",
      "Lag 27: 0.148\n",
      "Lag 28: 0.142\n",
      "Lag 29: 0.134\n",
      "Lag 30: 0.138\n",
      "Lag 31: 0.139\n",
      "Lag 32: 0.122\n",
      "Lag 33: 0.119\n",
      "Lag 34: 0.121\n",
      "Lag 35: 0.111\n",
      "Lag 36: 0.112\n",
      "Lag 37: 0.114\n",
      "Lag 38: 0.105\n",
      "Lag 39: 0.107\n",
      "Lag 40: 0.108\n",
      "Lag 41: 0.104\n",
      "Lag 42: 0.104\n",
      "Lag 43: 0.104\n"
     ]
    }
   ],
   "source": [
    "# Calculate the autocorrelation coefficients\n",
    "autocorr_coeffs = acf(trade_signs, fft=True)\n",
    "\n",
    "# Print the autocorrelation coefficients\n",
    "for lag, value in enumerate(autocorr_coeffs):\n",
    "    print(f\"Lag {lag:2}: {value:.3f}\")\n"
   ]
  },
  {
   "cell_type": "code",
   "execution_count": 11,
   "metadata": {},
   "outputs": [
    {
     "data": {
      "image/png": "[encoded data removed]",
      "text/plain": [
       "<Figure size 1000x500 with 1 Axes>"
      ]
     },
     "metadata": {},
     "output_type": "display_data"
    }
   ],
   "source": [
    "# plot the autocorrelation function\n",
    "plt.figure(figsize=(10, 5))\n",
    "plt.stem(range(len(autocorr_coeffs)), autocorr_coeffs, use_line_collection=True)\n",
    "plt.xlabel('Lag')\n",
    "plt.ylabel('Autocorrelation')\n",
    "plt.title('Autocorrelation Function')\n",
    "plt.show()"
   ]
  },
  {
   "cell_type": "markdown",
   "metadata": {},
   "source": [
    "The plot shows that there is long memory in the trade signs. If the memory is short, the autocorrelation coefficients with lag $p$ should simply be $\\phi_1^p$ or close to it, since only the model with lag 1 has effect."
   ]
  },
  {
   "cell_type": "markdown",
   "metadata": {},
   "source": [
    "#### <font color=blue> Solution 2(c). </font>"
   ]
  },
  {
   "cell_type": "code",
   "execution_count": 12,
   "metadata": {},
   "outputs": [
    {
     "name": "stdout",
     "output_type": "stream",
     "text": [
      "MSE of AR(1) model:  0.7643048007879093\n"
     ]
    }
   ],
   "source": [
    "print(\"MSE of AR(1) model: \", model_fitted.resid.pow(2).mean())"
   ]
  },
  {
   "cell_type": "markdown",
   "metadata": {},
   "source": [
    "#### <font color=blue> Solution 2(d). </font>"
   ]
  },
  {
   "cell_type": "code",
   "execution_count": 14,
   "metadata": {},
   "outputs": [
    {
     "name": "stdout",
     "output_type": "stream",
     "text": [
      "Optimal lag length (p): [1, 2, 3, 4, 5, 6, 7, 8, 9, 10, 11, 12, 13, 14, 15]\n"
     ]
    }
   ],
   "source": [
    "# Use ar_select_order to select the optimal lag length p using BIC\n",
    "selected_order = ar_select_order(trade_signs, maxlag=50, ic='bic', trend='c')\n",
    "\n",
    "# Display the selected value of p\n",
    "print(\"Optimal lag length (p):\", selected_order.ar_lags)"
   ]
  },
  {
   "cell_type": "markdown",
   "metadata": {},
   "source": [
    "So the optimal value $p$ for $AR(p)$ model is 15."
   ]
  },
  {
   "cell_type": "markdown",
   "metadata": {},
   "source": [
    "#### <font color=blue> Solution 2(e). </font>"
   ]
  },
  {
   "cell_type": "code",
   "execution_count": 17,
   "metadata": {},
   "outputs": [
    {
     "name": "stdout",
     "output_type": "stream",
     "text": [
      "Coefficients:\n",
      "const      -0.023749\n",
      "SIGN.L1     0.312437\n",
      "SIGN.L2     0.102778\n",
      "SIGN.L3     0.087182\n",
      "SIGN.L4     0.057863\n",
      "SIGN.L5     0.048406\n",
      "SIGN.L6     0.031864\n",
      "SIGN.L7     0.024443\n",
      "SIGN.L8     0.013953\n",
      "SIGN.L9     0.015908\n",
      "SIGN.L10    0.015452\n",
      "SIGN.L11    0.022938\n",
      "SIGN.L12    0.011159\n",
      "SIGN.L13    0.002622\n",
      "SIGN.L14    0.016027\n",
      "SIGN.L15    0.026044\n",
      "dtype: float64\n"
     ]
    }
   ],
   "source": [
    "# Fit an AR(1) model to the trade_signs series\n",
    "model_opt = AutoReg(trade_signs, lags=15)\n",
    "model_opt_fitted = model.fit()\n",
    "\n",
    "# Display the coefficients\n",
    "print(\"Coefficients:\")\n",
    "print(model_opt_fitted.params)\n"
   ]
  },
  {
   "cell_type": "code",
   "execution_count": 18,
   "metadata": {},
   "outputs": [
    {
     "name": "stdout",
     "output_type": "stream",
     "text": [
      "MSE of AR(15) model:  0.696460725929187\n"
     ]
    }
   ],
   "source": [
    "print(\"MSE of AR(15) model: \", model_opt_fitted.resid.pow(2).mean())"
   ]
  }
 ],
 "metadata": {
  "celltoolbar": "Slideshow",
  "kernelspec": {
   "display_name": "Python 3 (ipykernel)",
   "language": "python",
   "name": "python3"
  },
  "language_info": {
   "codemirror_mode": {
    "name": "ipython",
    "version": 3
   },
   "file_extension": ".py",
   "mimetype": "text/x-python",
   "name": "python",
   "nbconvert_exporter": "python",
   "pygments_lexer": "ipython3",
   "version": "3.11.4"
  },
  "varInspector": {
   "cols": {
    "lenName": 16,
    "lenType": 16,
    "lenVar": 40
   },
   "kernels_config": {
    "python": {
     "delete_cmd_postfix": "",
     "delete_cmd_prefix": "del ",
     "library": "var_list.py",
     "varRefreshCmd": "print(var_dic_list())"
    },
    "r": {
     "delete_cmd_postfix": ") ",
     "delete_cmd_prefix": "rm(",
     "library": "var_list.r",
     "varRefreshCmd": "cat(var_dic_list()) "
    }
   },
   "types_to_exclude": [
    "module",
    "function",
    "builtin_function_or_method",
    "instance",
    "_Feature"
   ],
   "window_display": false
  }
 },
 "nbformat": 4,
 "nbformat_minor": 4
}
