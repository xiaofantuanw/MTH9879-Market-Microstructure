{
 "cells": [
  {
   "cell_type": "markdown",
   "metadata": {},
   "source": [
    "# MTH9879 Homework 3\n",
    "\n",
    "Assigned: February 8, 2024.\n",
    "Due: February 22, 2024 by 6pm. \n",
    "\n",
    "Late homework **will not be accepted**.\n",
    "\n",
    "$$\n",
    "\\newcommand{\\supp}{\\mathrm{supp}}\n",
    "\\newcommand{\\E}{\\mathbb{E}}\n",
    "\\newcommand{\\EE}{\\mathbb{E}}\n",
    "\\newcommand{\\Eof}[1]{\\mathbb{E}\\left[ #1 \\right]}\n",
    "\\def\\Cov{{ \\mbox{Cov} }}\n",
    "\\def\\Var{{ \\mbox{Var} }}\n",
    "\\newcommand{\\1}{\\mathbf{1} }\n",
    "\\newcommand{\\PP}{\\mathbb{P} }\n",
    "%\\newcommand{\\Pr}{\\mathrm{Pr} }\n",
    "\\newcommand{\\QQ}{\\mathbb{Q} }\n",
    "\\newcommand{\\RR}{\\mathbb{R} }\n",
    "\\newcommand{\\DD}{\\mathbb{D} }\n",
    "\\newcommand{\\HH}{\\mathbb{H} }\n",
    "\\newcommand{\\spn}{\\mathrm{span} }\n",
    "\\newcommand{\\cov}{\\mathrm{cov} }\n",
    "\\newcommand{\\sgn}{\\mathrm{sgn} }\n",
    "\\newcommand{\\HS}{\\mathcal{L}_{\\mathrm{HS}} }\n",
    "%\\newcommand{\\HS}{\\mathrm{HS} }\n",
    "\\newcommand{\\trace}{\\mathrm{trace} }\n",
    "\\newcommand{\\LL}{\\mathcal{L} }\n",
    "%\\newcommand{\\LL}{\\mathrm{L} }\n",
    "\\newcommand{\\s}{\\mathcal{S} }\n",
    "\\newcommand{\\ee}{\\mathcal{E} }\n",
    "\\newcommand{\\ff}{\\mathcal{F} }\n",
    "\\newcommand{\\hh}{\\mathcal{H} }\n",
    "\\newcommand{\\bb}{\\mathcal{B} }\n",
    "\\newcommand{\\dd}{\\mathcal{D} }\n",
    "\\newcommand{\\g}{\\mathcal{G} }\n",
    "\\newcommand{\\p}{\\partial}\n",
    "\\newcommand{\\half}{\\frac{1}{2} }\n",
    "\\newcommand{\\T}{\\mathcal{T} }\n",
    "\\newcommand{\\bi}{\\begin{itemize}}\n",
    "\\newcommand{\\ei}{\\end{itemize}}\n",
    "\\newcommand{\\beq}{\\begin{equation}}\n",
    "\\newcommand{\\eeq}{\\end{equation}}\n",
    "\\newcommand{\\beas}{\\begin{eqnarray*}}\n",
    "\\newcommand{\\eeas}{\\end{eqnarray*}}\n",
    "\\newcommand{\\cO}{\\mathcal{O}}\n",
    "\\newcommand{\\cF}{\\mathcal{F}}\n",
    "\\newcommand{\\cL}{\\mathcal{L}}\n",
    "\\newcommand{\\BS}{\\text{BS}}\n",
    "$$"
   ]
  },
  {
   "cell_type": "markdown",
   "metadata": {},
   "source": [
    "<font color = \"red\">Homework is to be done by each student individually. To receive full credit, you must upload a completed copy of this Jupyter notebook to this [Dropbox File Request link](https://www.dropbox.com/request/g26JmcfUA638TIMDKfuX) by the due date and time.  All python code must run correctly and solutions must be written up neatly in Markdown/LaTeX format.</font>"
   ]
  },
  {
   "cell_type": "markdown",
   "metadata": {},
   "source": [
    "<font color=blue>Please name your submission as <b>9879HW03_Lastname_Firstname.ipynb</b> (noticing the underscores) <br>\n",
    "e.g., for John Smith, the filename should read 9879HW03_Smith_John. <br> </font>\n",
    "<font color=red><i>Violation of the naming rule will incur a 20% penalty to the score. </i></font>"
   ]
  },
  {
   "cell_type": "markdown",
   "metadata": {},
   "source": [
    "<font color=\"blue\">If you encounter problems with Markdown/LaTeX or Jupyter notebook, please contact your TAs: Robert Wei (robert.wei.p72@gmail.com) and Adam Wen (wen.adam@hotmail.com).</font>"
   ]
  },
  {
   "cell_type": "markdown",
   "metadata": {},
   "source": [
    "### 0. (0 points) \n",
    "Read Chapter 11 of Hasbrouck and Section 3.5 of Foucault, Pagano and R&ouml;ell. <br>\n",
    "Also, read the article on high-frequency trading by Menkveld available at http://papers.tinbergen.nl/11076.pdf."
   ]
  },
  {
   "cell_type": "markdown",
   "metadata": {},
   "source": [
    "## The Garman (1976) model"
   ]
  },
  {
   "cell_type": "markdown",
   "metadata": {},
   "source": [
    "### 1. (6 points) \n",
    "Suppose supply and demand functions satisfy\n",
    "\n",
    "$$\n",
    "P_A(\\lambda) = 101 − 18\\lambda + \\lambda^2; \\; P_B(\\lambda) = 61 + 2\\lambda + \\lambda^2,\n",
    "$$\n",
    "\n",
    "where $\\lambda$ is the market order arrival rate per minute and $P_B(\\cdot)$ and $P_A(\\cdot)$ denote supply and demand curves respectively. <br>\n",
    "Determine the dealer’s optimal bid $B$ and ask $A$ and the average profit per minute."
   ]
  },
  {
   "cell_type": "markdown",
   "metadata": {},
   "source": [
    "#### <font color=blue> Solution 1. </font>"
   ]
  },
  {
   "cell_type": "markdown",
   "metadata": {},
   "source": [
    "We should maximize the unit profit as shown below.\n",
    "$$\\pi(B,A)(\\lambda)=(P_A(\\lambda)-P_B(\\lambda))\\lambda=40\\lambda-20\\lambda^2=-20(\\lambda-1)^2+20$$\n",
    "As the derivation above, we can see the profit takes the maximum value at $\\lambda^\\star=1$.<br>\n",
    "The optimal bid $$P_B(\\lambda^\\star)=61+2\\lambda^\\star+(\\lambda^\\star)^2=64$$\n",
    "The optimal ask $$P_A(\\lambda^\\star)=101-18\\lambda^\\star+(\\lambda^\\star)^2=84$$\n",
    "The average profit per minute $$\\pi(B,A)=\\lambda^\\star(A-B)=20$$"
   ]
  },
  {
   "cell_type": "markdown",
   "metadata": {},
   "source": [
    "## The Stoll (1978) model"
   ]
  },
  {
   "cell_type": "markdown",
   "metadata": {},
   "source": [
    "### 2. (4 points) \n",
    "In the Stoll (1978) model, assuming exponential utility with $S \\sim N(\\mu, \\sigma^2)$, and with current inventory $q$ shares, what are the dealer’s indifference bid and ask prices for $n$ shares?"
   ]
  },
  {
   "cell_type": "markdown",
   "metadata": {},
   "source": [
    "#### <font color=blue> Solution 2. </font>"
   ]
  },
  {
   "cell_type": "markdown",
   "metadata": {},
   "source": [
    "Suppose the bid to be $B$, the dealer will be indifferent when the expected utility is the same.\n",
    "$$\\E[U\\left((q+n)S-nB\\right)]=\\E[U(qS)]$$\n",
    "Given the utility function $$U(W)=-e^{-\\alpha W}$$\n",
    "We have $$(q+n)\\E[S]-nB-\\frac{\\alpha}{2}Var[(q+n)S]=q\\E[S]-\\frac{\\alpha}{2}Var[qS]$$\n",
    "and that $$B=\\mu-\\frac{\\alpha}{2n}[(q+n)^2-q^2]\\sigma^2=\\mu-\\frac{\\alpha}{2}(2q+n)\\sigma^2$$\n",
    "For the ask side, suppose the ask price to be $A$, the indifferent function will be\n",
    "$$\\E[U\\left((q-n)S+nA\\right)]=\\E[U(qS)]$$\n",
    "So that \n",
    "$$(q-n)\\E[S]+nA-\\frac{\\alpha}{2}Var[(q-n)S]=q\\E[S]-\\frac{\\alpha}{2}Var[qS]$$\n",
    "$$A=\\mu+\\frac{\\alpha}{2}(-2q+n)\\sigma^2$$"
   ]
  },
  {
   "cell_type": "markdown",
   "metadata": {},
   "source": [
    "### 3. (10 points)\n",
    "As mentioned in Lecture 3, in real markets, bid and ask prices $B$ and $A$ are often given and the dealer must decide how much size to quote at these fixed prices.  Suppose there are currently $Q_A$ offered and $Q_B$ shares bid.  According to Lecture 1,\n",
    "\n",
    "$$\n",
    "\\Eof{S} \\approx M + \\frac s 2 \\,\\frac 4\\pi \\,\\arctan I.\n",
    "$$\n",
    "\n",
    "where $M$ is the mid-price, $s=A-B$, and the book imbalance is given by\n",
    "\n",
    "$$\n",
    "I = \\frac{Q_B-Q_A}{Q_B + Q_A}.\n",
    "$$\n",
    "\n",
    "Assume that $S$ is normally distributed with variance $\\sigma^2$, that the dealer has exponential utility, and that his current inventory is $q$.\n",
    "\n",
    "(a) Use your answer to Problem 2 to show that the indifference size $n_B$ the dealer should quote at the bid $B$ is given by\n",
    "\n",
    "$$\n",
    "n_B = \\frac{s}{\\alpha\\,\\sigma^2}\\,\\left(  1+\\frac 4 \\pi \\,\\arctan I \\right) - 2\\,q.\n",
    "$$\n",
    "\n",
    "(b) Derive a similar formula for the indifference offered quantity $n_A$.\n",
    "\n",
    "(c) Give your intuition for the sensitivities of $n_B$ and $n_A$ to each of the various inputs.\n"
   ]
  },
  {
   "cell_type": "markdown",
   "metadata": {},
   "source": [
    "#### <font color=blue> Solution 3(a). </font>"
   ]
  },
  {
   "cell_type": "markdown",
   "metadata": {},
   "source": [
    "In problem 2, we have:\n",
    "$$B=\\mu-\\frac{\\alpha}{2}(2q+n_B)\\sigma^2$$\n",
    "Rearrange this formula to get\n",
    "$$n_B=\\frac{2}{\\alpha\\sigma^2}(\\mu-B)-2q$$\n",
    "Here, we have\n",
    "$$\n",
    "\\mu=\\E[S] \\approx M + \\frac s 2 \\,\\frac 4\\pi\\arctan I.\n",
    "$$\n",
    "$$B=M-\\frac{s}{2}$$\n",
    "Plug in, and we get the formula\n",
    "$$\n",
    "n_B = \\frac{s}{\\alpha\\,\\sigma^2}\\,\\left(  1+\\frac 4 \\pi\\arctan I \\right) - 2\\,q.\n",
    "$$"
   ]
  },
  {
   "cell_type": "markdown",
   "metadata": {},
   "source": [
    "#### <font color=blue> Solution 3(b). </font>"
   ]
  },
  {
   "cell_type": "markdown",
   "metadata": {},
   "source": [
    "In problem 2, we derive\n",
    "$$A=\\mu+\\frac{\\alpha}{2}(-2q+n_A)\\sigma^2$$\n",
    "Rearrange it and get\n",
    "$$n_A=\\frac{2}{\\alpha\\sigma^2}(A-\\mu)+2q$$\n",
    "Here, we plug in again\n",
    "$$\n",
    "\\mu=\\E[S] \\approx M + \\frac s 2 \\,\\frac 4\\pi\\arctan I.\n",
    "$$\n",
    "$$A=M+\\frac{s}{2}$$\n",
    "And get\n",
    "$$n_A=\\frac{s}{\\alpha\\sigma^2}(1-\\frac{4}{\\pi}\\arctan I)+2q$$"
   ]
  },
  {
   "cell_type": "markdown",
   "metadata": {},
   "source": [
    "#### <font color=blue> Solution 3(c). </font>"
   ]
  },
  {
   "cell_type": "markdown",
   "metadata": {},
   "source": [
    "When spread $s$ get larger, the bid price is lower and ask price higher, which will result in larger order size in both sides, and $n_A,n_B$ increase.<br>\n",
    "When the risk aversion rate $\\alpha$ increases, the dealer is less likely to trade because he don't want to induce risk, which result in smaller size $n_A,n_B$.<br>\n",
    "When variance $\\sigma$ increases, it means the market is more risky and the dealer is less likely to trade, which result in smaller size $n_A,n_B$.<br>\n",
    "When imbalance $I$ increases, which means there are more market buy orders at best quote, the dealer will buy more and sell less, leads to $n_B$ rise and $n_A$ fall.<br>\n",
    "When inventory $q$ increase, which means that it will be more risky to buy because the dealer already has a large quantity, the bid order $n_B$ will decrease and ask $n_A$ will increase."
   ]
  },
  {
   "cell_type": "markdown",
   "metadata": {},
   "source": [
    "## Avellaneda and Stoikov (2008)"
   ]
  },
  {
   "cell_type": "markdown",
   "metadata": {},
   "source": [
    "### 4. (6 points) \n",
    "According to the lecture slides, in the Avellaneda and Stoikov model, the optimal bid and ask prices are given in terms of market order arrival rates by\n",
    "\n",
    "$$\n",
    "B=r_B-\\frac{1}{\\alpha}\\,\\log\\left(1-\\alpha\\,\\frac{{\\lambda_B}(\\delta_B)}{\\lambda_B'(\\delta_B)}\\right).\n",
    "$$\n",
    "\n",
    "Similarly, the optimal ask price is given by\n",
    "\n",
    "$$\n",
    "A=r_A + \\frac{1}{\\alpha}\\,\\log\\left(1-\\alpha\\,\\frac{{\\lambda_A}(\\delta_A)}{\\lambda_A'(\\delta_A)}\\right).\n",
    "$$\n",
    "\n",
    "where $A= S+\\delta_A$ and $B= S-\\delta_B$, and $r_A$, $r_B$ are reservation prices.\n",
    "\n",
    "Suppose that arrival rates of orders (symmetric between market buys and sells) are given by\n",
    "\n",
    "$$\n",
    "\\lambda(\\delta) = e^{-\\mu\\, \\delta \\pm \\beta\\,q}\n",
    "$$\n",
    "\n",
    "for some constant $\\beta>0$ that reflects adverse selection (i.e., the longer you are, the more market sell orders arrive).\n",
    "\n",
    "- (a) Write down expressions for $A$ and $B$ in terms of $r_A$, $r_B$, $\\mu$, $\\beta$ and $q$.\n",
    "\n",
    "- (b) Assuming that the reservation prices do not depend on $q$, how does the optimal spread depend on $q$?\n"
   ]
  },
  {
   "cell_type": "markdown",
   "metadata": {},
   "source": [
    "#### <font color=blue> Solution 4(a). </font>"
   ]
  },
  {
   "cell_type": "markdown",
   "metadata": {},
   "source": [
    "Since $$\\lambda(\\delta)=e^{-\\mu\\delta\\pm\\beta q}$$\n",
    "We have $$\\frac{\\lambda(\\delta)}{\\lambda'(\\delta)}=\\frac{e^{-\\mu\\delta\\pm\\beta q}}{-\\mu e^{-\\mu\\delta\\pm\\beta q}}=-\\frac{1}{\\mu}$$\n",
    "As a result,$$A=r_A+\\frac{1}{\\alpha}\\log(1+\\frac{\\alpha}{\\mu})$$\n",
    "$$B=r_B-\\frac{1}{\\alpha}\\log(1+\\frac{\\alpha}{\\mu})$$"
   ]
  },
  {
   "cell_type": "markdown",
   "metadata": {},
   "source": [
    "#### <font color=blue> Solution 4(b). </font>"
   ]
  },
  {
   "cell_type": "markdown",
   "metadata": {},
   "source": [
    "The spread is $$S=A-B=r_A-r_B+\\frac{2}{\\alpha}\\log(1+\\frac{\\alpha}{\\mu})$$\n",
    "Since $r_A$ and $r_B$ does not depend on $q$, the spread does not depend on $q$."
   ]
  }
 ],
 "metadata": {
  "celltoolbar": "Slideshow",
  "kernelspec": {
   "display_name": "Python 3 (ipykernel)",
   "language": "python",
   "name": "python3"
  },
  "language_info": {
   "codemirror_mode": {
    "name": "ipython",
    "version": 3
   },
   "file_extension": ".py",
   "mimetype": "text/x-python",
   "name": "python",
   "nbconvert_exporter": "python",
   "pygments_lexer": "ipython3",
   "version": "3.11.4"
  },
  "varInspector": {
   "cols": {
    "lenName": 16,
    "lenType": 16,
    "lenVar": 40
   },
   "kernels_config": {
    "python": {
     "delete_cmd_postfix": "",
     "delete_cmd_prefix": "del ",
     "library": "var_list.py",
     "varRefreshCmd": "print(var_dic_list())"
    },
    "r": {
     "delete_cmd_postfix": ") ",
     "delete_cmd_prefix": "rm(",
     "library": "var_list.r",
     "varRefreshCmd": "cat(var_dic_list()) "
    }
   },
   "types_to_exclude": [
    "module",
    "function",
    "builtin_function_or_method",
    "instance",
    "_Feature"
   ],
   "window_display": false
  }
 },
 "nbformat": 4,
 "nbformat_minor": 4
}
