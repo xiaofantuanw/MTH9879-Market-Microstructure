{
 "cells": [
  {
   "cell_type": "markdown",
   "metadata": {},
   "source": [
    "# MTH9879 Homework 10\n",
    "\n",
    "Assigned: April 11, 2024.\n",
    "Due: April 25, 2024 by 6pm. \n",
    "\n",
    "Late homework **will not be accepted**.\n",
    "\n",
    "$$\n",
    "\\newcommand{\\supp}{\\mathrm{supp}}\n",
    "\\newcommand{\\E}{\\mathbb{E}}\n",
    "\\newcommand{\\Eof}[1]{\\mathbb{E}\\left[ #1 \\right]}\n",
    "\\def\\Cov{{ \\mbox{Cov} }}\n",
    "\\def\\Var{{ \\mbox{Var} }}\n",
    "\\newcommand{\\1}{\\mathbf{1} }\n",
    "\\newcommand{\\PP}{\\mathbb{P} }\n",
    "%\\newcommand{\\Pr}{\\mathrm{Pr} }\n",
    "\\newcommand{\\QQ}{\\mathbb{Q} }\n",
    "\\newcommand{\\RR}{\\mathbb{R} }\n",
    "\\newcommand{\\DD}{\\mathbb{D} }\n",
    "\\newcommand{\\HH}{\\mathbb{H} }\n",
    "\\newcommand{\\spn}{\\mathrm{span} }\n",
    "\\newcommand{\\cov}{\\mathrm{cov} }\n",
    "\\newcommand{\\sgn}{\\mathrm{sgn} }\n",
    "\\newcommand{\\HS}{\\mathcal{L}_{\\mathrm{HS}} }\n",
    "%\\newcommand{\\HS}{\\mathrm{HS} }\n",
    "\\newcommand{\\trace}{\\mathrm{trace} }\n",
    "\\newcommand{\\LL}{\\mathcal{L} }\n",
    "%\\newcommand{\\LL}{\\mathrm{L} }\n",
    "\\newcommand{\\s}{\\mathcal{S} }\n",
    "\\newcommand{\\ee}{\\mathcal{E} }\n",
    "\\newcommand{\\ff}{\\mathcal{F} }\n",
    "\\newcommand{\\hh}{\\mathcal{H} }\n",
    "\\newcommand{\\bb}{\\mathcal{B} }\n",
    "\\newcommand{\\dd}{\\mathcal{D} }\n",
    "\\newcommand{\\g}{\\mathcal{G} }\n",
    "\\newcommand{\\p}{\\partial}\n",
    "\\newcommand{\\half}{\\frac{1}{2} }\n",
    "\\newcommand{\\T}{\\mathcal{T} }\n",
    "\\newcommand{\\bi}{\\begin{itemize}}\n",
    "\\newcommand{\\ei}{\\end{itemize}}\n",
    "\\newcommand{\\beq}{\\begin{equation}}\n",
    "\\newcommand{\\eeq}{\\end{equation}}\n",
    "\\newcommand{\\beas}{\\begin{eqnarray*}}\n",
    "\\newcommand{\\eeas}{\\end{eqnarray*}}\n",
    "\\newcommand{\\cO}{\\mathcal{O}}\n",
    "\\newcommand{\\cC}{\\mathcal{C}}\n",
    "\\newcommand{\\cF}{\\mathcal{F}}\n",
    "\\newcommand{\\cL}{\\mathcal{L}}\n",
    "\\newcommand{\\BS}{\\text{BS}}\n",
    "$$"
   ]
  },
  {
   "cell_type": "markdown",
   "metadata": {},
   "source": [
    "<font color = \"red\">Homework is to be done by each student individually. To receive full credit, you must upload a completed copy of this Jupyter notebook to this [Dropbox File Request link](https://www.dropbox.com/request/9XPnAeHks9CAQYuIDXzr) by the due date and time.  All python code must run correctly and solutions must be written up neatly in Markdown/LaTeX format.\n",
    "\n",
    "<font color=blue>Please name your submission as <b>9879HW10_Lastname_Firstname.ipynb</b> (noticing the underscores) <br>\n",
    "e.g., for John Smith, the filename should read 9879HW10_Smith_John. <br> </font>\n",
    "<font color=red><i>Violation of the naming rule will incur a 20% penalty to the score. </i></font>\n",
    "\n",
    "<font color=\"blue\">If you encounter problems with Markdown/LaTeX or Jupyter notebook, please contact your TAs: Robert Wei (robert.wei.p72@gmail.com) and Adam Wen (wen.adam@hotmail.com).</font>"
   ]
  },
  {
   "cell_type": "code",
   "execution_count": 1,
   "metadata": {},
   "outputs": [],
   "source": [
    "import numpy as np\n",
    "import matplotlib.pyplot as plt\n",
    "import scipy.optimize as opt"
   ]
  },
  {
   "cell_type": "markdown",
   "metadata": {},
   "source": [
    "## Numerical solution of Fredholm equation"
   ]
  },
  {
   "cell_type": "markdown",
   "metadata": {},
   "source": [
    "### 1. (12 points)\n",
    "Consider the Fredholm equation (7) in Lecture 10:\n",
    "\n",
    "$$\n",
    "\\int_0^T{G}(|t-s|)\\,dx_s =\\text{const.}\\qquad\\text{for all $t\\in [0,T]$.}\n",
    "$$\n",
    "\n",
    "Define $t_i:={i}\\frac T{N}$. One way to discretize this integral equation is as follows:\n",
    "\n",
    "$$\n",
    "\\sum_{j=1}^N G_{ij}\\,v_j=\\text{const.}\n",
    "$$\n",
    "\n",
    "where $v_j=x_{t_{j}}-x_{t_{j-1}}$ and\n",
    "\n",
    "<a name=\"eq:1\"></a>(1)\n",
    "$$\n",
    "G_{ij}=\n",
    "\\int_{t_{i-1}}^{t_i}\\,\\int_{t_{j-1}}^{t_j}\\,G(|t-s|)\\,ds\\,dt.\n",
    "$$\n",
    "\n",
    "- (a) Derive an explicit expression for the $G_{ij}$ in the case\n",
    "$$\n",
    "G(\\tau)=\\frac {1}{(1+\\tau)^2}.\n",
    "$$\n",
    "You will need to compute separate expressions for the cases $i \\neq j$ and $i=j$.\n",
    "\n",
    "- (b) With $N=512$, use matrix algebra to solve equation [(1)](#eq:1) numerically with this decay kernel.\n",
    "\n",
    "- (c) Plot your results - you should end up with something like Figure 2 of Lecture 10.\n",
    "\n"
   ]
  },
  {
   "cell_type": "markdown",
   "metadata": {},
   "source": [
    "#### <font color=blue> Solution 1(a).</font>"
   ]
  },
  {
   "cell_type": "markdown",
   "metadata": {},
   "source": [
    "For case $i=j$,  $$\\begin{align}G_{ii}&=\\int_{t_{i-1}}^{t_i}\\int_{t_{i-1}}^{t} \\frac{1}{(1+t-s)^2}dsdt+\\int_{t_{i-1}}^{t_i}\\int_{t}^{t_i} \\frac{1}{(1+s-t)^2}dsdt\\\\&=2\\int_{t_{i-1}}^{t_i}(1-\\frac{1}{1+t-t_{i-1}})dt\\\\&=2(t_i-t_{i-1})-2\\ln(1+t_i-t_{i-1})\\\\&=2\\frac{T}{N}-2\\ln(1+\\frac{T}{N})\\end{align}$$"
   ]
  },
  {
   "cell_type": "markdown",
   "metadata": {},
   "source": [
    "For case $i\\neq j$, we can assume $i>j$ then we have $t>s$ for simplicity.\n",
    "$$\\begin{align}G_{ij}&=\\int_{t_{i-1}}^{t_i}\\int_{t_{j-1}}^{t_j} \\frac{1}{(1+t-s)^2}dsdt\\\\&=\\int_{t_{i-1}}^{t_i}(\\frac{1}{1+t-t_j}-\\frac{1}{1+t-t_{j-1}})dt\\\\&=\\ln(1+t_i-t_j)-\\ln(1+t_{i-1}-t_j)-\\ln(1+t_i-t_{j-1})+\\ln(1+t_{i-1}-t_{j-1})\\\\&=2\\ln(1+(i-j)T/N)-\\ln(1+(i-j+1)T/N)-\\ln(1+(i-j-1)T/N)\\\\&=\\ln\\frac{(N+(i-j)T)^2}{(N+(i-j+1)T)(N+(i-j-1)T)}\\end{align}$$"
   ]
  },
  {
   "cell_type": "markdown",
   "metadata": {},
   "source": [
    "#### <font color=blue> Solution 1(b)(c).</font>"
   ]
  },
  {
   "cell_type": "markdown",
   "metadata": {},
   "source": [
    "Solve the functions $$\n",
    "\\sum_{j=1}^N G_{ij}\\,v_j=\\text{const.}\n",
    "$$\n",
    "with matrix algebra as follows"
   ]
  },
  {
   "cell_type": "code",
   "execution_count": 13,
   "metadata": {
    "scrolled": true
   },
   "outputs": [
    {
     "name": "stdout",
     "output_type": "stream",
     "text": [
      "[13.82490009 -3.63389841  1.04403161 -0.20954117  0.12622608  0.03613294\n",
      "  0.06014861  0.05359191  0.05522672  0.05466887  0.05469933  0.05457286\n",
      "  0.05449105  0.0543964   0.05430839  0.05421767  0.0541309   0.0540424\n",
      "  0.05395633  0.05387065  0.05378566  0.05370181  0.05361824  0.05353629\n",
      "  0.05345428  0.05337388  0.05329326  0.05321445  0.05313631  0.0530572\n",
      "  0.05298207  0.05290392  0.05283015  0.05275408  0.05268048  0.05260723\n",
      "  0.05253421  0.05246285  0.05239052  0.0523214   0.05224995  0.05218172\n",
      "  0.0521125   0.05204538  0.0519769   0.05191111  0.05184476  0.05177966\n",
      "  0.05171425  0.05165063  0.05158681  0.05152399  0.0514616   0.05139967\n",
      "  0.05133856  0.05127821  0.05121781  0.05115838  0.05109976  0.05104092\n",
      "  0.05098374  0.05092588  0.05086929  0.0508137   0.0507571   0.05070282\n",
      "  0.05064755  0.05059392  0.05054019  0.05048712  0.05043442  0.05038238\n",
      "  0.0503314   0.05027907  0.05022959  0.05017879  0.05012933  0.05008052\n",
      "  0.05003083  0.04998401  0.04993452  0.04988855  0.04984093  0.04979485\n",
      "  0.04974849  0.04970304  0.049658    0.04961318  0.04956924  0.04952451\n",
      "  0.0494821   0.04943835  0.04939614  0.04935371  0.04931183  0.049271\n",
      "  0.04922927  0.04918886  0.0491492   0.04910852  0.04907013  0.04902976\n",
      "  0.04899239  0.04895321  0.04891568  0.04887802  0.0488411   0.04880372\n",
      "  0.04876776  0.0487317   0.04869526  0.04866095  0.04862501  0.04859093\n",
      "  0.04855605  0.04852275  0.04848833  0.04845567  0.04842247  0.0483896\n",
      "  0.04835746  0.04832582  0.04829352  0.04826266  0.04823148  0.04820102\n",
      "  0.04817013  0.04814054  0.04811061  0.04808139  0.04805176  0.04802371\n",
      "  0.04799442  0.04796675  0.04793875  0.04791095  0.04788356  0.04785719\n",
      "  0.04782943  0.04780413  0.0477769   0.04775196  0.04772579  0.04770083\n",
      "  0.04767566  0.04765074  0.04762723  0.04760133  0.04757947  0.04755428\n",
      "  0.04753162  0.04750842  0.0474857   0.04746281  0.04744135  0.04741804\n",
      "  0.0473978   0.04737508  0.04735435  0.04733339  0.04731278  0.04729209\n",
      "  0.047272    0.04725199  0.04723238  0.04721281  0.04719396  0.04717443\n",
      "  0.04715629  0.04713763  0.04711902  0.04710168  0.04708363  0.04706619\n",
      "  0.04704898  0.04703189  0.04701514  0.04699884  0.04698204  0.04696639\n",
      "  0.04695064  0.04693429  0.04692012  0.04690375  0.0468898   0.04687465\n",
      "  0.04686016  0.04684615  0.04683202  0.04681816  0.04680513  0.0467909\n",
      "  0.04677864  0.04676508  0.0467531   0.04674     0.04672817  0.04671599\n",
      "  0.04670405  0.04669332  0.04668044  0.04667096  0.04665867  0.0466488\n",
      "  0.04663791  0.04662794  0.04661728  0.04660844  0.0465972   0.04658955\n",
      "  0.046579    0.04657051  0.04656167  0.04655266  0.04654524  0.04653578\n",
      "  0.04652876  0.04652065  0.0465126   0.04650618  0.0464984   0.0464912\n",
      "  0.04648512  0.04647811  0.04647181  0.04646574  0.04645985  0.0464537\n",
      "  0.04644876  0.0464431   0.04643781  0.04643291  0.04642884  0.04642304\n",
      "  0.04641972  0.04641531  0.04641121  0.04640736  0.04640411  0.04640088\n",
      "  0.04639699  0.04639505  0.04639142  0.04638918  0.04638716  0.04638445\n",
      "  0.04638271  0.04638116  0.04637903  0.04637845  0.04637628  0.0463764\n",
      "  0.04637461  0.04637455  0.04637423  0.04637374  0.04637374  0.04637423\n",
      "  0.04637455  0.04637461  0.0463764   0.04637628  0.04637845  0.04637903\n",
      "  0.04638116  0.04638271  0.04638445  0.04638716  0.04638918  0.04639142\n",
      "  0.04639505  0.04639699  0.04640088  0.04640411  0.04640736  0.04641121\n",
      "  0.04641531  0.04641972  0.04642304  0.04642884  0.04643291  0.04643781\n",
      "  0.0464431   0.04644876  0.0464537   0.04645985  0.04646574  0.04647181\n",
      "  0.04647811  0.04648512  0.0464912   0.0464984   0.04650618  0.0465126\n",
      "  0.04652065  0.04652876  0.04653578  0.04654524  0.04655266  0.04656167\n",
      "  0.04657051  0.046579    0.04658955  0.0465972   0.04660844  0.04661728\n",
      "  0.04662794  0.04663791  0.0466488   0.04665867  0.04667096  0.04668044\n",
      "  0.04669332  0.04670405  0.04671599  0.04672817  0.04674     0.0467531\n",
      "  0.04676508  0.04677864  0.0467909   0.04680513  0.04681816  0.04683202\n",
      "  0.04684615  0.04686016  0.04687465  0.0468898   0.04690375  0.04692012\n",
      "  0.04693429  0.04695064  0.04696639  0.04698204  0.04699884  0.04701514\n",
      "  0.04703189  0.04704898  0.04706619  0.04708363  0.04710168  0.04711902\n",
      "  0.04713763  0.04715629  0.04717443  0.04719396  0.04721281  0.04723238\n",
      "  0.04725199  0.047272    0.04729209  0.04731278  0.04733339  0.04735435\n",
      "  0.04737508  0.0473978   0.04741804  0.04744135  0.04746281  0.0474857\n",
      "  0.04750842  0.04753162  0.04755428  0.04757947  0.04760133  0.04762723\n",
      "  0.04765074  0.04767566  0.04770083  0.04772579  0.04775196  0.0477769\n",
      "  0.04780413  0.04782943  0.04785719  0.04788356  0.04791095  0.04793875\n",
      "  0.04796675  0.04799442  0.04802371  0.04805176  0.04808139  0.04811061\n",
      "  0.04814054  0.04817013  0.04820102  0.04823148  0.04826266  0.04829352\n",
      "  0.04832582  0.04835746  0.0483896   0.04842247  0.04845567  0.04848833\n",
      "  0.04852275  0.04855605  0.04859093  0.04862501  0.04866095  0.04869526\n",
      "  0.0487317   0.04876776  0.04880372  0.0488411   0.04887802  0.04891568\n",
      "  0.04895321  0.04899239  0.04902976  0.04907013  0.04910852  0.0491492\n",
      "  0.04918886  0.04922927  0.049271    0.04931183  0.04935371  0.04939614\n",
      "  0.04943835  0.0494821   0.04952451  0.04956924  0.04961318  0.049658\n",
      "  0.04970304  0.04974849  0.04979485  0.04984093  0.04988855  0.04993452\n",
      "  0.04998401  0.05003083  0.05008052  0.05012933  0.05017879  0.05022959\n",
      "  0.05027907  0.0503314   0.05038238  0.05043442  0.05048712  0.05054019\n",
      "  0.05059392  0.05064755  0.05070282  0.0507571   0.0508137   0.05086929\n",
      "  0.05092588  0.05098374  0.05104092  0.05109976  0.05115838  0.05121781\n",
      "  0.05127821  0.05133856  0.05139967  0.0514616   0.05152399  0.05158681\n",
      "  0.05165063  0.05171425  0.05177966  0.05184476  0.05191111  0.0519769\n",
      "  0.05204538  0.0521125   0.05218172  0.05224995  0.0523214   0.05239052\n",
      "  0.05246285  0.05253421  0.05260723  0.05268048  0.05275408  0.05283015\n",
      "  0.05290392  0.05298207  0.0530572   0.05313631  0.05321445  0.05329326\n",
      "  0.05337388  0.05345428  0.05353629  0.05361824  0.05370181  0.05378566\n",
      "  0.05387065  0.05395633  0.0540424   0.0541309   0.05421767  0.05430839\n",
      "  0.0543964   0.05449105  0.05457286  0.05469933  0.05466887  0.05522672\n",
      "  0.05359191  0.06014861  0.03613294  0.12622608 -0.20954117  1.04403161\n",
      " -3.63389841 13.82490009]\n"
     ]
    }
   ],
   "source": [
    "import numpy as np\n",
    "import matplotlib.pyplot as plt\n",
    "\n",
    "\n",
    "# Parameters\n",
    "N = 512\n",
    "T = 1\n",
    "C = 0.0001\n",
    "\n",
    "G = np.zeros((N,N))\n",
    "Y = np.ones(N)*C\n",
    "\n",
    "# Make the linear system\n",
    "for i in range(N):\n",
    "    for j in range(N):\n",
    "        if i < j:\n",
    "            G[i][j] = np.log((N+(j-i)*T)**2/(N+(j-i+1)*T)/(N+(j-i-1)*T))\n",
    "        elif i>j:\n",
    "            G[i][j] = np.log((N+(i-j)*T)**2/(N+(i-j+1)*T)/(N+(i-j-1)*T))\n",
    "        else:\n",
    "            G[i][j] = 2*T/N-2*np.log(1+T/N)\n",
    "    \n",
    "v = np.linalg.solve(G,Y)\n",
    "print(v)"
   ]
  },
  {
   "cell_type": "code",
   "execution_count": 12,
   "metadata": {},
   "outputs": [
    {
     "data": {
      "text/plain": [
       "[<matplotlib.lines.Line2D at 0x23b09c68ed0>]"
      ]
     },
     "execution_count": 12,
     "metadata": {},
     "output_type": "execute_result"
    },
    {
     "data": {
      "image/png": "[encoded data removed]",
      "text/plain": [
       "<Figure size 640x480 with 1 Axes>"
      ]
     },
     "metadata": {},
     "output_type": "display_data"
    }
   ],
   "source": [
    "t = [i*T/N for i in range(N)]\n",
    "plt.plot(t,v)"
   ]
  },
  {
   "cell_type": "markdown",
   "metadata": {},
   "source": [
    "#### <font color=blue> Solution 1(c).</font>"
   ]
  },
  {
   "cell_type": "markdown",
   "metadata": {},
   "source": [
    "## Optimal interval VWAP strategy in the square-root model"
   ]
  },
  {
   "cell_type": "markdown",
   "metadata": {},
   "source": [
    "### 2. (12 points)\n",
    "\n",
    "Consider equation (11) of Lecture 10 for the cost of liquidation using interval VWAPs:\n",
    "\n",
    "$$\n",
    "\\cC=\\sum_{j=1}^m\\,C_{jj}+\\sum_{i< j}^m\\,C_{ji}.\n",
    "$$\n",
    "\n",
    "- (a) With $m=3$ (that is 3 interval VWAP slices), and assuming the square-root process where\n",
    "\n",
    "$$\n",
    "f(v)=\\frac  3 4 \\sigma\\,\\sqrt{\\frac{v}{V}} =\\frac  3 4 \\sigma\\,\\sqrt{\\frac{\\dot x}{V}}, \n",
    "\\quad \\mbox{ and } \\quad\n",
    "G(\\tau)=1/\\sqrt{\\tau},\n",
    "$$\n",
    "\n",
    "compute explicit expressions for the matrix elements $C_{ji}$ in terms of $x_1$, $x_2$, $t_1$, and $t_2$ (noting that $t_0=0$ and $t_3=T$).\n",
    "\n",
    "- (b) Minimize the resulting expression for the expected cost of liquidation numerically to find optimal choices of $x_1$ and $x_2$ when $t_1=T/3$, and $t_2=2 \\,T/3$.\n",
    "\n",
    "(Hint: Use `method = L-BFSG-L` and impose explicit bounds on the $x_i$.)\n",
    "\n",
    "- (c) What is the percentage saving from trading with the 3-slice strategy relative to a VWAP?\n",
    "\n",
    "- (d) Explain to your non-mathematical manager why this strategy has lower expected cost."
   ]
  },
  {
   "cell_type": "markdown",
   "metadata": {},
   "source": [
    "#### <font color=blue> Solution 2(a).</font>"
   ]
  },
  {
   "cell_type": "markdown",
   "metadata": {},
   "source": [
    "As in the lecture, we have the expressions:\n",
    "$$\\begin{aligned} C_{i i} & =\\frac{x_i}{t_i-t_{i-1}} f\\left(v_i\\right) \\int_{t_{i-1}}^{t_i} d t \\int_{t_{i-1}}^t \\frac{1}{\\sqrt{t-s}} d s \\\\ & =\\frac{4}{3} x_i f\\left(v_i\\right) \\sqrt{t_i-t_{i-1}} \\\\&=\\frac{\\sigma}{\\sqrt{V}}x_i^{3/2}\\end{aligned}$$\n",
    "and\n",
    "$$\\begin{aligned} C_{j i}= & \\frac{x_j}{t_j-t_{j-1}} f\\left(v_i\\right) \\int_{t_{j-1}}^{t_j} d t \\int_{t_{i-1}}^{t_i} \\frac{1}{\\sqrt{t-s}} d s \\\\ = & \\frac{4}{3} x_j f\\left(v_i\\right) \\times \\\\ & \\frac{\\left(t_j-t_{i-1}\\right)^{3 / 2}-\\left(t_j-t_i\\right)^{3 / 2}-\\left(t_{j-1}-t_{i-1}\\right)^{3 / 2}+\\left(t_{j-1}-t_i\\right)^{3 / 2}}{t_j-t_{j-1}}\\\\&=\\frac{\\sigma}{\\sqrt{V}}x_jx_i^{1/2}\\frac{\\left(t_j-t_{i-1}\\right)^{3 / 2}-\\left(t_j-t_i\\right)^{3 / 2}-\\left(t_{j-1}-t_{i-1}\\right)^{3 / 2}+\\left(t_{j-1}-t_i\\right)^{3 / 2}}{(t_j-t_{j-1})(t_i-t_{i-1})^{1/2}}\\end{aligned}$$\n",
    "since we plug in $$f(v)=\\frac{3}{4} \\sigma \\sqrt{\\frac{v}{V}}=\\frac{3}{4} \\sigma \\sqrt{\\frac{\\dot{x}}{V}} = \\frac{3}{4} \\sigma \\sqrt{\\frac{x}{V(t_i-t_{i-1})}}$$\n",
    "In terms of $x_1,x_2,t_1,t_2$, we calculate every term of the sum.\n",
    "$$\\begin{align}C_{11}&=\\frac{\\sigma}{\\sqrt{V}}x_1^{3/2}\\\\\n",
    "C_{22}&=\\frac{\\sigma}{\\sqrt{V}}x_2^{3/2}\\\\\n",
    "C_{33}&=\\frac{\\sigma}{\\sqrt{V}}(X-x_1-x_2)^{3/2}\\\\\n",
    "C_{21}&=\\frac{\\sigma}{\\sqrt{V}}x_2x_1^{1/2}\\frac{t_2^{3 / 2}-\\left(t_2-t_1\\right)^{3 / 2}-t_1^{3 / 2}}{(t_2-t_1)t_1^{1/2}}\\\\\n",
    "C_{32}&=\\frac{\\sigma}{\\sqrt{V}}(X-x_1-x_2)x_2^{1/2}\\frac{\\left(T-t_1\\right)^{3 / 2}-\\left(T-t_2\\right)^{3 / 2}-\\left(t_2-t_1\\right)^{3 / 2}}{(T-t_2)(t_2-t_1)^{1/2}}\\\\\n",
    "C_{31}&=\\frac{\\sigma}{\\sqrt{V}}(X-x_1-x_2)x_1^{1/2}\\frac{T^{3 / 2}-\\left(T-t_1\\right)^{3 / 2}-t_2^{3 / 2}+\\left(t_2-t_1\\right)^{3 / 2}}{(T-t_{2})t_1^{1/2}}\n",
    "\\end{align}$$\n"
   ]
  },
  {
   "cell_type": "markdown",
   "metadata": {},
   "source": [
    "#### <font color=blue> Solution 2(b).</font>"
   ]
  },
  {
   "cell_type": "markdown",
   "metadata": {},
   "source": [
    "When $t_1=T/3$ and $t_2=2T/3$, we plug in and get:\n",
    "$$\\begin{align}\n",
    "C_{21}&=\\frac{\\sigma}{\\sqrt{V}}x_2x_1^{1/2}(2\\sqrt{2}-2)\\\\\n",
    "C_{32}&=\\frac{\\sigma}{\\sqrt{V}}(X-x_1-x_2)x_2^{1/2}(2\\sqrt{2}-2)\\\\\n",
    "C_{31}&=\\frac{\\sigma}{\\sqrt{V}}(X-x_1-x_2)x_1^{1/2}(3\\sqrt{3}-4\\sqrt{2}+1)\n",
    "\\end{align}$$\n",
    "Thus we optimize the following total cost:\n",
    "$$\n",
    "\\cC=\\sum_{j=1}^m\\,C_{jj}+\\sum_{i< j}^m\\,C_{ji}.\n",
    "$$\n",
    "Here we assume the total order we have to split is $X=1$ and we do not include the common term $\\frac{\\sigma}{\\sqrt{V}}$ in our optimization"
   ]
  },
  {
   "cell_type": "code",
   "execution_count": 22,
   "metadata": {},
   "outputs": [
    {
     "name": "stdout",
     "output_type": "stream",
     "text": [
      "Status :  CONVERGENCE: NORM_OF_PROJECTED_GRADIENT_<=_PGTOL\n",
      "Solution: x = 0.647084, y = 0.000000\n",
      "Minimum Value: 0.883282\n"
     ]
    }
   ],
   "source": [
    "from scipy.optimize import minimize\n",
    "\n",
    "def obj(x):\n",
    "    C11=x[0]**(3/2)\n",
    "    C22=x[1]**(3/2)\n",
    "    C33=(1-x[0]-x[1])**(3/2)\n",
    "    C21=x[1]*(x[0]**(1/2))*((2**0.5)*2-2)\n",
    "    C32=(1-x[0]-x[1])*(x[1]**(1/2))*((2**0.5)*2-2)\n",
    "    C31=(1-x[0]-x[1])*(x[0]**(1/2))*((3**0.5)*3-(2**0.5)*4+1)\n",
    "    return C11+C22+C33+C21+C32+C31\n",
    "\n",
    "# Initial guesses for x and y\n",
    "x0 = [0.1, 0.1]\n",
    "\n",
    "# Bounds on the variables: (min, max)\n",
    "bounds = [(0, 1), (0, 1)]\n",
    "\n",
    "# Using 'L-BFGS-B' method with bounds\n",
    "result = minimize(obj, x0, method='L-BFGS-B', bounds=bounds)\n",
    "\n",
    "#Print the result\n",
    "print(\"Status : \", result.message)\n",
    "print(\"Solution: x = {:.6f}, y = {:.6f}\".format(result.x[0], result.x[1]))\n",
    "print(\"Minimum Value: {:.6f}\".format(result.fun))"
   ]
  },
  {
   "cell_type": "markdown",
   "metadata": {},
   "source": [
    "#### <font color=blue> Solution 2(c).</font>"
   ]
  },
  {
   "cell_type": "markdown",
   "metadata": {},
   "source": [
    "We get from lecture note that the cost of VWAP is$$\\cC_{VWAP}=\\frac{\\sigma}{V}X^{3/2}$$and the cost of the optimized three split is $$\\cC_{opt}=0.883282\\frac{\\sigma}{V}X^{3/2}$$\n",
    "Thus the percentage saving is \n",
    "$$Saving\\%=\\frac{\\cC{VWAP}-\\cC_{opt}}{\\cC{VWAP}}=11.6718\\%$$"
   ]
  },
  {
   "cell_type": "markdown",
   "metadata": {},
   "source": [
    "#### <font color=blue> Solution 2(d).</font>"
   ]
  },
  {
   "cell_type": "markdown",
   "metadata": {},
   "source": [
    "When we submit an order, the market takes time to \"recover\" from the impact of the order. If we use VWAP strategy, we are continuously sending order, so we expose ourselves to more market impact of our order. If we use the three-split strategy, we do not submit order in the second period so that the price goes back to its original value more, and we'll cost less to trade in the price closer to the market price before our order."
   ]
  }
 ],
 "metadata": {
  "celltoolbar": "Slideshow",
  "kernelspec": {
   "display_name": "Python 3 (ipykernel)",
   "language": "python",
   "name": "python3"
  },
  "language_info": {
   "codemirror_mode": {
    "name": "ipython",
    "version": 3
   },
   "file_extension": ".py",
   "mimetype": "text/x-python",
   "name": "python",
   "nbconvert_exporter": "python",
   "pygments_lexer": "ipython3",
   "version": "3.11.4"
  },
  "varInspector": {
   "cols": {
    "lenName": 16,
    "lenType": 16,
    "lenVar": 40
   },
   "kernels_config": {
    "python": {
     "delete_cmd_postfix": "",
     "delete_cmd_prefix": "del ",
     "library": "var_list.py",
     "varRefreshCmd": "print(var_dic_list())"
    },
    "r": {
     "delete_cmd_postfix": ") ",
     "delete_cmd_prefix": "rm(",
     "library": "var_list.r",
     "varRefreshCmd": "cat(var_dic_list()) "
    }
   },
   "types_to_exclude": [
    "module",
    "function",
    "builtin_function_or_method",
    "instance",
    "_Feature"
   ],
   "window_display": false
  }
 },
 "nbformat": 4,
 "nbformat_minor": 4
}
