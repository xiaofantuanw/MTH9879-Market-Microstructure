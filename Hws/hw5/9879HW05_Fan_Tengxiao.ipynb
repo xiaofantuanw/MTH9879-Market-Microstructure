{
 "cells": [
  {
   "cell_type": "markdown",
   "metadata": {},
   "source": [
    "# MTH9879 Homework 5\n",
    "\n",
    "Assigned: February 29, 2024.\n",
    "Due: March 14, 2024 by 6pm.\n",
    "\n",
    "Late homework **will not be accepted**.\n",
    "\n",
    "$$\n",
    "\\newcommand{\\supp}{\\mathrm{supp}}\n",
    "\\newcommand{\\E}{\\mathbb{E}}\n",
    "\\newcommand{\\EE}{\\mathbb{E}}\n",
    "\\newcommand{\\Eof}[1]{\\mathbb{E}\\left[ #1 \\right]}\n",
    "\\def\\Cov{{ \\mbox{Cov} }}\n",
    "\\def\\Var{{ \\mbox{Var} }}\n",
    "\\newcommand{\\1}{\\mathbf{1} }\n",
    "\\newcommand{\\PP}{\\mathbb{P} }\n",
    "%\\newcommand{\\Pr}{\\mathrm{Pr} }\n",
    "\\newcommand{\\QQ}{\\mathbb{Q} }\n",
    "\\newcommand{\\RR}{\\mathbb{R} }\n",
    "\\newcommand{\\DD}{\\mathbb{D} }\n",
    "\\newcommand{\\HH}{\\mathbb{H} }\n",
    "\\newcommand{\\spn}{\\mathrm{span} }\n",
    "\\newcommand{\\cov}{\\mathrm{cov} }\n",
    "\\newcommand{\\sgn}{\\mathrm{sgn} }\n",
    "\\newcommand{\\HS}{\\mathcal{L}_{\\mathrm{HS}} }\n",
    "%\\newcommand{\\HS}{\\mathrm{HS} }\n",
    "\\newcommand{\\trace}{\\mathrm{trace} }\n",
    "\\newcommand{\\LL}{\\mathcal{L} }\n",
    "%\\newcommand{\\LL}{\\mathrm{L} }\n",
    "\\newcommand{\\s}{\\mathcal{S} }\n",
    "\\newcommand{\\ee}{\\mathcal{E} }\n",
    "\\newcommand{\\ff}{\\mathcal{F} }\n",
    "\\newcommand{\\hh}{\\mathcal{H} }\n",
    "\\newcommand{\\bb}{\\mathcal{B} }\n",
    "\\newcommand{\\dd}{\\mathcal{D} }\n",
    "\\newcommand{\\g}{\\mathcal{G} }\n",
    "\\newcommand{\\p}{\\partial}\n",
    "\\newcommand{\\half}{\\frac{1}{2} }\n",
    "\\newcommand{\\T}{\\mathcal{T} }\n",
    "\\newcommand{\\bi}{\\begin{itemize}}\n",
    "\\newcommand{\\ei}{\\end{itemize}}\n",
    "\\newcommand{\\beq}{\\begin{equation}}\n",
    "\\newcommand{\\eeq}{\\end{equation}}\n",
    "\\newcommand{\\beas}{\\begin{eqnarray*}}\n",
    "\\newcommand{\\eeas}{\\end{eqnarray*}}\n",
    "\\newcommand{\\cO}{\\mathcal{O}}\n",
    "\\newcommand{\\cF}{\\mathcal{F}}\n",
    "\\newcommand{\\cI}{\\mathcal{I}}\n",
    "\\newcommand{\\cL}{\\mathcal{L}}\n",
    "\\newcommand{\\cM}{\\mathcal{M}}\n",
    "\\newcommand{\\BS}{\\text{BS}}\n",
    "$$"
   ]
  },
  {
   "cell_type": "markdown",
   "metadata": {},
   "source": [
    "<font color = \"red\">Homework is to be done by each student individually. To receive full credit, you must upload a completed copy of this Jupyter notebook to this [Dropbox File Request link](https://www.dropbox.com/request/PZA28rCAAIjCKzbPMDGb) by the due date and time.  All python code must run correctly and solutions must be written up neatly in Markdown/LaTeX format.</font>"
   ]
  },
  {
   "cell_type": "markdown",
   "metadata": {},
   "source": [
    "<font color=blue>Please name your submission as <b>9879HW05_Lastname_Firstname.ipynb</b> (noticing the underscores) <br>\n",
    "e.g., for John Smith, the filename should read 9879HW05_Smith_John. <br> </font>\n",
    "<font color=red><i>Violation of the naming rule will incur a 20% penalty to the score. </i></font>"
   ]
  },
  {
   "cell_type": "markdown",
   "metadata": {},
   "source": [
    "<font color=\"blue\">If you encounter problems with Markdown/LaTeX or Jupyter notebook, please contact your TAs: Robert Wei (robert.wei.p72@gmail.com) and Adam Wen (wen.adam@hotmail.com).</font>"
   ]
  },
  {
   "cell_type": "markdown",
   "metadata": {},
   "source": [
    "### 0. (0 points) \n",
    "Read Chapter 7 of Hasbrouck, Chapters 4 and 5 of Foucault, Pagano and R&ouml;ell, and Chapter 15 of Trades, Quotes and Prices."
   ]
  },
  {
   "cell_type": "markdown",
   "metadata": {},
   "source": [
    "## The Kyle (1985) model"
   ]
  },
  {
   "cell_type": "markdown",
   "metadata": {},
   "source": [
    "### 1. (14 points)\n",
    "\n",
    "Suppose that the monopolistic trader in the Kyle (1985) model is not told the true value $\\tilde S$ but is instead given a signal $x=\\tilde S+\\epsilon$ with $\\epsilon \\sim N(0,\\sigma_\\epsilon^2)$, where $\\tilde S$ and $\\epsilon$ are assumed independent.\n",
    "\n",
    "(a) Compute the conditional expectation $\\mathbb{E}[\\tilde S|x]$.\n",
    "\n",
    "(b) If $\\mathcal I$ assumes that the market maker $\\mathcal M$ generates a price function of the form $p=\\mu +\\lambda\\,y$, show that the informed trader's optimal (profit maximizing) demand is given by\n",
    "\n",
    "$$\n",
    "y_i=\\frac{\\phi}{2\\,\\lambda}\\,\\left(x-\\mu\\right)\n",
    "$$\n",
    "\n",
    "where\n",
    "\n",
    "$$\n",
    "\\phi = \\frac{\\sigma^2}{\\sigma^2+\\sigma_\\epsilon^2}.\n",
    "$$\n",
    "\n",
    "(c) Following the derivation from the lecture slides, use the result of (b) to deduce equation (11) in the lecture slides:\n",
    "\n",
    "$$\n",
    "\\lambda=\\frac{\\sigma}{2\\,\\sigma_u}\\,\\sqrt{\\phi}.\n",
    "$$\n"
   ]
  },
  {
   "cell_type": "markdown",
   "metadata": {},
   "source": [
    "#### <font color=blue> Solution 1(a). </font>"
   ]
  },
  {
   "cell_type": "markdown",
   "metadata": {},
   "source": [
    "The prior distribution $$\\tilde{S}\\sim N(\\mu,\\sigma^2)$$The observation distribution $$x\\big|\\tilde{S}\\sim N(\\tilde{S},\\sigma_\\epsilon^2)$$Thus, the posterior distribution is normal and follows $$\\tilde{S}\\big|x\\sim N(\\phi x+(1-\\phi)\\mu,\\frac{\\sigma^2\\sigma_\\epsilon^2}{\\sigma^2+\\sigma_\\epsilon^2})$$ where $$\\phi=\\frac{\\sigma^2}{\\sigma^2+\\sigma_\\epsilon^2}$$\n",
    "Because here we take $\\tau_y=\\frac{1}{\\sigma^2}$ and $\\tau_x=\\frac{1}{\\sigma_\\epsilon^2}$"
   ]
  },
  {
   "cell_type": "markdown",
   "metadata": {},
   "source": [
    "#### <font color=blue> Solution 1(b). </font>"
   ]
  },
  {
   "cell_type": "markdown",
   "metadata": {},
   "source": [
    "The informed trader is trying to maximize its expected profit given his signal, i.e.\n",
    "$$\\mathbb{E}[y_i(\\tilde{S}-p(y))\\big|x]$$\n",
    "And taking $p(y)=\\mu+\\lambda y$ and $y=y_i+y_u$ we get\n",
    "$$\\begin{align}\\mathbb{E}[y_i(\\tilde{S}-p(y))\\big|x]&=\\mathbb{E}[y_i(\\tilde{S}-\\mu-\\lambda(y_i+y_u))\\big|x]\\\\&=y_i\\mathbb{E}[\\tilde{S}\\big|x]-\\mu y_i-\\lambda y_i^2-\\lambda y_i\\mathbb{E}[y_u\\big|x]\\\\&=y_i(\\phi x+(1-\\phi)\\mu)-\\mu y_i-\\lambda y_i^2\\\\&=-\\lambda y_i^2+\\phi(x-\\mu)y_i\\end{align}$$\n",
    "Since it is a quadratic function, it reaches maximum at$$y_i=\\frac{\\phi(x-\\mu)}{2\\lambda}$$"
   ]
  },
  {
   "cell_type": "markdown",
   "metadata": {},
   "source": [
    "#### <font color=blue> Solution 1(c). </font>"
   ]
  },
  {
   "cell_type": "markdown",
   "metadata": {},
   "source": [
    "The market maker sets the price functions as the expectation of the stock price given the quantity $y$ because of perfect competition. Thus\n",
    "$$p(y)=\\mathbb{E}(\\tilde{S}\\big|y)=\\mathbb{E}(\\tilde{S})+\\frac{Cov[\\tilde{S},y]}{Var[y]}(y-\\mathbb{E}[y])$$due to regression.<br>\n",
    "Now that $y_i=\\frac{\\phi(\\tilde{S}+\\epsilon-\\mu)}{2\\lambda}$, $y_u\\sim N(0,\\sigma_u)$ So we get $$Var[y]=Var[y_i]+Var[y_u]=\\frac{\\phi^2}{4\\lambda^2}(\\sigma^2+\\sigma_\\epsilon^2)+\\sigma_u^2$$\n",
    "$$Cov[\\tilde{S},y]=\\frac{\\phi}{2\\lambda}Var[\\tilde{S}]=\\frac{\\phi}{2\\lambda}\\sigma^2$$\n",
    "Thus, the equillibrium $\\frac{Cov[\\tilde{S},y]}{Var[y]}=\\lambda$ is $$\\frac{\\frac{\\phi}{2\\lambda}\\sigma^2}{\\frac{\\phi^2}{4\\lambda^2}(\\sigma^2+\\sigma_\\epsilon^2)+\\sigma_u^2}=\\lambda$$ and we solve this equation, get\n",
    "$$\\lambda=\\frac{\\sqrt{2\\phi\\sigma^2-\\phi^2(\\sigma^2+\\sigma_\\epsilon^2)}}{2\\sigma_u}=\\frac{\\sigma\\sqrt{\\phi}}{2\\sigma_u}$$"
   ]
  },
  {
   "cell_type": "markdown",
   "metadata": {},
   "source": [
    "### 2. (2 points) \n",
    "In the Kyle model, if the characteristic uninformed demand $\\sigma_u$ increases by some factor $\\theta$, what happens to the optimal informed trader demand $y_i$?"
   ]
  },
  {
   "cell_type": "markdown",
   "metadata": {},
   "source": [
    "#### <font color=blue> Solution 2. </font>"
   ]
  },
  {
   "cell_type": "markdown",
   "metadata": {},
   "source": [
    "In Kyle model, the informed trader demand is \n",
    "$$y_i=\\frac{\\tilde{S}-\\mu}{2\\lambda}=\\frac{\\sigma_u}{\\sigma}(\\tilde{S}-\\mu)$$\n",
    "When uninformed demand variance $\\sigma_u$ increase by factor $\\theta$ to $(1+\\theta)\\sigma_u$, $y_i$ also increase by $\\theta$ and $$y_i=\\frac{(1+\\theta)\\sigma_u}{\\sigma}(\\tilde{S}-\\mu)$$"
   ]
  },
  {
   "cell_type": "markdown",
   "metadata": {},
   "source": [
    "### 3. (6 points) \n",
    "\n",
    "As in Exercise 7.3 of Hasbrouck (but with different notation), suppose that a broker $\\mathcal P$ spots an insider and decides to submit his own piggyback orders.  Specifically, if $\\mathcal I$ submits demand $y_i$, $\\mathcal P$ submits demand $\\gamma\\,y_i$ with $\\gamma>0$.\n",
    "\n",
    "(a) Assuming that $\\mathcal I$ can detect how much piggyback order flow there is, deduce that the equilibrium Kyle lambda is unchanged from the original case where there are no piggyback orders.\n",
    "\n",
    "(b) Derive expressions for $\\mathcal I$'s optimal demand $y_i$ and his expected P&L.\n",
    "\n",
    "(c) Explain to a non-expert what happens to your trade capacity and your profitability if someone is piggybacking on your trades.\n"
   ]
  },
  {
   "cell_type": "markdown",
   "metadata": {},
   "source": [
    "#### <font color=blue> Solution 3(a). </font>"
   ]
  },
  {
   "cell_type": "markdown",
   "metadata": {},
   "source": [
    "The total order $y$ is now $$y=y_i+y_u+y_p=(1+\\gamma)y_i+y_u$$\n",
    "Thus for the informed trader, the optimization problem is to maximize\n",
    "$$\\begin{align}\\mathbb{E}[y_i(\\tilde{S}-p(y))\\big|\\tilde{S}]&=\\mathbb{E}[y_i(\\tilde{S}-\\mu-\\lambda((1+\\gamma)y_i+y_u))\\big|\\tilde{S}]\\\\&=y_i\\tilde{S}-\\mu y_i-\\lambda (1+\\gamma)y_i^2-\\lambda y_i\\mathbb{E}[y_u\\big|\\tilde{S}]\\\\&=(\\tilde{S}-\\mu) y_i-\\lambda (1+\\gamma)y_i^2\\end{align}$$\n",
    "From the quadratic function we get $$y_i=\\frac{\\tilde{S}-\\mu}{2\\lambda(1+\\gamma)}$$\n",
    "Given this expression we can derive that \n",
    "$$\\mbox{Var}[y] = \\mbox{Var}[y_u] + (1+\\gamma)^2\\mbox{Var}[y_i] = \\sigma_u^2 + \\frac{\\sigma^2}{4 \\lambda^2}\\, \\text{ and } \\mbox{Cov}[\\tilde S,y]= \\frac{\\sigma^2}{2\\lambda(1+\\gamma)}.$$\n",
    "Then solving the equillibrium $\\frac{Cov[\\tilde{S},y]}{Var[y]}=\\lambda$, we get $\\lambda$ and covariance both scaled by $\\frac{1}{1+\\gamma}$, and they cancelled out on two sides. As a result, the solution of $\\lambda$ is unchanged and $$\\lambda=\\frac{\\sigma}{2\\sigma_u}$$"
   ]
  },
  {
   "cell_type": "markdown",
   "metadata": {},
   "source": [
    "#### <font color=blue> Solution 3(b). </font>"
   ]
  },
  {
   "cell_type": "markdown",
   "metadata": {},
   "source": [
    "Optimal demand $$y_i=\\frac{\\tilde{S}-\\mu}{2\\lambda(1+\\gamma)}=\\frac{\\sigma_u(\\tilde{S}-\\mu)}{\\sigma(1+\\gamma)}$$\n",
    "Expected P&L is $$\\mathbb{E}[y_i(\\tilde{S}-p(y))\\big|\\tilde{S}]=(\\tilde{S}-\\mu) y_i-\\lambda (1+\\gamma)y_i^2=\\frac{\\sigma_u(\\tilde{S}-\\mu)^2}{2\\sigma(1+\\gamma)}$$"
   ]
  },
  {
   "cell_type": "markdown",
   "metadata": {},
   "source": [
    "#### <font color=blue> Solution 3(c). </font>"
   ]
  },
  {
   "cell_type": "markdown",
   "metadata": {},
   "source": [
    "If there is a piggybacker and the informed trader knows his behavior, his trade capacity will decrease by a proportion and profit will decrease by a same proportion. This is because to maintain the optimal profit, the total number of informed orders should stay the same. If I know there is someone piggybacking, I will send less order to keep the total number of informed orders unchanged or I will not get optimal profit in that the price given by the market maker will change."
   ]
  }
 ],
 "metadata": {
  "celltoolbar": "Slideshow",
  "kernelspec": {
   "display_name": "Python 3 (ipykernel)",
   "language": "python",
   "name": "python3"
  },
  "language_info": {
   "codemirror_mode": {
    "name": "ipython",
    "version": 3
   },
   "file_extension": ".py",
   "mimetype": "text/x-python",
   "name": "python",
   "nbconvert_exporter": "python",
   "pygments_lexer": "ipython3",
   "version": "3.11.4"
  },
  "varInspector": {
   "cols": {
    "lenName": 16,
    "lenType": 16,
    "lenVar": 40
   },
   "kernels_config": {
    "python": {
     "delete_cmd_postfix": "",
     "delete_cmd_prefix": "del ",
     "library": "var_list.py",
     "varRefreshCmd": "print(var_dic_list())"
    },
    "r": {
     "delete_cmd_postfix": ") ",
     "delete_cmd_prefix": "rm(",
     "library": "var_list.r",
     "varRefreshCmd": "cat(var_dic_list()) "
    }
   },
   "types_to_exclude": [
    "module",
    "function",
    "builtin_function_or_method",
    "instance",
    "_Feature"
   ],
   "window_display": false
  }
 },
 "nbformat": 4,
 "nbformat_minor": 4
}
