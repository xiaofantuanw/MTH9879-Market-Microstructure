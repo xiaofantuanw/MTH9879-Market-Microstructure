{
 "cells": [
  {
   "cell_type": "markdown",
   "metadata": {
    "slideshow": {
     "slide_type": "slide"
    }
   },
   "source": [
    "## MTH 9879 Market Microstructure Models, Spring 2024\n",
    "\n",
    "<p>\n",
    "\n",
    "### Lecture 4: Understanding the bid-ask spread\n",
    "\n",
    "<p>\n",
    "Lecture note by Jim Gatheral\n",
    "  \n",
    "  \n",
    "<h3><img src=\"http://mfe.baruch.cuny.edu/wp-content/uploads/2016/04/MFE-Logo.jpg\" align = \"center\" width=500></h3>\n",
    "\n",
    "\n",
    "\n",
    "$$\n",
    "\\newcommand{\\bea}{\\begin{eqnarray}}\n",
    "\\newcommand{\\eea}{\\end{eqnarray}}\n",
    "\\newcommand{\\supp}{\\mathrm{supp}}\n",
    "\\newcommand{\\F}{\\mathcal{F} }\n",
    "\\newcommand{\\cF}{\\mathcal{F} }\n",
    "\\newcommand{\\E}{\\mathbb{E} }\n",
    "\\newcommand{\\Eof}[1]{\\mathbb{E}\\left[ #1 \\right]}\n",
    "\\def\\Cov{{ \\mbox{Cov} }}\n",
    "\\def\\Var{{ \\mbox{Var} }}\n",
    "\\newcommand{\\1}{\\mathbf{1} }\n",
    "\\newcommand{\\p}{\\partial}\n",
    "\\newcommand{\\PP}{\\mathbb{P} }\n",
    "\\newcommand{\\Pof}[1]{\\mathbb{P}\\left[ #1 \\right]}\n",
    "\\newcommand{\\QQ}{\\mathbb{Q} }\n",
    "\\newcommand{\\R}{\\mathbb{R} }\n",
    "\\newcommand{\\DD}{\\mathbb{D} }\n",
    "\\newcommand{\\HH}{\\mathbb{H} }\n",
    "\\newcommand{\\spn}{\\mathrm{span} }\n",
    "\\newcommand{\\cov}{\\mathrm{cov} }\n",
    "\\newcommand{\\HS}{\\mathcal{L}_{\\mathrm{HS}} }\n",
    "\\newcommand{\\Hess}{\\mathrm{Hess} }\n",
    "\\newcommand{\\trace}{\\mathrm{trace} }\n",
    "\\newcommand{\\cL}{\\mathcal{L} }\n",
    "\\newcommand{\\cG}{\\mathcal{G} }\n",
    "\\newcommand{\\cM}{\\mathcal{M} }\n",
    "\\newcommand{\\Xv}{X^{(v)}}\n",
    "\\newcommand{\\s}{\\mathcal{S} }\n",
    "\\newcommand{\\cE}{\\mathcal{E} }\n",
    "\\newcommand{\\ff}{\\mathcal{F} }\n",
    "\\newcommand{\\hh}{\\mathcal{H} }\n",
    "\\newcommand{\\bb}{\\mathcal{B} }\n",
    "\\newcommand{\\dd}{\\mathcal{D} }\n",
    "\\newcommand{\\g}{\\mathcal{G} }\n",
    "\\newcommand{\\half}{\\frac{1}{2} }\n",
    "\\newcommand{\\T}{\\mathcal{T} }\n",
    "\\newcommand{\\bit}{\\begin{itemize}}\n",
    "\\newcommand{\\eit}{\\end{itemize}}\n",
    "\\newcommand{\\beq}{\\begin{equation}}\n",
    "\\newcommand{\\eeq}{\\end{equation}}\n",
    "\\newcommand{\\beas}{\\begin{eqnarray*}}\n",
    "\\newcommand{\\eeas}{\\end{eqnarray*}}\n",
    "\\newcommand{\\tr}{\\mbox{tr}}\n",
    "\\newcommand{\\ee}[1]{{\\mathbb{E}\\left[{#1}\\right]}}\n",
    "\\newcommand{\\eef}[1]{{\\mathbb{E}\\left[\\left.{#1}\\right|\\cF_t\\right]}}\n",
    "\\newcommand{\\eefm}[2]{{\\mathbb{E}^{#2}\\left[\\left.{#1}\\right|\\cF_t\\right]}}\n",
    "\\newcommand{\\angl}[1]{{\\langle{#1}\\rangle}}\n",
    "$$\n",
    "\n",
    "\n"
   ]
  },
  {
   "cell_type": "markdown",
   "metadata": {
    "slideshow": {
     "slide_type": "slide"
    }
   },
   "source": [
    "## Outline of Lecture 4\n",
    "\n",
    "-   The Roll model\n",
    "-   TAQ data cleaning and trade signing\n",
    "-   A generalization of the Roll model\n",
    "-   The Glosten and Milgrom model\n",
    "-   The Glosten and Harris model\n",
    "-   The Madhavan-Richardson-Roomans model\n",
    "-   The Huang and Stoll model\n",
    "-   PIN and VPIN - the probability of informed trading\n",
    "-   Empirical relationship between spread and volatility"
   ]
  },
  {
   "cell_type": "markdown",
   "metadata": {
    "slideshow": {
     "slide_type": "slide"
    }
   },
   "source": [
    "### The Roll model\n",
    "\n",
    "-   We think of the efficient price\n",
    "    $m_t=\\mathbb{E} [\\tilde S|\\mathcal{F} _t]$ as being the expected\n",
    "    value of the cashflows of a security, conditioning on all public\n",
    "    information.\n",
    "\n",
    "-   We model trade prices $p_t$ as\n",
    "\n",
    "    <a name=\"eq:Roll\"></a>(1)\n",
    "    $$p_t=m_{t}+c\\,\\epsilon_t$$\n",
    "\n",
    "    where (under competition), $c$ is the market maker $\\mathcal{M}$’s\n",
    "    cost to trade and $\\epsilon_t=\\pm1$ is a trade sign indicator.\n",
    "\n",
    "-   We further assume that trade signs are <font color=blue> serially independent with\n",
    "    equal probabilities of buys and sells </font>."
   ]
  },
  {
   "cell_type": "markdown",
   "metadata": {
    "slideshow": {
     "slide_type": "slide"
    }
   },
   "source": [
    "### The Roll model\n",
    "\n",
    "Under these (very unrealistic) assumptions, we have\n",
    "\n",
    "\\begin{eqnarray*}\n",
    "\\gamma_0:=\\mbox{Var}[\\Delta p_t]&=&\\mathbb{E} [\\Delta p_t^2]\\\\\n",
    "&=&\\mathbb{E} [\\Delta m_t^2]+c^2\\,\\mbox{Var}[\\epsilon_t-\\epsilon_{t-1}]\\\\\n",
    "&=&\\sigma^2+2\\,c^2\\end{eqnarray*}\n",
    "\n",
    "where $\\sigma$ is the volatility of the stock per trade."
   ]
  },
  {
   "cell_type": "markdown",
   "metadata": {
    "slideshow": {
     "slide_type": "subslide"
    }
   },
   "source": [
    "Also,\n",
    "\n",
    "\\begin{eqnarray*}\n",
    "\\gamma_1:&=&\\mbox{Cov}[\\Delta p_{t-1},\\Delta p_t]\\\\\n",
    "&=&\\mathbb{E} [\\Delta p_{t-1}\\,\\Delta p_t]\\\\\n",
    "&=&\\mathbb{E} [\\left\\{\\Delta m_{t-1}+c\\,(\\epsilon_{t-1}-\\epsilon_{t-2})\\right\\}\\left\\{\\Delta m_{t}+c\\,(\\epsilon_{t}-\\epsilon_{t-1})\\right\\}]\\\\\n",
    "&=&-c^2\\end{eqnarray*}\n",
    "\n",
    "Higher order autocovariances are all zero.\n",
    "\n",
    "#### Note\n",
    "$\\Delta m_t$ and $\\Delta m_{t-1}$ are uncorrelated since $m_t$ is a martingale. "
   ]
  },
  {
   "cell_type": "markdown",
   "metadata": {
    "slideshow": {
     "slide_type": "slide"
    }
   },
   "source": [
    "### The Roll model\n",
    "\n",
    "We conclude that the effective half-spread is given by\n",
    "\n",
    "$$c=\\sqrt{-\\gamma_1}$$ \n",
    "and \n",
    "$$\\sigma^2=\\gamma_0+2\\,\\gamma_1.$$\n",
    "\n",
    "The first\n",
    "order autocovariance is negative because of bid-ask bounce.\n",
    "\n"
   ]
  },
  {
   "cell_type": "markdown",
   "metadata": {
    "slideshow": {
     "slide_type": "slide"
    }
   },
   "source": [
    "### Autocorrelation of BAC price changes"
   ]
  },
  {
   "cell_type": "code",
   "execution_count": 1,
   "metadata": {},
   "outputs": [],
   "source": [
    "import pandas as pd\n",
    "import matplotlib.pyplot as plt\n",
    "from statsmodels.graphics.tsaplots import plot_acf\n",
    "from statsmodels.tsa.stattools import acf\n",
    "import numpy as np"
   ]
  },
  {
   "cell_type": "code",
   "execution_count": 2,
   "metadata": {},
   "outputs": [],
   "source": [
    "tqdata = pd.read_csv('tqDataBAC1_20170919.csv')\n",
    "tqdata['TIME'] = pd.to_datetime(tqdata['TIME'])\n",
    "tqdata = tqdata.set_index('TIME')"
   ]
  },
  {
   "cell_type": "code",
   "execution_count": 3,
   "metadata": {},
   "outputs": [
    {
     "data": {
      "text/plain": [
       "SYMBOL     object\n",
       "EX         object\n",
       "PRICE     float64\n",
       "SIZE        int64\n",
       "COND       object\n",
       "BID       float64\n",
       "BIDSIZ      int64\n",
       "OFR       float64\n",
       "OFRSIZ      int64\n",
       "SIGN        int64\n",
       "dtype: object"
      ]
     },
     "execution_count": 3,
     "metadata": {},
     "output_type": "execute_result"
    }
   ],
   "source": [
    "tqdata.dtypes"
   ]
  },
  {
   "cell_type": "markdown",
   "metadata": {
    "slideshow": {
     "slide_type": "slide"
    }
   },
   "source": [
    "### Baruch data and the R `highfrequency` package\n",
    "\n",
    "- The millisecond level trades and quotes data we will use is courtesy of [Professor Richard Holowcak](https://zicklin.baruch.cuny.edu/faculty-profile/richard-holowczak/) and comes from the [SIAC](http://www.essexradez.com/faq_data_feeds.html#9) feed.\n",
    "- In principle, we can match trades and quotes using the `highfrequency` package.\n",
    "    - Here's a description of the `highfrequency` package from the vignette:\n",
    ">Provide functionality to manage, clean and match highfrequency\n",
    "trades and quotes data, calculate various liquidity measures, estimate and\n",
    "forecast volatility, and investigate microstructure noise and intraday\n",
    "periodicity.\n",
    "- However, the `highfrequency` package cannot take advantage of millisecond data.  \n",
    "    - The necessary functions to deal with millisecond-level data have been recoded by then Baruch undergraduate student [Suguru Kaneda](https://www.linkedin.com/in/suguru-kaneda-296886130)."
   ]
  },
  {
   "cell_type": "markdown",
   "metadata": {
    "slideshow": {
     "slide_type": "slide"
    }
   },
   "source": [
    "### What does the data look like?"
   ]
  },
  {
   "cell_type": "code",
   "execution_count": 4,
   "metadata": {},
   "outputs": [
    {
     "data": {
      "text/html": [
       "<div>\n",
       "<style scoped>\n",
       "    .dataframe tbody tr th:only-of-type {\n",
       "        vertical-align: middle;\n",
       "    }\n",
       "\n",
       "    .dataframe tbody tr th {\n",
       "        vertical-align: top;\n",
       "    }\n",
       "\n",
       "    .dataframe thead th {\n",
       "        text-align: right;\n",
       "    }\n",
       "</style>\n",
       "<table border=\"1\" class=\"dataframe\">\n",
       "  <thead>\n",
       "    <tr style=\"text-align: right;\">\n",
       "      <th></th>\n",
       "      <th>SYMBOL</th>\n",
       "      <th>EX</th>\n",
       "      <th>PRICE</th>\n",
       "      <th>SIZE</th>\n",
       "      <th>COND</th>\n",
       "      <th>BID</th>\n",
       "      <th>BIDSIZ</th>\n",
       "      <th>OFR</th>\n",
       "      <th>OFRSIZ</th>\n",
       "      <th>SIGN</th>\n",
       "    </tr>\n",
       "    <tr>\n",
       "      <th>TIME</th>\n",
       "      <th></th>\n",
       "      <th></th>\n",
       "      <th></th>\n",
       "      <th></th>\n",
       "      <th></th>\n",
       "      <th></th>\n",
       "      <th></th>\n",
       "      <th></th>\n",
       "      <th></th>\n",
       "      <th></th>\n",
       "    </tr>\n",
       "  </thead>\n",
       "  <tbody>\n",
       "    <tr>\n",
       "      <th>2017-09-19 09:30:00</th>\n",
       "      <td>BAC</td>\n",
       "      <td>P</td>\n",
       "      <td>24.70</td>\n",
       "      <td>20000</td>\n",
       "      <td></td>\n",
       "      <td>24.72</td>\n",
       "      <td>6</td>\n",
       "      <td>24.74</td>\n",
       "      <td>100</td>\n",
       "      <td>-1</td>\n",
       "    </tr>\n",
       "    <tr>\n",
       "      <th>2017-09-19 09:30:01</th>\n",
       "      <td>BAC</td>\n",
       "      <td>T</td>\n",
       "      <td>24.71</td>\n",
       "      <td>300</td>\n",
       "      <td></td>\n",
       "      <td>24.72</td>\n",
       "      <td>6</td>\n",
       "      <td>24.74</td>\n",
       "      <td>100</td>\n",
       "      <td>-1</td>\n",
       "    </tr>\n",
       "    <tr>\n",
       "      <th>2017-09-19 09:30:01</th>\n",
       "      <td>BAC</td>\n",
       "      <td>P</td>\n",
       "      <td>24.70</td>\n",
       "      <td>100</td>\n",
       "      <td></td>\n",
       "      <td>24.72</td>\n",
       "      <td>6</td>\n",
       "      <td>24.74</td>\n",
       "      <td>100</td>\n",
       "      <td>-1</td>\n",
       "    </tr>\n",
       "    <tr>\n",
       "      <th>2017-09-19 09:30:02</th>\n",
       "      <td>BAC</td>\n",
       "      <td>N</td>\n",
       "      <td>24.73</td>\n",
       "      <td>429950</td>\n",
       "      <td></td>\n",
       "      <td>24.72</td>\n",
       "      <td>6</td>\n",
       "      <td>24.74</td>\n",
       "      <td>100</td>\n",
       "      <td>1</td>\n",
       "    </tr>\n",
       "    <tr>\n",
       "      <th>2017-09-19 09:30:02</th>\n",
       "      <td>BAC</td>\n",
       "      <td>N</td>\n",
       "      <td>24.72</td>\n",
       "      <td>100</td>\n",
       "      <td></td>\n",
       "      <td>24.72</td>\n",
       "      <td>35</td>\n",
       "      <td>24.74</td>\n",
       "      <td>420</td>\n",
       "      <td>-1</td>\n",
       "    </tr>\n",
       "  </tbody>\n",
       "</table>\n",
       "</div>"
      ],
      "text/plain": [
       "                    SYMBOL EX  PRICE    SIZE COND    BID  BIDSIZ    OFR  \\\n",
       "TIME                                                                      \n",
       "2017-09-19 09:30:00    BAC  P  24.70   20000       24.72       6  24.74   \n",
       "2017-09-19 09:30:01    BAC  T  24.71     300       24.72       6  24.74   \n",
       "2017-09-19 09:30:01    BAC  P  24.70     100       24.72       6  24.74   \n",
       "2017-09-19 09:30:02    BAC  N  24.73  429950       24.72       6  24.74   \n",
       "2017-09-19 09:30:02    BAC  N  24.72     100       24.72      35  24.74   \n",
       "\n",
       "                     OFRSIZ  SIGN  \n",
       "TIME                               \n",
       "2017-09-19 09:30:00     100    -1  \n",
       "2017-09-19 09:30:01     100    -1  \n",
       "2017-09-19 09:30:01     100    -1  \n",
       "2017-09-19 09:30:02     100     1  \n",
       "2017-09-19 09:30:02     420    -1  "
      ]
     },
     "execution_count": 4,
     "metadata": {},
     "output_type": "execute_result"
    }
   ],
   "source": [
    "tqdata.head()"
   ]
  },
  {
   "cell_type": "code",
   "execution_count": 5,
   "metadata": {},
   "outputs": [
    {
     "data": {
      "text/html": [
       "<div>\n",
       "<style scoped>\n",
       "    .dataframe tbody tr th:only-of-type {\n",
       "        vertical-align: middle;\n",
       "    }\n",
       "\n",
       "    .dataframe tbody tr th {\n",
       "        vertical-align: top;\n",
       "    }\n",
       "\n",
       "    .dataframe thead th {\n",
       "        text-align: right;\n",
       "    }\n",
       "</style>\n",
       "<table border=\"1\" class=\"dataframe\">\n",
       "  <thead>\n",
       "    <tr style=\"text-align: right;\">\n",
       "      <th></th>\n",
       "      <th>SYMBOL</th>\n",
       "      <th>EX</th>\n",
       "      <th>PRICE</th>\n",
       "      <th>SIZE</th>\n",
       "      <th>COND</th>\n",
       "      <th>BID</th>\n",
       "      <th>BIDSIZ</th>\n",
       "      <th>OFR</th>\n",
       "      <th>OFRSIZ</th>\n",
       "      <th>SIGN</th>\n",
       "    </tr>\n",
       "    <tr>\n",
       "      <th>TIME</th>\n",
       "      <th></th>\n",
       "      <th></th>\n",
       "      <th></th>\n",
       "      <th></th>\n",
       "      <th></th>\n",
       "      <th></th>\n",
       "      <th></th>\n",
       "      <th></th>\n",
       "      <th></th>\n",
       "      <th></th>\n",
       "    </tr>\n",
       "  </thead>\n",
       "  <tbody>\n",
       "    <tr>\n",
       "      <th>2017-09-19 15:59:59</th>\n",
       "      <td>BAC</td>\n",
       "      <td>B</td>\n",
       "      <td>24.870</td>\n",
       "      <td>137</td>\n",
       "      <td></td>\n",
       "      <td>24.86</td>\n",
       "      <td>3020</td>\n",
       "      <td>24.87</td>\n",
       "      <td>2071</td>\n",
       "      <td>1</td>\n",
       "    </tr>\n",
       "    <tr>\n",
       "      <th>2017-09-19 16:00:00</th>\n",
       "      <td>BAC</td>\n",
       "      <td>P</td>\n",
       "      <td>24.870</td>\n",
       "      <td>28400</td>\n",
       "      <td></td>\n",
       "      <td>24.86</td>\n",
       "      <td>3020</td>\n",
       "      <td>24.87</td>\n",
       "      <td>1956</td>\n",
       "      <td>1</td>\n",
       "    </tr>\n",
       "    <tr>\n",
       "      <th>2017-09-19 16:00:00</th>\n",
       "      <td>BAC</td>\n",
       "      <td>A</td>\n",
       "      <td>24.860</td>\n",
       "      <td>100</td>\n",
       "      <td></td>\n",
       "      <td>24.86</td>\n",
       "      <td>3020</td>\n",
       "      <td>24.87</td>\n",
       "      <td>1956</td>\n",
       "      <td>-1</td>\n",
       "    </tr>\n",
       "    <tr>\n",
       "      <th>2017-09-19 16:00:00</th>\n",
       "      <td>BAC</td>\n",
       "      <td>P</td>\n",
       "      <td>24.870</td>\n",
       "      <td>28400</td>\n",
       "      <td></td>\n",
       "      <td>24.86</td>\n",
       "      <td>3020</td>\n",
       "      <td>24.87</td>\n",
       "      <td>1956</td>\n",
       "      <td>1</td>\n",
       "    </tr>\n",
       "    <tr>\n",
       "      <th>2017-09-19 16:00:00</th>\n",
       "      <td>BAC</td>\n",
       "      <td>T</td>\n",
       "      <td>24.865</td>\n",
       "      <td>99</td>\n",
       "      <td></td>\n",
       "      <td>24.86</td>\n",
       "      <td>3020</td>\n",
       "      <td>24.87</td>\n",
       "      <td>1956</td>\n",
       "      <td>-1</td>\n",
       "    </tr>\n",
       "  </tbody>\n",
       "</table>\n",
       "</div>"
      ],
      "text/plain": [
       "                    SYMBOL EX   PRICE   SIZE COND    BID  BIDSIZ    OFR  \\\n",
       "TIME                                                                      \n",
       "2017-09-19 15:59:59    BAC  B  24.870    137       24.86    3020  24.87   \n",
       "2017-09-19 16:00:00    BAC  P  24.870  28400       24.86    3020  24.87   \n",
       "2017-09-19 16:00:00    BAC  A  24.860    100       24.86    3020  24.87   \n",
       "2017-09-19 16:00:00    BAC  P  24.870  28400       24.86    3020  24.87   \n",
       "2017-09-19 16:00:00    BAC  T  24.865     99       24.86    3020  24.87   \n",
       "\n",
       "                     OFRSIZ  SIGN  \n",
       "TIME                               \n",
       "2017-09-19 15:59:59    2071     1  \n",
       "2017-09-19 16:00:00    1956     1  \n",
       "2017-09-19 16:00:00    1956    -1  \n",
       "2017-09-19 16:00:00    1956     1  \n",
       "2017-09-19 16:00:00    1956    -1  "
      ]
     },
     "execution_count": 5,
     "metadata": {},
     "output_type": "execute_result"
    }
   ],
   "source": [
    "tqdata.tail()"
   ]
  },
  {
   "cell_type": "markdown",
   "metadata": {
    "slideshow": {
     "slide_type": "slide"
    }
   },
   "source": [
    "### Autocorrelation of BAC price changes"
   ]
  },
  {
   "cell_type": "code",
   "execution_count": 6,
   "metadata": {},
   "outputs": [
    {
     "data": {
      "image/png": "[encoded data removed]",
      "text/plain": [
       "<Figure size 1200x600 with 1 Axes>"
      ]
     },
     "metadata": {},
     "output_type": "display_data"
    }
   ],
   "source": [
    "p = tqdata['PRICE']\n",
    "dp = np.diff(p)\n",
    "\n",
    "# plot autocorrelation function for price changes\n",
    "plt.rc('figure', figsize=(12,6))\n",
    "plot_acf(dp, alpha=0.01, lags=100, linewidth=0, color='red')\n",
    "plt.title('Autocorrelation function for prices changes', fontsize=20, fontweight='bold')\n",
    "plt.xlabel('lag', fontsize=15)\n",
    "plt.ylabel('acf', fontsize=15);"
   ]
  },
  {
   "cell_type": "code",
   "execution_count": 7,
   "metadata": {},
   "outputs": [
    {
     "data": {
      "text/plain": [
       "array([ 1.00000000e+00, -3.74935743e-01, -9.13339792e-03, -5.87116031e-04,\n",
       "       -1.16171527e-02,  1.79716163e-02])"
      ]
     },
     "execution_count": 7,
     "metadata": {},
     "output_type": "execute_result"
    }
   ],
   "source": [
    "acf_dp = acf(dp, nlags=5, fft=False)\n",
    "acf_dp"
   ]
  },
  {
   "cell_type": "markdown",
   "metadata": {
    "slideshow": {
     "slide_type": "fragment"
    }
   },
   "source": [
    "Figure 1: Autocorrelation of BAC price changes (19-Sep-2017)"
   ]
  },
  {
   "cell_type": "markdown",
   "metadata": {
    "slideshow": {
     "slide_type": "slide"
    }
   },
   "source": [
    "### Roll estimate of bid-ask spread"
   ]
  },
  {
   "cell_type": "code",
   "execution_count": 8,
   "metadata": {},
   "outputs": [
    {
     "data": {
      "text/plain": [
       "0.001856063678428155"
      ]
     },
     "execution_count": 8,
     "metadata": {},
     "output_type": "execute_result"
    }
   ],
   "source": [
    "np.sqrt(-acf_dp[1])*np.std(dp)"
   ]
  },
  {
   "cell_type": "markdown",
   "metadata": {
    "slideshow": {
     "slide_type": "fragment"
    }
   },
   "source": [
    "That is, the Roll estimate is $0.18$ cents."
   ]
  },
  {
   "cell_type": "markdown",
   "metadata": {
    "slideshow": {
     "slide_type": "slide"
    }
   },
   "source": [
    "### BAC is a large tick stock"
   ]
  },
  {
   "cell_type": "code",
   "execution_count": 9,
   "metadata": {},
   "outputs": [
    {
     "name": "stdout",
     "output_type": "stream",
     "text": [
      "24460 23663 797\n"
     ]
    },
    {
     "data": {
      "text/plain": [
       "0.03258381030253475"
      ]
     },
     "execution_count": 9,
     "metadata": {},
     "output_type": "execute_result"
    }
   ],
   "source": [
    "bid = tqdata['BID']\n",
    "ask = tqdata['OFR']\n",
    "spread = np.round(ask - bid, 2)\n",
    "\n",
    "print(len(spread), len(spread[spread==0.01]), len(spread[spread==0.02]))\n",
    "len(spread[spread==0.02])/len(spread)"
   ]
  },
  {
   "cell_type": "markdown",
   "metadata": {
    "slideshow": {
     "slide_type": "fragment"
    }
   },
   "source": [
    "The spread is 2 cents only 3% of the time."
   ]
  },
  {
   "cell_type": "markdown",
   "metadata": {
    "slideshow": {
     "slide_type": "slide"
    }
   },
   "source": [
    "### Exchange codes\n",
    "\n",
    "https://www.ctaplan.com/publicdocs/ctaplan/notifications/trader-update/CTS_BINARY_OUTPUT_SPECIFICATION.pdf\n",
    "\n",
    "| Code | Exchange |\n",
    "| :-------: | :------------: |\n",
    "| A | NYSE American |\n",
    "| B | NASDAQ OMX BX \n",
    "|\tC\t|\tNYSE National\t\n",
    "|\tD\t|\tFINRA\n",
    "|\tI\t|\tInternational Securities Exchange\t\n",
    "|\tJ\t|\tCboe EDGA\t\n",
    "|\tK\t|\tCboe EDGX\t\n",
    "|\tM\t|\tChicago Stock Exchange (CHX)\t\n",
    "|\tN\t|\tNYSE\t\n",
    "|\tP\t|\tNYSE Arca\t\n",
    "|\tQ\t|\tNASDAQ OMX\t\n",
    "|\tS\t|\tConsolidated Tape System (CTS)\t\n",
    "|\tT\t|\tNASDAQ\t\n",
    "|\tU\t|\tOTCBB\t\n",
    "|\tV\t|\tInvestors’ Exchange (IEX)\t\n",
    "|\tW\t|\tCBOE Stock Exchange (CBSX)\n",
    "|\tX\t|\tNASDAQ OMX PSX\t\n",
    "|\tY\t|\tCboe BYX \t\n",
    "|\tZ\t|\tCboe BZX\n"
   ]
  },
  {
   "cell_type": "markdown",
   "metadata": {
    "slideshow": {
     "slide_type": "subslide"
    }
   },
   "source": [
    "### How many trades on each exchange?"
   ]
  },
  {
   "cell_type": "code",
   "execution_count": 10,
   "metadata": {},
   "outputs": [
    {
     "data": {
      "text/plain": [
       "Y    7139\n",
       "N    4641\n",
       "B    3388\n",
       "J    2104\n",
       "V    1958\n",
       "T    1575\n",
       "Z    1318\n",
       "P    1123\n",
       "K     859\n",
       "X     247\n",
       "M      81\n",
       "A      27\n",
       "Name: EX, dtype: int64"
      ]
     },
     "execution_count": 10,
     "metadata": {},
     "output_type": "execute_result"
    }
   ],
   "source": [
    "tqdata['EX'].value_counts()"
   ]
  },
  {
   "cell_type": "markdown",
   "metadata": {
    "slideshow": {
     "slide_type": "fragment"
    }
   },
   "source": [
    "We see that BYX and NYSE are the two biggest."
   ]
  },
  {
   "cell_type": "markdown",
   "metadata": {
    "slideshow": {
     "slide_type": "slide"
    }
   },
   "source": [
    "### 5 minutes of BAC trades"
   ]
  },
  {
   "cell_type": "code",
   "execution_count": 11,
   "metadata": {},
   "outputs": [],
   "source": [
    "tqdata_min5 = tqdata.between_time('11:40:00', '11:45:00')"
   ]
  },
  {
   "cell_type": "markdown",
   "metadata": {
    "slideshow": {
     "slide_type": "fragment"
    }
   },
   "source": [
    "How many trades from each exchange over this 5-minute interval?"
   ]
  },
  {
   "cell_type": "code",
   "execution_count": 12,
   "metadata": {},
   "outputs": [
    {
     "data": {
      "text/plain": [
       "Y    91\n",
       "B    34\n",
       "V    26\n",
       "T    24\n",
       "N    19\n",
       "P    16\n",
       "J    13\n",
       "Z    11\n",
       "K     9\n",
       "X     2\n",
       "Name: EX, dtype: int64"
      ]
     },
     "execution_count": 12,
     "metadata": {},
     "output_type": "execute_result"
    }
   ],
   "source": [
    "tqdata_min5['EX'].value_counts()"
   ]
  },
  {
   "cell_type": "code",
   "execution_count": 13,
   "metadata": {},
   "outputs": [
    {
     "data": {
      "text/plain": [
       "(24.85, 24.88, [24.84, 24.9])"
      ]
     },
     "execution_count": 13,
     "metadata": {},
     "output_type": "execute_result"
    }
   ],
   "source": [
    "ymax = tqdata_min5['OFR'].max()\n",
    "ymin = tqdata_min5['BID'].min()\n",
    "yrange = [ymin-0.01, ymax+0.02]\n",
    "ymin, ymax, yrange"
   ]
  },
  {
   "cell_type": "code",
   "execution_count": 14,
   "metadata": {},
   "outputs": [],
   "source": [
    "colors = [\"red\", \"green\", \"orange\", \"brown\", \"turquoise\", \"pink\"]\n",
    "\n",
    "# list of top 6 most traded exchanges\n",
    "ex_list = tqdata_min5['EX'].value_counts().index[0:6]\n",
    "\n",
    "ex_names = [\"Y - Cboe BYX\", \n",
    "            \"B - NASDAQ OMX BX\",\n",
    "            \"V - IEX\",\n",
    "            \"T - NASDAQ\",\n",
    "            \"N - NYSE\",\n",
    "            \"P - NYSE Arca\"]\n",
    "\n",
    "ex_colors = dict(zip(ex_list, colors))\n",
    "legend = dict(zip(ex_list, ex_names))"
   ]
  },
  {
   "cell_type": "code",
   "execution_count": 15,
   "metadata": {},
   "outputs": [
    {
     "data": {
      "image/png": "[encoded data removed]",
      "text/plain": [
       "<Figure size 1000x600 with 1 Axes>"
      ]
     },
     "metadata": {},
     "output_type": "display_data"
    }
   ],
   "source": [
    "bid = tqdata_min5['BID']\n",
    "ask = tqdata_min5['OFR']\n",
    "price = tqdata_min5['PRICE']\n",
    "\n",
    "plt.figure(figsize=(10, 6))\n",
    "plt.plot(bid, color='red', linewidth=0.5)\n",
    "plt.plot(ask, color='blue', linewidth=0.5)\n",
    "for ex in ex_list:\n",
    "    plt.plot(price[tqdata_min5['EX']==ex], color=ex_colors[ex], marker='.', \n",
    "             linewidth=0, label=legend[ex])\n",
    "\n",
    "plt.ylim(yrange)\n",
    "plt.grid(linestyle='dotted', linewidth=0.5)\n",
    "plt.title('Trades and quotes by exchanges', fontsize=20, fontweight='bold')\n",
    "plt.legend(loc='upper left');"
   ]
  },
  {
   "cell_type": "markdown",
   "metadata": {
    "slideshow": {
     "slide_type": "fragment"
    }
   },
   "source": [
    "Figure 2: BAC trades (19-Sep-2017)"
   ]
  },
  {
   "cell_type": "markdown",
   "metadata": {
    "slideshow": {
     "slide_type": "slide"
    }
   },
   "source": [
    "### Mid-prices fills\n",
    "\n",
    "- Many of the fills in Figure 2 are at the mid-price.\n",
    "- Let's compute what proportion of trades occur inside the spread, and of these, how many exactly at the mid-price."
   ]
  },
  {
   "cell_type": "code",
   "execution_count": 16,
   "metadata": {},
   "outputs": [
    {
     "data": {
      "image/png": "[encoded data removed]",
      "text/plain": [
       "<Figure size 1200x600 with 1 Axes>"
      ]
     },
     "metadata": {},
     "output_type": "display_data"
    }
   ],
   "source": [
    "plt.figure(figsize=(12, 6))\n",
    "plt.plot(tqdata['PRICE'] % 0.01, 'b.')\n",
    "plt.ylabel('Trade prices modulo 1 cent');"
   ]
  },
  {
   "cell_type": "markdown",
   "metadata": {
    "slideshow": {
     "slide_type": "fragment"
    }
   },
   "source": [
    "Figure 3: BAC trades at the touch and inside the spread (19-Sep-2017). Anything that is not $0.00$ or $0.01$ is inside the spread."
   ]
  },
  {
   "cell_type": "markdown",
   "metadata": {
    "slideshow": {
     "slide_type": "subslide"
    }
   },
   "source": [
    "### Percentage inside the spread"
   ]
  },
  {
   "cell_type": "code",
   "execution_count": 17,
   "metadata": {},
   "outputs": [
    {
     "data": {
      "text/html": [
       "<div>\n",
       "<style scoped>\n",
       "    .dataframe tbody tr th:only-of-type {\n",
       "        vertical-align: middle;\n",
       "    }\n",
       "\n",
       "    .dataframe tbody tr th {\n",
       "        vertical-align: top;\n",
       "    }\n",
       "\n",
       "    .dataframe thead th {\n",
       "        text-align: right;\n",
       "    }\n",
       "</style>\n",
       "<table border=\"1\" class=\"dataframe\">\n",
       "  <thead>\n",
       "    <tr style=\"text-align: right;\">\n",
       "      <th></th>\n",
       "      <th>n_trades</th>\n",
       "      <th>n_inside</th>\n",
       "      <th>n_mid</th>\n",
       "      <th>ratio_inside</th>\n",
       "      <th>ratio_mid</th>\n",
       "    </tr>\n",
       "  </thead>\n",
       "  <tbody>\n",
       "    <tr>\n",
       "      <th>0</th>\n",
       "      <td>24460</td>\n",
       "      <td>7016</td>\n",
       "      <td>6309</td>\n",
       "      <td>0.286836</td>\n",
       "      <td>0.257931</td>\n",
       "    </tr>\n",
       "  </tbody>\n",
       "</table>\n",
       "</div>"
      ],
      "text/plain": [
       "   n_trades  n_inside  n_mid  ratio_inside  ratio_mid\n",
       "0     24460      7016   6309      0.286836   0.257931"
      ]
     },
     "execution_count": 17,
     "metadata": {},
     "output_type": "execute_result"
    }
   ],
   "source": [
    "prices_modulo1 = tqdata['PRICE'] % 0.01\n",
    "n_trades = len(prices_modulo1)\n",
    "\n",
    "n_inside = 0\n",
    "for x in prices_modulo1:\n",
    "    if x > 0.0001 and x < 0.0099:\n",
    "        n_inside += 1\n",
    "\n",
    "n_mid = 0\n",
    "for x in prices_modulo1:\n",
    "    if x > 0.0048 and x < 0.0052:\n",
    "        n_mid += 1\n",
    "\n",
    "ratio_inside = n_inside/n_trades\n",
    "ratio_mid = n_mid/n_trades\n",
    "\n",
    "# present the result in a pandas.DataFrame object\n",
    "cols = ['n_trades', 'n_inside', 'n_mid', 'ratio_inside', 'ratio_mid']\n",
    "pd.DataFrame([[n_trades, n_inside, n_mid, ratio_inside, ratio_mid]], columns=cols)"
   ]
  },
  {
   "cell_type": "markdown",
   "metadata": {
    "slideshow": {
     "slide_type": "slide"
    }
   },
   "source": [
    "### Signing trades: The Lee and Ready tick test\n",
    "\n",
    "Lee and Ready devised a simple method to infer trade direction in cases\n",
    "when quote data (and so mid-price) is not available:\n",
    "-   If a trade is on an uptick, it is a buy.\n",
    "-   If the trade is on a downtick, it is a sell.\n",
    "-   If the trade is on a zero-uptick, it is a buy.\n",
    "-   If the trade is on a zero-downtick, it is a sell.\n",
    "\n",
    "It can be verified that this algorithm classifies most trades in the\n",
    "same way as the classification based on comparison with the mid-price.\n",
    "However, note that according to Bandi and Russell \n",
    "> *the Lee and Ready\n",
    "method, for example, is known to categorize incorrectly about 15% of the trades.*"
   ]
  },
  {
   "cell_type": "markdown",
   "metadata": {
    "slideshow": {
     "slide_type": "slide"
    }
   },
   "source": [
    "### Bessembinder recommendation\n",
    "\n",
    "-   If quotes are available, Lee and Ready (1991) recommend comparing\n",
    "    current trade prices with quotes lagged by around 5 seconds.\n",
    "-   Ellis, Michaely, and O’Hara (EMO) assign trades executed at the ask\n",
    "    (bid) quote as buys (sells), while using the tick test for all other\n",
    "    trades."
   ]
  },
  {
   "cell_type": "markdown",
   "metadata": {
    "slideshow": {
     "slide_type": "subslide"
    }
   },
   "source": [
    "However, [Bessembinder]<sup id=\"cite_ref-Bessembinder\" class=\"reference\"><a href=\"#cite_note-Bessembinder\"><span>[</span>2<span>]</span></a></sup> (in a 2003 paper) recommends as follows:\n",
    "\n",
    "1.  Use the EMO technique in preference to the LR method to sign trades\n",
    "\n",
    "2.  Implement the EMO technique on the basis of contemporaneous rather\n",
    "    than earlier quotations\n",
    "\n",
    "3.  Use quotation midpoints in effect somewhat prior to the trade report\n",
    "    time as the benchmark quote when measuring effective bid-ask\n",
    "    spreads.\n",
    "    \n",
    "- The latency (\"somehwat prior\") that works now is down to about 15 milliseconds!"
   ]
  },
  {
   "cell_type": "markdown",
   "metadata": {
    "slideshow": {
     "slide_type": "slide"
    }
   },
   "source": [
    "### TAQ data cleaning\n",
    "\n",
    "Data cleaning is critical. Here follows a recipe for TAQ cleaning due to\n",
    "[Barndorff-Nielsen et al.]<sup id=\"cite_ref-BNS\" class=\"reference\"><a href=\"#cite_note-BNS\"><span>[</span>1<span>]</span></a></sup> and implemented in the R-package `highfrequency`:\n",
    "\n",
    "<span>**All data**</span>\n",
    "\n",
    "- Delete entries with a timestamp outside the 9:30am–4pm window when the exchange is open.\n",
    "- Delete entries with a bid, ask or transaction price equal to zero.\n",
    "- Retain entries originating from a single exchange (NYSE in our application). Delete other entries."
   ]
  },
  {
   "cell_type": "markdown",
   "metadata": {
    "slideshow": {
     "slide_type": "subslide"
    }
   },
   "source": [
    "<span>**Quote data only**</span>\n",
    "\n",
    "- When multiple quotes have the same time stamp, we replace all these with a single entry with the median bid and median ask price.\n",
    "- Delete entries for which the spread is negative.\n",
    "- Delete entries for which the spread is more that 50 times the median spread on that day.\n",
    "- Delete entries for which the mid-quote deviated by more than 10 mean absolute deviations from a rolling centered median (excluding the observation under consideration) of 50 observations (25 observations before and 25 after)."
   ]
  },
  {
   "cell_type": "markdown",
   "metadata": {
    "slideshow": {
     "slide_type": "subslide"
    }
   },
   "source": [
    "<span>**Trade data only**</span>\n",
    "\n",
    "- Delete entries with corrected trades. (Trades with a Correction Indicator, CORR $\\neq$ 0).\n",
    "- Delete entries with abnormal Sale Condition. (Trades where COND has a letter code, except for E and F). See the TAQ 3 Users Guide for additional details about sale conditions.\n",
    "- If multiple transactions have the same time stamp, use the median price.\n",
    "- Delete entries with prices that are above the ask plus the bid–ask spread. Similar for entries with prices below the bid minus the bid–ask spread."
   ]
  },
  {
   "cell_type": "markdown",
   "metadata": {
    "slideshow": {
     "slide_type": "slide"
    }
   },
   "source": [
    "### One reason that analysis should be for each exchange separately\n",
    "\n",
    " Quoting from an SEC document at https://www.sec.gov/marketstructure/research/highlight-2014-03.html#.WKyOjzKZM_U:\n",
    " \n",
    " >The two dominant formats used by the exchanges to report trade and order activities on their direct feeds are “order-based” and “level-book.” The order-based method prints a message for every displayed quote or order (i.e., orders that are not immediately executable and not denoted as hidden). Each displayed order receives an order identification number (“order id”) that permits the matching of subsequent events, including cancels, modifications, and executions to specific resting orders. To compute the total posted liquidity at any given price point for a given stock, one must keep track of every order, cancel, modification, and execution during the course of the trading day.\n",
    " "
   ]
  },
  {
   "cell_type": "markdown",
   "metadata": {
    "slideshow": {
     "slide_type": "subslide"
    }
   },
   "source": [
    ">In contrast, the level-book method prints a message for every event that impacts the order book at a given price point for each stock, but does not print distinct order messages with their own order ids. The total posted liquidity at any given price point for a given stock is readily ascertained from the most recent level-book message for that price point.\n",
    "\n",
    ">Most exchanges currently use the more granular order-based method for their direct feeds, including NYSE Arca, BATS, Chicago (CHX), Direct Edge, Nasdaq, Nasdaq BX, Nasdaq PSX and National. NYSE and NYSE MKT (Amex) use the level-book method."
   ]
  },
  {
   "cell_type": "markdown",
   "metadata": {
    "slideshow": {
     "slide_type": "subslide"
    }
   },
   "source": [
    "   > ...\n",
    "   But suppose that instead of the orders being canceled, they are executed as a result of an incoming market order for 500 shares. Direct feeds using the order-based mechanism will report three distinct trades, of 100, 300, and 100 shares each, with three unique order ids tied to the original resting orders. But the level-book feed will report only one trade for the total 500 shares. This example demonstrates how the same 500-share market order yields a different trade count depending on whether the direct feed uses the order-based or level-book approach. "
   ]
  },
  {
   "cell_type": "markdown",
   "metadata": {
    "slideshow": {
     "slide_type": "slide"
    }
   },
   "source": [
    "### Autocorrelation of BAC trade signs"
   ]
  },
  {
   "cell_type": "code",
   "execution_count": 18,
   "metadata": {},
   "outputs": [],
   "source": [
    "trade_signs = tqdata['SIGN']"
   ]
  },
  {
   "cell_type": "code",
   "execution_count": 45,
   "metadata": {},
   "outputs": [
    {
     "data": {
      "image/png": "[encoded data removed]",
      "text/plain": [
       "<Figure size 900x600 with 1 Axes>"
      ]
     },
     "metadata": {},
     "output_type": "display_data"
    }
   ],
   "source": [
    "plt.rc('figure', figsize=(9,6))\n",
    "plot_acf(trade_signs, color='red');"
   ]
  },
  {
   "cell_type": "markdown",
   "metadata": {
    "slideshow": {
     "slide_type": "fragment"
    }
   },
   "source": [
    "Figure 4: Autocorrelation of BAC trade signs (19-Sep-20127)"
   ]
  },
  {
   "cell_type": "markdown",
   "metadata": {
    "slideshow": {
     "slide_type": "slide"
    }
   },
   "source": [
    "### Log-log plot of autocorrelation of trade signs"
   ]
  },
  {
   "cell_type": "code",
   "execution_count": 20,
   "metadata": {},
   "outputs": [],
   "source": [
    "# import statsmodels module for linear regression\n",
    "import statsmodels.formula.api as sm\n",
    "from statsmodels.sandbox.regression.predstd import wls_prediction_std"
   ]
  },
  {
   "cell_type": "code",
   "execution_count": 21,
   "metadata": {},
   "outputs": [],
   "source": [
    "acf_ts = acf(trade_signs, fft=False)[1:]\n",
    "log_acf_ts = np.log(acf_ts)\n",
    "log_lag = np.log(np.arange(1, len(acf_ts) + 1))"
   ]
  },
  {
   "cell_type": "code",
   "execution_count": 22,
   "metadata": {},
   "outputs": [],
   "source": [
    "# create pandas.DataFrame object for OLS (and a better presentation)\n",
    "df = pd.DataFrame({'log_lag': log_lag, 'log_acf': log_acf_ts}) "
   ]
  },
  {
   "cell_type": "code",
   "execution_count": 23,
   "metadata": {},
   "outputs": [
    {
     "data": {
      "text/html": [
       "<div>\n",
       "<style scoped>\n",
       "    .dataframe tbody tr th:only-of-type {\n",
       "        vertical-align: middle;\n",
       "    }\n",
       "\n",
       "    .dataframe tbody tr th {\n",
       "        vertical-align: top;\n",
       "    }\n",
       "\n",
       "    .dataframe thead th {\n",
       "        text-align: right;\n",
       "    }\n",
       "</style>\n",
       "<table border=\"1\" class=\"dataframe\">\n",
       "  <thead>\n",
       "    <tr style=\"text-align: right;\">\n",
       "      <th></th>\n",
       "      <th>log_lag</th>\n",
       "      <th>log_acf</th>\n",
       "    </tr>\n",
       "  </thead>\n",
       "  <tbody>\n",
       "    <tr>\n",
       "      <th>0</th>\n",
       "      <td>0.000000</td>\n",
       "      <td>-0.743986</td>\n",
       "    </tr>\n",
       "    <tr>\n",
       "      <th>1</th>\n",
       "      <td>0.693147</td>\n",
       "      <td>-0.970606</td>\n",
       "    </tr>\n",
       "    <tr>\n",
       "      <th>2</th>\n",
       "      <td>1.098612</td>\n",
       "      <td>-1.048878</td>\n",
       "    </tr>\n",
       "    <tr>\n",
       "      <th>3</th>\n",
       "      <td>1.386294</td>\n",
       "      <td>-1.126679</td>\n",
       "    </tr>\n",
       "    <tr>\n",
       "      <th>4</th>\n",
       "      <td>1.609438</td>\n",
       "      <td>-1.187115</td>\n",
       "    </tr>\n",
       "  </tbody>\n",
       "</table>\n",
       "</div>"
      ],
      "text/plain": [
       "    log_lag   log_acf\n",
       "0  0.000000 -0.743986\n",
       "1  0.693147 -0.970606\n",
       "2  1.098612 -1.048878\n",
       "3  1.386294 -1.126679\n",
       "4  1.609438 -1.187115"
      ]
     },
     "execution_count": 23,
     "metadata": {},
     "output_type": "execute_result"
    }
   ],
   "source": [
    "df.head()"
   ]
  },
  {
   "cell_type": "code",
   "execution_count": 24,
   "metadata": {},
   "outputs": [
    {
     "name": "stdout",
     "output_type": "stream",
     "text": [
      "                            OLS Regression Results                            \n",
      "==============================================================================\n",
      "Dep. Variable:                log_acf   R-squared:                       0.959\n",
      "Model:                            OLS   Adj. R-squared:                  0.958\n",
      "Method:                 Least Squares   F-statistic:                     954.9\n",
      "Date:                Thu, 15 Feb 2024   Prob (F-statistic):           5.02e-30\n",
      "Time:                        15:22:13   Log-Likelihood:                 48.153\n",
      "No. Observations:                  43   AIC:                            -92.31\n",
      "Df Residuals:                      41   BIC:                            -88.78\n",
      "Df Model:                           1                                         \n",
      "Covariance Type:            nonrobust                                         \n",
      "==============================================================================\n",
      "                 coef    std err          t      P>|t|      [0.025      0.975]\n",
      "------------------------------------------------------------------------------\n",
      "Intercept     -0.5226      0.042    -12.447      0.000      -0.607      -0.438\n",
      "log_lag       -0.4388      0.014    -30.901      0.000      -0.467      -0.410\n",
      "==============================================================================\n",
      "Omnibus:                        5.723   Durbin-Watson:                   0.233\n",
      "Prob(Omnibus):                  0.057   Jarque-Bera (JB):                5.633\n",
      "Skew:                          -0.869   Prob(JB):                       0.0598\n",
      "Kurtosis:                       2.646   Cond. No.                         11.1\n",
      "==============================================================================\n",
      "\n",
      "Notes:\n",
      "[1] Standard Errors assume that the covariance matrix of the errors is correctly specified.\n"
     ]
    }
   ],
   "source": [
    "# OLS from the statsmodels module\n",
    "result = sm.ols(formula='log_acf ~ log_lag', data=df).fit()\n",
    "print(result.summary())"
   ]
  },
  {
   "cell_type": "code",
   "execution_count": 25,
   "metadata": {},
   "outputs": [
    {
     "data": {
      "text/plain": [
       "Intercept   -0.522608\n",
       "log_lag     -0.438815\n",
       "dtype: float64"
      ]
     },
     "execution_count": 25,
     "metadata": {},
     "output_type": "execute_result"
    }
   ],
   "source": [
    "result.params"
   ]
  },
  {
   "cell_type": "code",
   "execution_count": 26,
   "metadata": {},
   "outputs": [
    {
     "data": {
      "text/plain": [
       "0   -0.522608\n",
       "1   -0.826772\n",
       "2   -1.004696\n",
       "3   -1.130935\n",
       "4   -1.228854\n",
       "dtype: float64"
      ]
     },
     "execution_count": 26,
     "metadata": {},
     "output_type": "execute_result"
    }
   ],
   "source": [
    "result.predict(dict(log_lag=log_lag)).head()\n",
    "# can also be retrieved by result.fittedvalues"
   ]
  },
  {
   "cell_type": "code",
   "execution_count": 27,
   "metadata": {},
   "outputs": [
    {
     "data": {
      "text/html": [
       "<div>\n",
       "<style scoped>\n",
       "    .dataframe tbody tr th:only-of-type {\n",
       "        vertical-align: middle;\n",
       "    }\n",
       "\n",
       "    .dataframe tbody tr th {\n",
       "        vertical-align: top;\n",
       "    }\n",
       "\n",
       "    .dataframe thead th {\n",
       "        text-align: right;\n",
       "    }\n",
       "</style>\n",
       "<table border=\"1\" class=\"dataframe\">\n",
       "  <thead>\n",
       "    <tr style=\"text-align: right;\">\n",
       "      <th></th>\n",
       "      <th>lower_band</th>\n",
       "      <th>upper_band</th>\n",
       "    </tr>\n",
       "  </thead>\n",
       "  <tbody>\n",
       "    <tr>\n",
       "      <th>0</th>\n",
       "      <td>-0.706624</td>\n",
       "      <td>-0.338593</td>\n",
       "    </tr>\n",
       "    <tr>\n",
       "      <th>1</th>\n",
       "      <td>-1.002937</td>\n",
       "      <td>-0.650606</td>\n",
       "    </tr>\n",
       "    <tr>\n",
       "      <th>2</th>\n",
       "      <td>-1.177168</td>\n",
       "      <td>-0.832224</td>\n",
       "    </tr>\n",
       "    <tr>\n",
       "      <th>3</th>\n",
       "      <td>-1.301221</td>\n",
       "      <td>-0.960650</td>\n",
       "    </tr>\n",
       "    <tr>\n",
       "      <th>4</th>\n",
       "      <td>-1.397702</td>\n",
       "      <td>-1.060007</td>\n",
       "    </tr>\n",
       "  </tbody>\n",
       "</table>\n",
       "</div>"
      ],
      "text/plain": [
       "   lower_band  upper_band\n",
       "0   -0.706624   -0.338593\n",
       "1   -1.002937   -0.650606\n",
       "2   -1.177168   -0.832224\n",
       "3   -1.301221   -0.960650\n",
       "4   -1.397702   -1.060007"
      ]
     },
     "execution_count": 27,
     "metadata": {},
     "output_type": "execute_result"
    }
   ],
   "source": [
    "# for plotting confidence interval\n",
    "_, iv_l, iv_u = wls_prediction_std(result)\n",
    "pd.DataFrame({'lower_band': iv_l.head(), 'upper_band': iv_u}).head()"
   ]
  },
  {
   "cell_type": "code",
   "execution_count": 28,
   "metadata": {},
   "outputs": [
    {
     "data": {
      "image/png": "[encoded data removed]",
      "text/plain": [
       "<Figure size 1000x600 with 1 Axes>"
      ]
     },
     "metadata": {},
     "output_type": "display_data"
    }
   ],
   "source": [
    "# log-log plot of trade sign autocorrelation\n",
    "plt.figure(figsize=(10,6))\n",
    "plt.plot(log_lag, log_acf_ts, 'b.')\n",
    "plt.plot(log_lag, result.fittedvalues, color='red', linewidth=1)\n",
    "plt.plot(log_lag, iv_u, 'g--', linewidth=0.5)\n",
    "plt.plot(log_lag, iv_l, 'g--', linewidth=0.5)\n",
    "plt.xlabel(r'$\\log(\\tau)$', fontsize=15)\n",
    "plt.ylabel(r'$\\log\\rho(\\tau)$', fontsize=15)\n",
    "plt.title('Autocorrelation log-log plot', fontsize=20);"
   ]
  },
  {
   "cell_type": "markdown",
   "metadata": {
    "slideshow": {
     "slide_type": "fragment"
    }
   },
   "source": [
    "Figure 5: Log-log plot of autocorrelation of BAC trade signs (19-Sep-20127).  Approximately $1/\\sqrt{\\tau}$."
   ]
  },
  {
   "cell_type": "markdown",
   "metadata": {
    "slideshow": {
     "slide_type": "slide"
    }
   },
   "source": [
    "### Estimate of Roll model using trade signs\n",
    "\n",
    "-   Recall the Roll model: $$p_t=m_{t}+c\\,\\epsilon_t.$$\n",
    "-   Recall that the Roll half-spread estimate just from trade data was $0.18$\n",
    "    cents.\n",
    "-   Now that we have trade signs, we may use these to estimate the\n",
    "    half-spread from the regression\n",
    "    $$\\Delta p_t=\\Delta m_t + c\\,\\Delta\\epsilon_t$$ "
   ]
  },
  {
   "cell_type": "code",
   "execution_count": 29,
   "metadata": {},
   "outputs": [],
   "source": [
    "deps = np.diff(trade_signs)\n",
    "mids = (tqdata['OFR'] + tqdata['BID'])/2\n",
    "dm = np.diff(mids)"
   ]
  },
  {
   "cell_type": "code",
   "execution_count": 30,
   "metadata": {},
   "outputs": [
    {
     "name": "stdout",
     "output_type": "stream",
     "text": [
      "                            OLS Regression Results                            \n",
      "==============================================================================\n",
      "Dep. Variable:                     dp   R-squared:                       0.711\n",
      "Model:                            OLS   Adj. R-squared:                  0.711\n",
      "Method:                 Least Squares   F-statistic:                 3.004e+04\n",
      "Date:                Thu, 15 Feb 2024   Prob (F-statistic):               0.00\n",
      "Time:                        15:22:14   Log-Likelihood:             1.2229e+05\n",
      "No. Observations:               24459   AIC:                        -2.446e+05\n",
      "Df Residuals:                   24456   BIC:                        -2.446e+05\n",
      "Df Model:                           2                                         \n",
      "Covariance Type:            nonrobust                                         \n",
      "==============================================================================\n",
      "                 coef    std err          t      P>|t|      [0.025      0.975]\n",
      "------------------------------------------------------------------------------\n",
      "Intercept   3.688e-06   1.04e-05      0.354      0.724   -1.67e-05    2.41e-05\n",
      "dm             0.5540      0.007     80.609      0.000       0.541       0.568\n",
      "deps           0.0026   1.06e-05    244.179      0.000       0.003       0.003\n",
      "==============================================================================\n",
      "Omnibus:                     3663.888   Durbin-Watson:                   2.592\n",
      "Prob(Omnibus):                  0.000   Jarque-Bera (JB):            58764.509\n",
      "Skew:                           0.123   Prob(JB):                         0.00\n",
      "Kurtosis:                      10.590   Cond. No.                         671.\n",
      "==============================================================================\n",
      "\n",
      "Notes:\n",
      "[1] Standard Errors assume that the covariance matrix of the errors is correctly specified.\n"
     ]
    }
   ],
   "source": [
    "# regress dp over dm + deps\n",
    "data = {'dp': dp, 'dm': dm, 'deps': deps}\n",
    "res = sm.ols('dp ~ dm + deps', data=data).fit()\n",
    "print(res.summary())"
   ]
  },
  {
   "cell_type": "code",
   "execution_count": 31,
   "metadata": {},
   "outputs": [
    {
     "data": {
      "text/plain": [
       "Intercept    0.000004\n",
       "dm           0.554042\n",
       "deps         0.002580\n",
       "dtype: float64"
      ]
     },
     "execution_count": 31,
     "metadata": {},
     "output_type": "execute_result"
    }
   ],
   "source": [
    "res.params\n",
    "# intercept is almost zero"
   ]
  },
  {
   "cell_type": "markdown",
   "metadata": {
    "slideshow": {
     "slide_type": "subslide"
    }
   },
   "source": [
    "- The resulting estimate of the half-spread in this case is $0.26$ cents.\n",
    "-   Trade signs are very autocorrelated with all coefficients\n",
    "    significant.  \n",
    "    - Autocorrelation decays slowly."
   ]
  },
  {
   "cell_type": "markdown",
   "metadata": {
    "slideshow": {
     "slide_type": "slide"
    }
   },
   "source": [
    "### A generalization of the Roll model\n",
    "\n",
    "-   As before, we model trade prices $p_t$ as\n",
    "    $$p_t=m_{t}+c\\,\\epsilon_t$$\n",
    "    but we allow the evolution of the\n",
    "    efficient price to depend on the trade sign:\n",
    "    \n",
    "    <a name=\"eq:GRoll\"></a>(2)\n",
    "    $$\\Delta m_t=m_t-m_{t-1}=\\lambda\\,\\epsilon_t+u_t$$\n",
    "\n",
    "    with $\\mbox{Cov}[\\epsilon_t,u_t]=0$.\n",
    "\n",
    "    -   This could reflect market impact and/or asymmetric information.\n",
    "-   Autocovariances are:\n",
    "$$\n",
    "    \\begin{eqnarray*}\n",
    "    \\gamma_0&=&\\mathbb{E} [\\Delta p^2]=c^2+(c+\\lambda)^2+\\sigma_u^2\\\\\n",
    "    \\gamma_1&=&\\mathbb{E} [\\Delta p_t\\, \\Delta p_{t-1}]=-c\\,(c+\\lambda)\\end{eqnarray*}\n",
    "$$\n",
    "-   All higher order autocovariances are zero."
   ]
  },
  {
   "cell_type": "markdown",
   "metadata": {
    "slideshow": {
     "slide_type": "slide"
    }
   },
   "source": [
    "### Estimation of parameters\n",
    "\n",
    "-   The variance of the efficient price is given by\n",
    "    $$\\mbox{Var}[\\Delta m_t]=\\lambda^2+\\sigma_u^2=\\gamma_0+2\\,\\gamma_1$$\n",
    "-   Thus $\\gamma_0$ and $\\gamma_1$ are not sufficient to identify $c$\n",
    "    and $\\lambda$ separately.\n",
    "-   With synchronized quotes or alternatively trade sign data, we can\n",
    "    identify $\\lambda$ and $c$ separately by regression. Specifically, \n",
    "    $$\n",
    "    \\Delta p_t = \\lambda \\,\\epsilon_t + c\\, \\Delta\\epsilon_{t} + u_t.\n",
    "    $$\n",
    "    -   With our BAC data, we get $\\lambda = 0.019$ cents and\n",
    "        $c = 0.228$ cents.\n",
    "\n"
   ]
  },
  {
   "cell_type": "markdown",
   "metadata": {
    "slideshow": {
     "slide_type": "subslide"
    }
   },
   "source": [
    "#### Estimation of Generalized Roll model"
   ]
  },
  {
   "cell_type": "code",
   "execution_count": 32,
   "metadata": {},
   "outputs": [
    {
     "name": "stdout",
     "output_type": "stream",
     "text": [
      "                            OLS Regression Results                            \n",
      "==============================================================================\n",
      "Dep. Variable:                     dp   R-squared:                       0.637\n",
      "Model:                            OLS   Adj. R-squared:                  0.637\n",
      "Method:                 Least Squares   F-statistic:                 2.142e+04\n",
      "Date:                Thu, 15 Feb 2024   Prob (F-statistic):               0.00\n",
      "Time:                        15:22:14   Log-Likelihood:             1.1950e+05\n",
      "No. Observations:               24459   AIC:                        -2.390e+05\n",
      "Df Residuals:                   24456   BIC:                        -2.390e+05\n",
      "Df Model:                           2                                         \n",
      "Covariance Type:            nonrobust                                         \n",
      "==============================================================================\n",
      "                 coef    std err          t      P>|t|      [0.025      0.975]\n",
      "------------------------------------------------------------------------------\n",
      "Intercept   2.774e-05   1.18e-05      2.353      0.019    4.64e-06    5.08e-05\n",
      "trade_sign     0.0002   1.37e-05     13.592      0.000       0.000       0.000\n",
      "deps           0.0023   1.34e-05    170.404      0.000       0.002       0.002\n",
      "==============================================================================\n",
      "Omnibus:                     3445.171   Durbin-Watson:                   2.386\n",
      "Prob(Omnibus):                  0.000   Jarque-Bera (JB):            51013.157\n",
      "Skew:                           0.029   Prob(JB):                         0.00\n",
      "Kurtosis:                      10.075   Cond. No.                         1.78\n",
      "==============================================================================\n",
      "\n",
      "Notes:\n",
      "[1] Standard Errors assume that the covariance matrix of the errors is correctly specified.\n"
     ]
    }
   ],
   "source": [
    "# regress dp over trade_sign and deps\n",
    "data = {'dp': dp, 'trade_sign': trade_signs[1:], 'deps': deps}\n",
    "res = sm.ols('dp ~ trade_sign + deps', data=data).fit()\n",
    "print(res.summary())"
   ]
  },
  {
   "cell_type": "code",
   "execution_count": 33,
   "metadata": {},
   "outputs": [
    {
     "data": {
      "text/plain": [
       "Intercept     0.000028\n",
       "trade_sign    0.000186\n",
       "deps          0.002278\n",
       "dtype: float64"
      ]
     },
     "execution_count": 33,
     "metadata": {},
     "output_type": "execute_result"
    }
   ],
   "source": [
    "res.params"
   ]
  },
  {
   "cell_type": "markdown",
   "metadata": {
    "slideshow": {
     "slide_type": "slide"
    }
   },
   "source": [
    "### Empirical notions of spread\n",
    "\n",
    "-   <span>**The effective spread**</span>\n",
    "    $$s^E=\\langle  2\\,\\epsilon_t\\,(p_t-m_t)  \\rangle$$\n",
    "-   <span>**The realized spread**</span>\n",
    "    $$s^R=\\langle  2\\,\\epsilon_t\\,(p_t-m_{t+\\tau})  \\rangle$$ for some\n",
    "    $\\tau >0$ (5 minutes say).\n",
    "-   In the Roll model, the two notions of spread coincide but if trading\n",
    "    affects the mid-price, the two notions will not in general agree.\n",
    "    -   Note that we don’t need to believe in asymmetric information to\n",
    "        believe in market impact. Recall that there is market impact even in\n",
    "        the zero-intelligence model.\n",
    "-   In general, empirically, the realized spread is smaller than the\n",
    "    effective spread.\n",
    "    -   With our BAC data, the effective half spread is $0.352$ cents and\n",
    "        the realized half spread after 500 trades is $0.148$ cents."
   ]
  },
  {
   "cell_type": "code",
   "execution_count": 34,
   "metadata": {},
   "outputs": [
    {
     "data": {
      "text/plain": [
       "0.0035158217497957686"
      ]
     },
     "execution_count": 34,
     "metadata": {},
     "output_type": "execute_result"
    }
   ],
   "source": [
    "# Effective half spread\n",
    "np.array(trade_signs*(p - mids)).mean()"
   ]
  },
  {
   "cell_type": "code",
   "execution_count": 35,
   "metadata": {},
   "outputs": [
    {
     "data": {
      "text/plain": [
       "0.001477963272120341"
      ]
     },
     "execution_count": 35,
     "metadata": {},
     "output_type": "execute_result"
    }
   ],
   "source": [
    "# Realized half spread\n",
    "n = len(p)\n",
    "\n",
    "def rs(lag):\n",
    "    ts, ps, mid = np.array([trade_signs[:(n-lag)], p[:(n-lag)], mids[lag:]])\n",
    "    return (ts*(ps - mid)).mean()\n",
    "\n",
    "rs(500)"
   ]
  },
  {
   "cell_type": "markdown",
   "metadata": {
    "slideshow": {
     "slide_type": "slide"
    }
   },
   "source": [
    "### BAC realized half spread over time"
   ]
  },
  {
   "cell_type": "code",
   "execution_count": 36,
   "metadata": {},
   "outputs": [],
   "source": [
    "rs_lags = [rs(lag) for lag in range(1, 501)]"
   ]
  },
  {
   "cell_type": "code",
   "execution_count": 46,
   "metadata": {},
   "outputs": [
    {
     "data": {
      "image/png": "[encoded data removed]",
      "text/plain": [
       "<Figure size 1000x600 with 1 Axes>"
      ]
     },
     "metadata": {},
     "output_type": "display_data"
    }
   ],
   "source": [
    "plt.figure(figsize=(10, 6))\n",
    "plt.plot(rs_lags, color='red')\n",
    "plt.xlabel(r'$\\tau$')\n",
    "plt.ylabel('Realized half spread')\n",
    "plt.ylim([0, 0.0035])\n",
    "plt.show()"
   ]
  },
  {
   "cell_type": "markdown",
   "metadata": {
    "slideshow": {
     "slide_type": "fragment"
    }
   },
   "source": [
    "Figure 6: Realized BAC half spread vs number of trades after execution (19-Sep-2017)"
   ]
  },
  {
   "cell_type": "markdown",
   "metadata": {
    "slideshow": {
     "slide_type": "slide"
    }
   },
   "source": [
    "### BAC realized spread by reporting exchange\n",
    "\n",
    "\n",
    "<h2><img src=\"http://mfe.baruch.cuny.edu/wp-content/uploads/2018/02/realizedSpreadByExch.png\" align = \"center\" width=900></h2>\n",
    "\n",
    "Figure 7: Different exchanges have different realized spread profiles depending on fee structure."
   ]
  },
  {
   "cell_type": "markdown",
   "metadata": {
    "slideshow": {
     "slide_type": "slide"
    }
   },
   "source": [
    "### Determinants of the bid-ask spread\n",
    "\n",
    "Recall that there are three main determinants of the bid-ask spread:\n",
    "-   Processing costs (which include the profit of the market maker)\n",
    "-   Inventory costs such as cost of risk capital\n",
    "-   Adverse selection\n",
    "\n",
    "In the Roll model, only processing costs are taken into account. In the\n",
    "generalized Roll model, adverse selection is also taken into account.\n",
    "\n"
   ]
  },
  {
   "cell_type": "markdown",
   "metadata": {
    "slideshow": {
     "slide_type": "slide"
    }
   },
   "source": [
    "### Models with asymmetric information\n",
    "\n",
    "There are two main classes of model with asymmetric information:\n",
    "-   Strategic trader models where typically a single informed trader\n",
    "    optimizes his use of information.\n",
    "    -   A good example is the Kyle model which we will cover in the next\n",
    "        lecture.\n",
    "-   Sequential trader models where randomly selected traders arrive one\n",
    "    after the other, independently.\n",
    "    -   The prototypical example is Glosten and Milgrom (1985).\n",
    "-   In sequential trader models, the spread set by the market maker\n",
    "    compensates for adverse selection."
   ]
  },
  {
   "cell_type": "markdown",
   "metadata": {
    "slideshow": {
     "slide_type": "slide"
    }
   },
   "source": [
    "### A sequential trade model (Glosten and Milgrom)\n",
    "\n",
    "-   In the Glosten and Milgrom model, the market maker $\\mathcal{M}$\n",
    "    learns the informed trader $\\mathcal{I} $’s information by observing\n",
    "    the order flow.\n",
    "    -   If there are more buys than sells over time, $\\mathcal{M}$ sets\n",
    "        the price higher.\n",
    "-   $\\mathcal{M}$ posts bid and ask prices $B$ and $A$.\n",
    "-   The value of the security is either high ($\\bar V$) with probability\n",
    "    $\\delta$ or low ($\\underline V$).\n",
    "-   A trader is drawn at random: either informed $\\mathcal{I} $ with\n",
    "    probability $\\mu$ or uninformed $\\mathcal{U}$.\n",
    "\n"
   ]
  },
  {
   "cell_type": "markdown",
   "metadata": {
    "slideshow": {
     "slide_type": "slide"
    }
   },
   "source": [
    "### Sequential trade model event tree\n",
    "\n",
    "<a name=\"eq:GlostenMilgromTree\"></a>(3)\n",
    "\n",
    "<h2><img src=\"http://mfe.baruch.cuny.edu/wp-content/uploads/2015/02/sequentialModelEventTree.png\" align = \"center\" width=500></h2>"
   ]
  },
  {
   "cell_type": "markdown",
   "metadata": {
    "slideshow": {
     "slide_type": "slide"
    }
   },
   "source": [
    "### Unconditional probabilities\n",
    "\n",
    "The unconditional probability of a buy is given by\n",
    "\n",
    "\\begin{eqnarray*}\n",
    "\\Pr[Buy]=\\frac{1}{2}\\,\\left(1-\\mu\\right)+\\delta\\,\\mu=\\frac 12 \\,\\left\\{1-\\mu\\,(1-2\\,\\delta)\\right\\}.\\end{eqnarray*}\n",
    "\n",
    "Similarly, the unconditional probability of a sell is given by\n",
    "\n",
    "$$\\Pr[Sell]=\\frac{1}{2} \\,(1-\\mu)+(1-\\delta)\\,\\mu=\\frac 12 \\,\\left\\{1+\\mu\\,(1-2\\,\\delta)\\right\\}.$$\n",
    "\n",
    "If $\\delta = \\frac12$, $\\Pr[Buy] = \\Pr[Sell] = \\frac12$.\n",
    "\n"
   ]
  },
  {
   "cell_type": "markdown",
   "metadata": {
    "slideshow": {
     "slide_type": "slide"
    }
   },
   "source": [
    "### Optimal bid price\n",
    "\n",
    "Under <span>*perfect competition*</span>, the optimal ask price is set\n",
    "as\n",
    "\n",
    "\\begin{eqnarray*}\n",
    "A&=&\\mathbb{E} [V|Buy]\\\\\n",
    "&=&{\\bar V\\,\\Pr(\\bar V|Buy)+\\underline V\\,\\Pr(\\underline V|Buy)}\\\\\n",
    "&=&\\frac{\\bar V\\,\\Pr(\\bar V \\cap Buy)+\\underline V\\,\\Pr(\\underline V \\cap Buy)}{\\Pr(Buy)}\\end{eqnarray*}"
   ]
  },
  {
   "cell_type": "markdown",
   "metadata": {
    "slideshow": {
     "slide_type": "subslide"
    }
   },
   "source": [
    "By inspection of the Glosten and Milgrom tree [(3)](#eq:GlostenMilgromTree), we have\n",
    "\n",
    "\\begin{eqnarray*}\n",
    "\\Pr(\\bar V \\cap Buy) &=& \\delta\\,\\left\\{\\mu+\\frac 12 (1-\\mu)\\right\\} = \\frac12 \\delta (1 + \\mu) \\\\\n",
    "\\Pr(\\underline V \\cap Buy) &=& (1-\\delta)\\,\\left\\{0+\\frac 12 (1-\\mu)\\right\\} = \\frac12 (1 - \\delta)(1 - \\mu)\n",
    "\\end{eqnarray*}\n",
    "\n",
    "and we already computed that\n",
    "$\\Pr(Buy)=\\frac 12 \\,\\left\\{1-\\mu\\,(1-2\\,\\delta)\\right\\}$. So\n",
    "\n",
    "$$A=\\mathbb{E} [V|Buy]=\\frac{\\underline V\\,(1-\\delta)\\,(1-\\mu)+\\bar V\\,\\delta\\,(1+\\mu)}{1-\\mu\\,(1-2\\,\\delta)}.$$"
   ]
  },
  {
   "cell_type": "markdown",
   "metadata": {
    "slideshow": {
     "slide_type": "slide"
    }
   },
   "source": [
    "### The spread\n",
    "\n",
    "Similarly,\n",
    "\n",
    "$$B=\\mathbb{E} [V|Sell]=\\frac{\\underline V\\,(1-\\delta)\\,(1+\\mu)+\\bar V\\,\\delta\\,(1-\\mu)}{1+\\mu\\,(1-2\\,\\delta)}$$\n",
    "\n",
    "so the spread is\n",
    "\n",
    "$$s=A-B=\\frac{4\\,(\\bar V-\\underline V)\\,\\mu\\,\\delta\\,(1-\\delta)}{1-\\mu^2\\,(1-2\\,\\delta)^2}.$$\n",
    "\n",
    "When $\\delta=1/2$, \n",
    "\n",
    "$$s=\\mu\\,(\\bar V-\\underline V)$$ \n",
    "\n",
    "and in this case, the spread is proportional to the probability of informed trading.\n",
    "\n"
   ]
  },
  {
   "cell_type": "markdown",
   "metadata": {
    "slideshow": {
     "slide_type": "slide"
    }
   },
   "source": [
    "### Observations\n",
    "\n",
    "-   The mid-price equals the fair price\n",
    "    $\\mathbb{E} [V]=\\delta \\,\\underline V+(1-\\delta)\\,\\bar V$ only when $\\delta=1/2$.\n",
    "    - The bid and ask prices are not set symmetrically around\n",
    "        the efficient price.\n",
    "-   The maximum spread is at $\\delta=1/2$ when uncertainty on $V$ is\n",
    "    maximized. The closer $\\delta$ is to $1$ or $0$, the smaller the\n",
    "    spread.\n",
    "-   As the probability of informed trading $\\mu \\to 1$,\n",
    "    $B \\to \\underline V$ and $A \\to \\bar V$.\n",
    "-   The more informed trading is, the wider the spread. In the limit\n",
    "    where for example insider trading is allowed, we may see $\\mu=1$ and\n",
    "    subsequently market failure with no dealer willing to post quotes."
   ]
  },
  {
   "cell_type": "markdown",
   "metadata": {
    "slideshow": {
     "slide_type": "slide"
    }
   },
   "source": [
    "### Model dynamics\n",
    "\n",
    "-   The dealer now updates his belief about the efficient price by\n",
    "    taking the sign of the previous trade into account.\n",
    "\n",
    "Let $\\delta_k=\\Pr(\\bar V|\\delta_{k-1},\\epsilon_{k-1})$ where $\\epsilon_i$ denotes the sign of the $i$th trade."
   ]
  },
  {
   "cell_type": "markdown",
   "metadata": {
    "slideshow": {
     "slide_type": "subslide"
    }
   },
   "source": [
    "Then if $\\epsilon_{k-1}=+1$,\n",
    "\n",
    "$$\\delta_k=\\frac{\\Pr(\\bar V\\cap(\\epsilon_{k-1}=+1)|\\delta_{k-1})}{\\Pr(\\epsilon_{k-1}=+1|\\delta_{k-1})}=\\frac{(1+\\mu)\\,\\delta_{k-1}}{1-\\mu+2\\,\\delta_{k-1}\\,\\mu}.$$\n",
    "\n",
    "and if $\\epsilon_{k-1}=-1$,\n",
    "\n",
    "$$\\delta_k=\\frac{(1-\\mu)\\,\\delta_{k-1}}{1+\\mu-2\\,\\delta_{k-1}\\,\\mu}.$$"
   ]
  },
  {
   "cell_type": "markdown",
   "metadata": {
    "slideshow": {
     "slide_type": "subslide"
    }
   },
   "source": [
    "This may be summarized as:\n",
    "\n",
    "<a name=\"eq:GMupdate\"></a>(4)\n",
    "$$\\delta_k=\\frac{(1+\\mu\\,\\epsilon_{k-1})\\,\\delta_{k-1}}{1-\\mu\\,\\epsilon_{k-1}\\,(1-2\\,\\delta_{k-1})}.$$\n",
    "\n",
    "Thus, $\\delta_k$ may be computed recursively from the time series\n",
    "$ \\{\\epsilon_i:i<k\\}=:\\mathcal{F} _k$ and $\\delta_0$."
   ]
  },
  {
   "cell_type": "markdown",
   "metadata": {
    "slideshow": {
     "slide_type": "slide"
    }
   },
   "source": [
    "### Dynamical properties of the model\n",
    "\n",
    "-   The trade price series is a martingale.\n",
    "    -   Both bid and ask prices are expectations conditioned on an\n",
    "        expanding information set (the time series of trade signs):\n",
    "        \\begin{eqnarray*}\n",
    "        B_k&=&\\mathbb{E} [V|\\mathcal{F} _k,\\epsilon_k=-1] \\\\\n",
    "        A_k&=&\\mathbb{E} [V|\\mathcal{F} _k,\\epsilon_k=+1]\n",
    "        \\end{eqnarray*}\n",
    "-   Order signs are predictable:\n",
    "    $\\mathbb{E} [\\epsilon_k|\\mathcal{F} _k] \\neq 0$ in general.\n",
    "-   The spread declines over time. Trading reveals the efficient price.\n",
    "-   Orders are serially correlated because informed traders always trade\n",
    "    in the same direction.\n",
    "-   There is market impact in this model. A buy causes both the bid and\n",
    "    the offer to increase."
   ]
  },
  {
   "cell_type": "markdown",
   "metadata": {
    "slideshow": {
     "slide_type": "slide"
    }
   },
   "source": [
    "### Further observations\n",
    "\n",
    "-   If processing costs are $c$, the bid decreases by $c$ and the ask\n",
    "    increases by $c$.\n",
    "    -   Bid and ask prices are still martingales but the time series of\n",
    "        trade prices is no longer a martingale.\n",
    "-   From the Roll model perspective, information asymmetry has broken\n",
    "    the independence between the trade signs $\\epsilon_i$ and the\n",
    "    innovation to the efficient price.\n",
    "-   It is implicit that there is no risk aversion and unlimited capital\n",
    "    in the Glosten and Milgrom model so there is no inventory component\n",
    "    to the bid and ask prices."
   ]
  },
  {
   "cell_type": "markdown",
   "metadata": {
    "slideshow": {
     "slide_type": "slide"
    }
   },
   "source": [
    "### Strategic uninformed trading\n",
    "\n",
    "-   It is possible for an uninformed trader to push up the price by\n",
    "    buying.\n",
    "    -   Is market manipulation possible in this model?\n",
    "    -   It certainly would be better for the uninformed trader to trade\n",
    "        strategically.\n",
    "-   For everyone except the actual buyer, the expectation of the\n",
    "    efficient price increases after a trade.\n",
    "    -   However, the expectation of the trader himself cannot change. He\n",
    "        has no more information after the trade than he had before.\n",
    "-   Sequential trader models are thus fundamentally unrealistic as\n",
    "    uninformed traders never learn and cannot behave strategically."
   ]
  },
  {
   "cell_type": "markdown",
   "metadata": {
    "slideshow": {
     "slide_type": "slide"
    }
   },
   "source": [
    "### Further extensions of the Roll model\n",
    "\n",
    "-   Sequential trader models suggest how private information may get\n",
    "    impounded into the price.\n",
    "    -   The spread must include a component that compensates for adverse\n",
    "        selection.\n",
    "-   We now proceed to further extend the Roll model to investigate\n",
    "    empirically the components of the bid-ask spread."
   ]
  },
  {
   "cell_type": "markdown",
   "metadata": {
    "slideshow": {
     "slide_type": "slide"
    }
   },
   "source": [
    "### The Glosten and Harris model\n",
    "\n",
    "-   Order processing costs and adverse selection costs are allowed to\n",
    "    depend on trade size.\n",
    "-   A simplified version of their dynamics is:\n",
    "\n",
    "    <a name=\"eq:GlostenHarris\"></a>(5)\n",
    "    $$p_t=m_t+c\\,\\epsilon_t+\\lambda\\,x_t$$\n",
    "    <a name=\"eq:GlostenHarris2\"></a>(6)\n",
    "    $$m_t=m_{t-1}+\\lambda\\,x_{t-1}+u_t$$\n",
    "\n",
    "    where $x_t$ is (signed) trade size and $\\lambda$ may be identified\n",
    "    with the Kyle lambda.\n",
    "-   The half-spread in this model is now given by\n",
    "    $$\\frac{s_t}{2}=c+\\lambda\\,|x_t|$$"
   ]
  },
  {
   "cell_type": "markdown",
   "metadata": {
    "slideshow": {
     "slide_type": "subslide"
    }
   },
   "source": [
    "We now estimate Glosten and Harris equation using (5) and (6)"
   ]
  },
  {
   "cell_type": "code",
   "execution_count": 38,
   "metadata": {},
   "outputs": [],
   "source": [
    "size = np.array(tqdata['SIZE'])\n",
    "x = size*trade_signs"
   ]
  },
  {
   "cell_type": "code",
   "execution_count": 39,
   "metadata": {},
   "outputs": [
    {
     "name": "stdout",
     "output_type": "stream",
     "text": [
      "                            OLS Regression Results                            \n",
      "==============================================================================\n",
      "Dep. Variable:                     dm   R-squared:                       0.026\n",
      "Model:                            OLS   Adj. R-squared:                  0.026\n",
      "Method:                 Least Squares   F-statistic:                     642.5\n",
      "Date:                Thu, 15 Feb 2024   Prob (F-statistic):          6.07e-140\n",
      "Time:                        15:22:16   Log-Likelihood:             1.2361e+05\n",
      "No. Observations:               24459   AIC:                        -2.472e+05\n",
      "Df Residuals:                   24457   BIC:                        -2.472e+05\n",
      "Df Model:                           1                                         \n",
      "Covariance Type:            nonrobust                                         \n",
      "==============================================================================\n",
      "                 coef    std err          t      P>|t|      [0.025      0.975]\n",
      "------------------------------------------------------------------------------\n",
      "Intercept   8.793e-06   9.88e-06      0.890      0.373   -1.06e-05    2.82e-05\n",
      "x           4.101e-08   1.62e-09     25.348      0.000    3.78e-08    4.42e-08\n",
      "==============================================================================\n",
      "Omnibus:                     6597.182   Durbin-Watson:                   1.860\n",
      "Prob(Omnibus):                  0.000   Jarque-Bera (JB):           635866.148\n",
      "Skew:                           0.163   Prob(JB):                         0.00\n",
      "Kurtosis:                      27.977   Cond. No.                     6.11e+03\n",
      "==============================================================================\n",
      "\n",
      "Notes:\n",
      "[1] Standard Errors assume that the covariance matrix of the errors is correctly specified.\n",
      "[2] The condition number is large, 6.11e+03. This might indicate that there are\n",
      "strong multicollinearity or other numerical problems.\n"
     ]
    }
   ],
   "source": [
    "data1 = {'x': x[:-1]}\n",
    "res1 = sm.ols('dm ~ x', data=data1).fit()\n",
    "print(res1.summary())"
   ]
  },
  {
   "cell_type": "code",
   "execution_count": 40,
   "metadata": {},
   "outputs": [
    {
     "data": {
      "text/plain": [
       "Intercept    8.793455e-06\n",
       "x            4.101283e-08\n",
       "dtype: float64"
      ]
     },
     "execution_count": 40,
     "metadata": {},
     "output_type": "execute_result"
    }
   ],
   "source": [
    "_, lmda = res1.params # lambda is very tiny in our data\n",
    "res1.params"
   ]
  },
  {
   "cell_type": "code",
   "execution_count": 41,
   "metadata": {},
   "outputs": [
    {
     "name": "stdout",
     "output_type": "stream",
     "text": [
      "                            OLS Regression Results                            \n",
      "==============================================================================\n",
      "Dep. Variable:                    lhs   R-squared:                       0.703\n",
      "Model:                            OLS   Adj. R-squared:                  0.703\n",
      "Method:                 Least Squares   F-statistic:                 5.791e+04\n",
      "Date:                Thu, 15 Feb 2024   Prob (F-statistic):               0.00\n",
      "Time:                        15:22:16   Log-Likelihood:             1.1429e+05\n",
      "No. Observations:               24460   AIC:                        -2.286e+05\n",
      "Df Residuals:                   24458   BIC:                        -2.286e+05\n",
      "Df Model:                           1                                         \n",
      "Covariance Type:            nonrobust                                         \n",
      "==============================================================================\n",
      "                 coef    std err          t      P>|t|      [0.025      0.975]\n",
      "------------------------------------------------------------------------------\n",
      "Intercept      0.0003   1.46e-05     22.063      0.000       0.000       0.000\n",
      "trade_sign     0.0035   1.46e-05    240.636      0.000       0.003       0.004\n",
      "==============================================================================\n",
      "Omnibus:                      585.747   Durbin-Watson:                   0.751\n",
      "Prob(Omnibus):                  0.000   Jarque-Bera (JB):             1006.379\n",
      "Skew:                          -0.211   Prob(JB):                    2.94e-219\n",
      "Kurtosis:                       3.900   Cond. No.                         1.12\n",
      "==============================================================================\n",
      "\n",
      "Notes:\n",
      "[1] Standard Errors assume that the covariance matrix of the errors is correctly specified.\n"
     ]
    }
   ],
   "source": [
    "lhs = p - mids - lmda*x\n",
    "data2 = {'lhs':lhs, 'trade_sign': trade_signs}\n",
    "res2 = sm.ols('lhs ~ trade_sign', data=data2).fit()\n",
    "print(res2.summary())"
   ]
  },
  {
   "cell_type": "code",
   "execution_count": 42,
   "metadata": {},
   "outputs": [
    {
     "data": {
      "text/plain": [
       "Intercept     0.000321\n",
       "trade_sign    0.003503\n",
       "dtype: float64"
      ]
     },
     "execution_count": 42,
     "metadata": {},
     "output_type": "execute_result"
    }
   ],
   "source": [
    "res2.params # We get c = 0.35 cents"
   ]
  },
  {
   "cell_type": "markdown",
   "metadata": {
    "slideshow": {
     "slide_type": "fragment"
    }
   },
   "source": [
    "This gives $c=0.35$ cents and $\\lambda \\approx 0.004$ cents per 1,000 shares."
   ]
  },
  {
   "cell_type": "markdown",
   "metadata": {
    "slideshow": {
     "slide_type": "slide"
    }
   },
   "source": [
    "### The Glosten and Harris model\n",
    "\n",
    "-   Note that $p_t$ may be reexpressed as\n",
    "\n",
    "    <a name=\"eq:lambdaRegression\"></a>(7)\n",
    "    $$p_t=\\lambda\\,\\sum_{i \\leq t}\\,x_i + c\\, \\epsilon_t + \\sum_{i \\leq t} u_i.$$\n",
    "-   The first term may be identified with permanent impact and the\n",
    "    second with temporary impact.\n",
    "-   Glosten and Harris estimated their model on NYSE stock data from\n",
    "    01-Dec-1981 to 31-Jan-1983 finding:\n",
    "    \\begin{eqnarray*}\n",
    "    c&=&4.44 \\text{ cents}\\\\\n",
    "    \\lambda &=& 1.13 \\text{ cents per 1,000 shares}\\end{eqnarray*}\n",
    "-   From our BAC data, $c = 0.35$ cents, $\\lambda = 0.004$ cents per\n",
    "    $1,000$ shares."
   ]
  },
  {
   "cell_type": "markdown",
   "metadata": {
    "slideshow": {
     "slide_type": "slide"
    }
   },
   "source": [
    "### The ILLIQ measure (using daily data)\n",
    "\n",
    "-   The net order flow $\\sum_i x_i$ is typically not easily available.\n",
    "-   This led Amihud to propose an alternative proxy for transactions\n",
    "    costs:\n",
    "    $$\\text{ILLIQ}=\\left\\langle \\frac{|\\Delta P_t|}{V_t}\\right\\rangle$$\n",
    "    where $V_t$ is the absolute volume traded on day $t$. $\\langle \\cdot \\rangle = $ sample mean.\n",
    "-   It turns out that ILLIQ has a higher rank correlation with effective\n",
    "    spread than the Roll estimator.\n",
    "\n"
   ]
  },
  {
   "cell_type": "markdown",
   "metadata": {
    "slideshow": {
     "slide_type": "slide"
    }
   },
   "source": [
    "### The Madhavan Richardson and Roomans (MRR) model\n",
    "\n",
    "-   In the Glosten and Milgrom model, the price depends on order flow.\n",
    "-   In the MRR model, as in Glosten-Milgrom, the revision in beliefs is\n",
    "    positively correlated with the innovation in the order flow:\n",
    "\n",
    "    <a name=\"eq:MRRsurprise\"></a>(8)\n",
    "    $$\\Delta V_t=\\lambda\\,\\left(\\epsilon_t-\\mathbb{E} [\\epsilon_t|\\mathcal{F} _{t-1}]\\right)+e_t$$\n",
    "    where $V_t$ is the efficient price and $e_t$ represents for example\n",
    "    news.\n",
    "-   As in Glosten and Milgrom, the market maker posts bid and ask prices\n",
    "    that are conditioned on the trade being a buy or a sell.\n",
    "-   This leads to the empirical model\n",
    "\n",
    "    <a name=\"eq:MRRprice\"></a>(9)\n",
    "    $$p_t=V_t+\\phi\\,\\epsilon_t+\\xi_t$$\n",
    "\n",
    "    where $\\xi_t$ is iid noise that could represent rounding for\n",
    "    example."
   ]
  },
  {
   "cell_type": "markdown",
   "metadata": {
    "slideshow": {
     "slide_type": "slide"
    }
   },
   "source": [
    "### Autocorrelation of order flow\n",
    "\n",
    "-   From [(8)](#eq:MRRsurprise) and [(9)](#eq:MRRprice),\n",
    "\n",
    "    <a name=\"eq:MRR3\"></a>(10)\n",
    "    $$p_t=V_{t-1}+\\lambda\\,\\left(\\epsilon_t-\\mathbb{E} [\\epsilon_t|\\mathcal{F}_{t-1}]\\right) + \\phi\\,\\epsilon_t + e_t+\\xi_t$$\n",
    "-   Let $\\gamma$ be the probability of a continuation (in trade sign)\n",
    "    <p>\n",
    "    $$\\gamma=\\Pr[\\epsilon_t=\\epsilon_{t-1}].$$\n",
    "-   Because of trade-splitting, continuations are more likely than\n",
    "    reversals so $\\gamma > 1/2$.\n",
    "-   The first order autocorrelation $\\rho_1$ of trade signs is then\n",
    "    $2\\,\\gamma-1$."
   ]
  },
  {
   "cell_type": "markdown",
   "metadata": {
    "slideshow": {
     "slide_type": "slide"
    }
   },
   "source": [
    "### Expected trade sign\n",
    "\n",
    "-   Now model the order sign process as AR(1) so that\n",
    "    <p>\n",
    "    <p>\n",
    "    $$\\epsilon_t=\\rho\\,\\epsilon_{t-1}+\\eta_t$$ \n",
    "    <p>\n",
    "    where $\\eta_t$ is\n",
    "    independent noise. Then\n",
    "    $ \\mathbb{E} [\\epsilon_t|\\epsilon_{t-1}]=\\rho\\,\\epsilon_{t-1}$."
   ]
  },
  {
   "cell_type": "markdown",
   "metadata": {
    "slideshow": {
     "slide_type": "subslide"
    }
   },
   "source": [
    "-   From [(8)](#eq:MRRsurprise) and [(9)](#eq:MRRprice) we then obtain\n",
    "\n",
    "    <a name=\"eq:MRRdynamics\"></a>(11)\n",
    "    $$\\Delta p_t=(\\phi+\\lambda)\\,\\epsilon_t-(\\phi+\\rho\\,\\lambda)\\,\\epsilon_{t-1}+e_t+\\Delta \\xi_t$$\n",
    "\n",
    "    which does not involve the fair price $V_t$ and may be estimated\n",
    "    from data.\n",
    "    -   Note here the assumption that autocorrelation coefficients of\n",
    "        order higher than one are zero."
   ]
  },
  {
   "cell_type": "markdown",
   "metadata": {
    "slideshow": {
     "slide_type": "subslide"
    }
   },
   "source": [
    "-   Thus, in this model, price changes reflect:\n",
    "    -   The unexpected component of order flow - this is the main point for us.\n",
    "    -   News\n",
    "    -   Noise due to tick size and so on."
   ]
  },
  {
   "cell_type": "markdown",
   "metadata": {
    "slideshow": {
     "slide_type": "slide"
    }
   },
   "source": [
    "### MRR results\n",
    "\n",
    "<h2><img src=\"http://mfe.baruch.cuny.edu/wp-content/uploads/2015/02/MRR_Table2.png\" align = \"center\" width=700></h2>\n"
   ]
  },
  {
   "cell_type": "markdown",
   "metadata": {
    "slideshow": {
     "slide_type": "slide"
    }
   },
   "source": [
    "### Two quotes from MRR\n",
    "\n",
    "> The mean value of $\\theta$ (which we called $\\lambda$) falls by over a\n",
    "> third from the opening to the middle of the day (from 4.15 to 2.75\n",
    "> cents) and remains at this level until the final period where it\n",
    "> increases slightly.\n",
    "\n",
    "> The transaction cost element ($\\phi$) is approximately 3.4 cents in\n",
    "> the first half-hour and increases steadily over the day to 4.6 cents\n",
    "> in the final half-hour interval, a rise of about 30%.\n",
    "\n",
    "\n",
    "-   So, according to MRR, contributions from fixed costs and adverse\n",
    "    selection are roughly equal.\n",
    "    -   From our BAC data, $\\lambda = 0.035$ cents, $\\phi = 0.211$ cents\n",
    "        so nearly all of the effective spread is market maker profit.\n",
    "\n"
   ]
  },
  {
   "cell_type": "markdown",
   "metadata": {
    "slideshow": {
     "slide_type": "slide"
    }
   },
   "source": [
    "### The Huang and Stoll model\n",
    "\n",
    "-   In this model, the unobservable efficient price $V_t$ is first modeled as\n",
    "\n",
    "    <a name=\"eq:HuangStoll1\"></a>(12)\n",
    "    $$ \\Delta V_t = \\alpha\\,\\frac{s}{2}\\,\\epsilon_{t-1} + e_t$$\n",
    "\n",
    "    where $s$ is the spread and $\\alpha$ is how much of the spread may\n",
    "    be attributed to informed trading (adverse selection).\n",
    "-   Also, according to the inventory model of Ho and Stoll, the\n",
    "    mid-price $m_t$ is given by\n",
    "\n",
    "    <a name=\"eq:HuangStoll2\"></a>(13)\n",
    "    $$\n",
    "    m_t=V_t+\\beta\\,\\frac{s}{2}\\,\\sum_{i<t}\\,\\epsilon_i\n",
    "    $$\n",
    "\n",
    "    so\n",
    "    $$\\Delta m_t = \\Delta  V_t +\\beta \\,\\frac{s}{2}\\,\\epsilon_{t-1}= (\\alpha+\\beta) \\,\\frac{s}{2}\\,\\epsilon_{t-1}+e_t$$"
   ]
  },
  {
   "cell_type": "markdown",
   "metadata": {
    "slideshow": {
     "slide_type": "slide"
    }
   },
   "source": [
    "### Changes in trade price\n",
    "\n",
    "-   Now we assume $$p_t=m_t+\\frac{s}{2}\\,\\epsilon_t+\\xi_t$$\n",
    "-   This gives\n",
    "    \\begin{eqnarray*}\n",
    "    \\Delta p_t &=& (\\alpha+\\beta) \\,\\frac{s}{2}\\,\\epsilon_{t-1} + \\frac{s}{2}\\, \\Delta \\epsilon_t + e_t + \\Delta \\xi_t \\\\\n",
    "    &=& (\\alpha + \\beta - 1) \\,\\frac{s}{2}\\,\\epsilon_{t-1} + \\frac s2 \\epsilon_t + e_t + \\Delta \\xi_t\n",
    "    \\end{eqnarray*}\n",
    "    which is amenable to estimation because it does not depend on\n",
    "    unobservables.\n",
    "    -   Note that the effects of $\\alpha$ and $\\beta$ cannot be\n",
    "        distinguished.\n",
    "-   The Roll model may be recovered by setting $\\alpha=\\beta=0$ to get\n",
    "    $$\\Delta p_t =\\frac{s}{2}\\, \\Delta \\epsilon_t + \\eta_t$$ \n",
    "    for some noise $\\eta_t$."
   ]
  },
  {
   "cell_type": "markdown",
   "metadata": {
    "slideshow": {
     "slide_type": "slide"
    }
   },
   "source": [
    "### Distinguishing adverse selection and inventory effects\n",
    "\n",
    "-   In inventory models, a change in the quote changes the arrival rate\n",
    "    of trades.\n",
    "    -   This induces negative serial covariance in mid-quotes, separate\n",
    "        from and in addition to the bid-ask bounce in $\\Delta p_t$.\n",
    "-   Let $\\pi$ be the probability of a reversal. Then\n",
    "    $$\\mathbb{E} [\\epsilon_{t-1}|\\epsilon_{t-2}]=(1-2\\,\\pi)\\,\\epsilon_{t-2}$$\n",
    "-   We modify [(12)](#eq:HuangStoll1) accordingly:\n",
    "\n",
    "    <a name=\"eq:HuangStoll22\"></a>(14)\n",
    "    \\begin{eqnarray*}\n",
    "    \\Delta V_t&=&\\alpha\\,\\frac{s}{2}\\,\\left(\\epsilon_{t-1}-\\mathbb{E} [\\epsilon_{t-1}|\\epsilon_{t-2}]\\right)+e_t\\nonumber\\\\\n",
    "    &=&\\alpha\\,\\frac{s}{2}\\,\\epsilon_{t-1}-\\alpha\\,\\frac{s}{2}\\,(1-2\\,\\pi)\\,\\epsilon_{t-2}+e_t\n",
    "    \\end{eqnarray*}\n",
    "-   Note that $$\\mathbb{E} [\\Delta V_t|\\epsilon_{t-2}]=0$$"
   ]
  },
  {
   "cell_type": "markdown",
   "metadata": {
    "slideshow": {
     "slide_type": "slide"
    }
   },
   "source": [
    "### Distinguishing adverse selection and inventory effects\n",
    "\n",
    "-   Combining [(13)](#eq:HuangStoll2) and [(14)](#eq:HuangStoll22) gives\n",
    "\n",
    "    <a name=\"eq:HuangStoll23\"></a>(15)\n",
    "    $$\\Delta m_t=(\\alpha+\\beta)\\,\\frac{s}{2}\\,\\epsilon_{t-1}-\\alpha\\,\\frac{s}{2}\\,(1-2\\,\\pi)\\,\\epsilon_{t-2}+e_t$$\n",
    "-   Note that what matters for inventory is not the unexpected portion\n",
    "    of the trade sign but the actual trade sign.\n",
    "-   Also, mid-quote changes are predictable:\n",
    "    $$\\mathbb{E} [\\Delta m_t|\\epsilon_{t-2}]=\\beta\\,\\frac{s}{2}\\,(1-2\\,\\pi)\\,\\epsilon_{t-2}$$\n",
    "-   Equation [(15)](#eq:HuangStoll23) may be estimated directly or combined with [(13)](#eq:HuangStoll2) to give\n",
    "\n",
    "    <a name=\"eq:HuangStollPriceRegression\"></a>(16)\n",
    "    $$\\Delta p_t=\\frac{s}{2}\\,\\epsilon_t+(\\alpha+\\beta-1)\\,\\frac s2\\epsilon_{t-1}-\\alpha\\,\\frac{s}{2}\\,\\epsilon_{t-2}+e_t$$\n",
    "\n"
   ]
  },
  {
   "cell_type": "markdown",
   "metadata": {
    "slideshow": {
     "slide_type": "slide"
    }
   },
   "source": [
    "### Comments\n",
    "\n",
    "-   Why stop at $\\epsilon_{t-2}$? The trade sign process is supposedly\n",
    "    long-memory and so all higher order autocovariances are positive.\n",
    "-   Equation [(14)](#eq:HuangStoll22) would then become\n",
    "    $$\\Delta V_t=\\alpha\\,\\frac{s}{2}\\,\\left(\\epsilon_{t-1}-\\mathbb{E} [\\epsilon_{t-1}|\\mathcal{F} _{t-2}]\\right)+e_t$$\n",
    "-   We could use any forecasting model we liked to compute\n",
    "    $\\mathbb{E} [\\epsilon_{t-1}|\\mathcal{F} _{t-2}]$.\n",
    "\n"
   ]
  },
  {
   "cell_type": "markdown",
   "metadata": {
    "slideshow": {
     "slide_type": "slide"
    }
   },
   "source": [
    "### Empirical results\n",
    "\n",
    "-   Huang and Stoll data is from all trading days in 1992.\n",
    "-   It is notable that the most highly traded stock in their sample is\n",
    "    MO with 751 trades per day.\n",
    "    -   1992 MO volume traded per day was around 5.6 million shares.\n",
    "    -   Recent MO volume traded per day is around 8 million shares over\n",
    "        roughly 50,000 trades. Times have changed!"
   ]
  },
  {
   "cell_type": "markdown",
   "metadata": {
    "slideshow": {
     "slide_type": "subslide"
    }
   },
   "source": [
    "Quote from Huang and Stoll:\n",
    "\n",
    "> Under the adjusted results, the average order processing component of\n",
    "> the traded spread is 61.8%, the average adverse information component\n",
    "> is 9.6% ($\\alpha$), and the average inventory cost component ($\\beta$)\n",
    "> is 28.7%.\n",
    "\n",
    "With our BAC data, $\\frac s2 = 0.244$ cents, $\\alpha = -4.3\\%$,\n",
    "$\\beta = 9.5\\%$."
   ]
  },
  {
   "cell_type": "markdown",
   "metadata": {},
   "source": [
    "Python code to estimate Huang and Stoll equation (16)"
   ]
  },
  {
   "cell_type": "code",
   "execution_count": 43,
   "metadata": {},
   "outputs": [
    {
     "name": "stdout",
     "output_type": "stream",
     "text": [
      "                            OLS Regression Results                            \n",
      "==============================================================================\n",
      "Dep. Variable:                    dp1   R-squared:                       0.638\n",
      "Model:                            OLS   Adj. R-squared:                  0.638\n",
      "Method:                 Least Squares   F-statistic:                 1.435e+04\n",
      "Date:                Thu, 15 Feb 2024   Prob (F-statistic):               0.00\n",
      "Time:                        15:22:16   Log-Likelihood:             1.1955e+05\n",
      "No. Observations:               24458   AIC:                        -2.391e+05\n",
      "Df Residuals:                   24454   BIC:                        -2.391e+05\n",
      "Df Model:                           3                                         \n",
      "Covariance Type:            nonrobust                                         \n",
      "==============================================================================\n",
      "                 coef    std err          t      P>|t|      [0.025      0.975]\n",
      "------------------------------------------------------------------------------\n",
      "Intercept   3.243e-05   1.18e-05      2.752      0.006    9.33e-06    5.55e-05\n",
      "eps0           0.0024   1.36e-05    179.500      0.000       0.002       0.002\n",
      "epsm1         -0.0023   1.43e-05   -161.905      0.000      -0.002      -0.002\n",
      "epsm2          0.0001   1.36e-05      7.792      0.000    7.94e-05       0.000\n",
      "==============================================================================\n",
      "Omnibus:                     3437.057   Durbin-Watson:                   2.384\n",
      "Prob(Omnibus):                  0.000   Jarque-Bera (JB):            50755.799\n",
      "Skew:                           0.017   Prob(JB):                         0.00\n",
      "Kurtosis:                      10.057   Cond. No.                         2.00\n",
      "==============================================================================\n",
      "\n",
      "Notes:\n",
      "[1] Standard Errors assume that the covariance matrix of the errors is correctly specified.\n"
     ]
    }
   ],
   "source": [
    "eps0 = np.array(trade_signs[2:])\n",
    "epsm1 = np.array(trade_signs[1:-1])\n",
    "epsm2 = np.array(trade_signs[:-2])\n",
    "dp1 = dp[1:]\n",
    "\n",
    "data = {'dp1': dp1, 'eps0': eps0, 'epsm1': epsm1, 'epsm2': epsm2}\n",
    "fit_hs16 = sm.ols('dp1 ~ eps0 + epsm1 + epsm2', data=data).fit()\n",
    "print(fit_hs16.summary())"
   ]
  },
  {
   "cell_type": "code",
   "execution_count": 44,
   "metadata": {},
   "outputs": [
    {
     "data": {
      "text/html": [
       "<div>\n",
       "<style scoped>\n",
       "    .dataframe tbody tr th:only-of-type {\n",
       "        vertical-align: middle;\n",
       "    }\n",
       "\n",
       "    .dataframe tbody tr th {\n",
       "        vertical-align: top;\n",
       "    }\n",
       "\n",
       "    .dataframe thead th {\n",
       "        text-align: right;\n",
       "    }\n",
       "</style>\n",
       "<table border=\"1\" class=\"dataframe\">\n",
       "  <thead>\n",
       "    <tr style=\"text-align: right;\">\n",
       "      <th></th>\n",
       "      <th>s2</th>\n",
       "      <th>alpha</th>\n",
       "      <th>beta</th>\n",
       "    </tr>\n",
       "  </thead>\n",
       "  <tbody>\n",
       "    <tr>\n",
       "      <th>0</th>\n",
       "      <td>0.002443</td>\n",
       "      <td>-0.04341</td>\n",
       "      <td>0.094665</td>\n",
       "    </tr>\n",
       "  </tbody>\n",
       "</table>\n",
       "</div>"
      ],
      "text/plain": [
       "         s2    alpha      beta\n",
       "0  0.002443 -0.04341  0.094665"
      ]
     },
     "execution_count": 44,
     "metadata": {},
     "output_type": "execute_result"
    }
   ],
   "source": [
    "_, s2, tmp0, tmp1 = fit_hs16.params # s2 is the effective half-spread\n",
    "alpha = -tmp1/s2\n",
    "beta = tmp0/s2 - alpha + 1\n",
    "\n",
    "pd.DataFrame({'s2': [s2], 'alpha': [alpha], 'beta': [beta]})"
   ]
  },
  {
   "cell_type": "markdown",
   "metadata": {
    "slideshow": {
     "slide_type": "slide"
    }
   },
   "source": [
    "### The PIN model\n",
    "\n",
    "-   The Glosten and Milgrom model is extended to include the arrival of\n",
    "    news.\n",
    "-   Agents are not sequentially drawn in discrete time but arrive\n",
    "    randomly in continuous time. Events are modeled as Poisson\n",
    "    processes.\n",
    "    -   News arrives with probability $\\alpha$. It is good news with\n",
    "        probability $\\delta$, bad news with probability $1-\\delta$.\n",
    "    -   Informed trades arrive with intensity $\\mu$.\n",
    "    -   Uninformed buys arrive with intensity $\\epsilon$.\n",
    "    -   Uninformed sells arrive with intensity $\\epsilon$."
   ]
  },
  {
   "cell_type": "markdown",
   "metadata": {
    "slideshow": {
     "slide_type": "slide"
    }
   },
   "source": [
    "### PIN model event tree\n",
    "\n",
    "<h2><img src=\"http://mfe.baruch.cuny.edu/wp-content/uploads/2015/02/PINEventTree.png\" align = \"center\" width=900></h2>\n"
   ]
  },
  {
   "cell_type": "markdown",
   "metadata": {
    "slideshow": {
     "slide_type": "slide"
    }
   },
   "source": [
    "### Unconditional arrival rates\n",
    "\n",
    "The total arrival rate of buy orders is given by\n",
    "\n",
    "$$\n",
    "\\lambda_{Buy} = \\alpha\\,  \\delta  \\,(\\epsilon +\\mu )+\\alpha \\, (1-\\delta )\\, \\epsilon +(1-\\alpha\n",
    "   )\\, \\epsilon = \\alpha\\,  \\delta\\,  \\mu +\\epsilon\n",
    "$$\n",
    "\n",
    "Similarly, the total arrival rate of sell orders is given by\n",
    "\n",
    "$$\\lambda_{Sell}=(1-\\delta)\\,  \\alpha\\,  \\mu +\\epsilon$$ \n",
    "\n",
    "and the total arrival rate by \n",
    "\n",
    "$$\\lambda=\\alpha\\,\\mu+2\\,\\epsilon.$$\n",
    "\n"
   ]
  },
  {
   "cell_type": "markdown",
   "metadata": {
    "slideshow": {
     "slide_type": "slide"
    }
   },
   "source": [
    "### PIN\n",
    "\n",
    "The *probability of informed trading* (PIN) is the unconditional probability\n",
    "that a randomly chosen trader on a randomly chosen day is informed:\n",
    "\n",
    "$$PIN=\\frac{\\alpha\\,\\mu}{\\alpha\\,\\mu+2\\,\\epsilon}$$\n",
    "\n",
    "-   PIN is estimated by maximum likelihood.\n",
    "\n"
   ]
  },
  {
   "cell_type": "markdown",
   "metadata": {
    "slideshow": {
     "slide_type": "slide"
    }
   },
   "source": [
    "### Maximum likelihood estimation of PIN\n",
    "\n",
    "-   Assume we can sign trades to give a sequence of buys and sells.\n",
    "-   The likelihood function is the relative probability of observing a\n",
    "    given number of buys and sells given the parameters\n",
    "    $\\psi=\\{\\alpha,\\delta, \\mu, \\epsilon\\}$ of the model.\n",
    "-   The probability of observing $n$ events in time $T$ when the\n",
    "    underlying process is Poisson with rate $\\lambda$ is\n",
    "    $$e^{-\\lambda\\,T}\\,\\frac{{(\\lambda\\,T)}^n}{n!}$$"
   ]
  },
  {
   "cell_type": "markdown",
   "metadata": {
    "slideshow": {
     "slide_type": "slide"
    }
   },
   "source": [
    "### Maximum likelihood estimation of PIN\n",
    "\n",
    "-   We take $\\mu$ and $\\epsilon$ to be daily rates and consider the\n",
    "    number of buys $B$ and sells $S$ over one day $T = 1$.\n",
    "-   Then\n",
    "    \\begin{eqnarray*}\n",
    "    && L(B,S;\\psi) \\\\\n",
    "    &=& \\Pof{B \\mbox{ buys and } S \\mbox{ sells}|\\mbox{No news}} \\Pof{\\mbox{No news}} \\\\\n",
    "    && + \\, \\Pof{B \\mbox{ buys and } S \\mbox{ sells; good news}|\\mbox{There is news}} \\Pof{\\mbox{There is news}} \\\\\n",
    "    && + \\, \\Pof{B \\mbox{ buys and } S \\mbox{ sells; bad news}|\\mbox{There is news}} \\Pof{\\mbox{There is news}} \\\\\n",
    "    &=& (1 - \\alpha) \\, e^{-2\\,\\epsilon}\\,\\frac{\\epsilon^{B+S}}{B!\\,S!} \\\\\n",
    "    && + \\alpha\\,\\delta\\,e^{-(\\epsilon+\\mu)}\\,\\frac{(\\epsilon+\\mu)^B}{B!}\\,e^{-\\epsilon}\\,\\frac{\\epsilon^S}{S!}\n",
    "    \\\\&&+ \\alpha\\,(1-\\delta)\\,e^{-\\epsilon}\\,\\frac{\\epsilon^B}{B!}\\,e^{-(\\epsilon+\\mu)}\\,\\frac{(\\epsilon+\\mu)^S}{S!}.\n",
    "    \\end{eqnarray*}\n",
    "-   The parameters $\\psi$ are estimated by maximizing $L(B,S;\\psi)$.\n",
    "\n",
    "#### Note\n",
    "Here we used that by the nature of Poisson processes, the probability of having two news events in a short period of time is negligible.  "
   ]
  },
  {
   "cell_type": "markdown",
   "metadata": {
    "slideshow": {
     "slide_type": "slide"
    }
   },
   "source": [
    "### Criticisms of PIN\n",
    "\n",
    "-   Every day is a new day: Each day’s trading is independent of the\n",
    "    previous day, <font color=blue> due to the modeling assumption of Poisson processes.  </font>\n",
    "-   Because of multiple trade reports, the trade-signing process itself\n",
    "    is suspect.\n",
    "-   News events occur at the start of trading. \n",
    "-   There are only two possible results, high and low.\n",
    "-   $\\alpha$ and $\\mu$ enter into PIN only through the product\n",
    "    $\\alpha\\,\\mu$: Estimates for $\\alpha$ and $\\mu$ separately are less\n",
    "    precise.\n",
    "\n"
   ]
  },
  {
   "cell_type": "markdown",
   "metadata": {
    "slideshow": {
     "slide_type": "slide"
    }
   },
   "source": [
    "### Interpretation of PIN\n",
    "\n",
    "-   Subsequent papers by Easley, O’Hara et al. have shown that PIN is an\n",
    "    explanatory variable for the cross-section of returns.\n",
    "    -   In fact, it can apparently replace momentum in the\n",
    "        Fama-French-plus-momentum factor model favored by for example\n",
    "        AQR.\n",
    "-   Perhaps because of this, PIN is used by equity long-short traders.\n",
    "-   Given the highly stylized assumptions, it’s not at all clear that\n",
    "    PIN measures informed trading. It does probably give a good\n",
    "    indication of order-flow one-sidedness (or momentum).\n",
    "    -   This is termed <span>*information risk*</span> by the authors."
   ]
  },
  {
   "cell_type": "markdown",
   "metadata": {
    "slideshow": {
     "slide_type": "slide"
    }
   },
   "source": [
    "### VPIN\n",
    "\n",
    "From [Easley et al.]<sup id=\"cite_ref-EasleyMachine\" class=\"reference\"><a href=\"#cite_note-EasleyMachine\"><span>[</span>4<span>]</span></a></sup>, volume-synchronized probability of informed trading (VPIN) is estimated as\n",
    "<p>\n",
    "$$\n",
    "VPIN_T = \\frac 1 \\Delta \\sum_{i=T-\\Delta+1} \\frac{|V^S_i-V^B_i| }{V_i},\n",
    "$$\n",
    "where volume is signed using the BVC method\n",
    "<p>\n",
    "$$\n",
    "V^B_i = V_i\\,Z\\left(\\frac{\\Delta p}{\\sigma_\\Delta}\\right),\\quad V^S_i = V^i - V^B_i\n",
    "$$\n",
    "    <p>\n",
    "Here $\\Delta$ is the lookback window size and $Z(\\cdot)$ is a <a href=\"https://en.wikipedia.org/wiki/Standard_score\">Z-score</a>, i.e., the cdf for standard normal."
   ]
  },
  {
   "cell_type": "markdown",
   "metadata": {},
   "source": [
    "Thus, \n",
    "\n",
    "$$\n",
    "V_i^S - V_i^B  = V_i - 2 V^B_i = V_i\\left\\{1 - 2 \\, Z\\left(\\frac{\\Delta p}{\\sigma_\\Delta}\\right) \\right\\}.\n",
    "$$\n",
    "\n",
    "It follows that \n",
    "\n",
    "\\begin{eqnarray*}\n",
    "VPIN_T &=& \\frac 1 \\Delta \\sum_{i=T-\\Delta+1} \\frac{|V^S_i-V^B_i| }{V_i}\n",
    "= \\frac 1 \\Delta \\sum_{i=T-\\Delta+1} \\left| 1 - 2 Z\\left(\\frac{\\Delta p}{\\sigma_\\Delta}\\right) \\right|.\n",
    "\\end{eqnarray*}"
   ]
  },
  {
   "cell_type": "markdown",
   "metadata": {
    "slideshow": {
     "slide_type": "slide"
    }
   },
   "source": [
    "### The Bulk Volume Classification (BVC) method\n",
    "\n",
    "- This method is intended to address the issue that trading intentions are no longer signalled by order signs.\n",
    "- To quote [Easley et al.]<sup id=\"cite_ref-EasleyBVC\" class=\"reference\"><a href=\"#cite_note-EasleyBVC\"><span>[</span>3<span>]</span></a></sup>\n",
    "> *Algorithms chop parent orders into numerous child orders, so order flow, not individual orders, relate to trade motivation. Trading is also done dynamically, with direct market access (DMA) allowing participants to strategically place multiple orders at various price levels in the book, monitor the pro- gression of their limit orders in the queue, and cancel and replace orders at different levels.*\n",
    "- It thus represents an attempt to analyze modern high-frequency order flow using older econometric methods."
   ]
  },
  {
   "cell_type": "markdown",
   "metadata": {
    "slideshow": {
     "slide_type": "slide"
    }
   },
   "source": [
    "### PIN and VPIN: Academic gossip\n",
    "\n",
    "- PIN has generated a lot of controversy.  See for example https://www.econjobrumors.com/topic/journal-of-financial-markets-paper-withdrawn.  \n",
    "- In particular, there is an impressive critique by Anderson and Bondarenko. The following is from the abstract of the [Anderson and Bondarenko paper](https://doi.org/10.1016/j.finmar.2013.05.005). \n",
    ">The Volume-Synchronized Probability of Informed trading (VPIN) metric is introduced by Easley, Lopez de Prado, and O'Hara (2011a) as a real-time indicator of order flow toxicity. They find the measure useful in monitoring order flow imbalances and conclude it may help signal impending market turmoil, exemplified by historical high readings of the metric prior to the flash crash. More generally, they show that VPIN is significantly correlated with future short-term return volatility. In contrast, our empirical investigation of VPIN documents that it is a poor predictor of short run volatility, that it did not reach an all-time high prior, but rather after, the flash crash, and that its predictive content is due primarily to a mechanical relation with the underlying trading intensity. We also investigate a later incarnation of VPIN, stemming from Easley, Lopez de Prado, and O'Hara (2012a), and reach similar conclusions. In general, we stress that adoption of any specific metric for order flow toxicity should be contingent on satisfactory performance relative to suitable benchmarks, exemplified by the analysis we undertake here."
   ]
  },
  {
   "cell_type": "markdown",
   "metadata": {
    "slideshow": {
     "slide_type": "slide"
    }
   },
   "source": [
    "### Features of models studied so far\n",
    "\n",
    "-   The component of the bid-ask spread relating to order processing\n",
    "    costs is an immediate cost. This cost of trading is temporary and\n",
    "    has no price impact.\n",
    "-   The component of the bid-ask spread due to inventory effects has\n",
    "    temporary impact on the price that takes some time to dissipate.\n",
    "-   The component of the bid-ask spread due to information effects\n",
    "    (adverse selection) is permanent.\n",
    "    -   In the more sophisticated models, only the unexpected component\n",
    "        of order flow impacts the price.\n",
    "\n"
   ]
  },
  {
   "cell_type": "markdown",
   "metadata": {
    "slideshow": {
     "slide_type": "slide"
    }
   },
   "source": [
    "### Adverse selection\n",
    "\n",
    "-   In the traditional microstructure literature, adverse selection is\n",
    "    typically conflated with the effect of informed trading.\n",
    "-   Recall the quote from [Hasbrouck]<sup id=\"cite_ref-Hasbrouck\" class=\"reference\"><a href=\"#cite_note-Hasbrouck\"><span>[</span>5<span>]</span></a></sup>:\n",
    "\n",
    "    > *Orders do not impact prices. It is more accurate to say that\n",
    "    > orders forecast prices.*\n",
    "-   It could be that prices move because of the impact of orders, a\n",
    "    purely mechanical explanation.\n",
    "    -   It could be that the main information that traders have is the\n",
    "        ultimate size of their own order (or <span>*metaorder*</span>).\n",
    "        The market sees only the part of the metaorder that has already\n",
    "        been revealed."
   ]
  },
  {
   "cell_type": "markdown",
   "metadata": {
    "slideshow": {
     "slide_type": "slide"
    }
   },
   "source": [
    "### Spread is proportional to volatility: Wyart et. al.\n",
    "\n",
    "<h2><img src=\"http://mfe.baruch.cuny.edu/wp-content/uploads/2015/02/WyartPictures.png\" align = \"center\" width=900></h2>\n",
    "\n",
    "Figure 8: Graphs showing that spread is proportional to volatility in real markets"
   ]
  },
  {
   "cell_type": "markdown",
   "metadata": {
    "slideshow": {
     "slide_type": "slide"
    }
   },
   "source": [
    "### Wyart et. al.\n",
    "\n",
    "[Wyart et al.]<sup id=\"cite_ref-WyartEtAl\" class=\"reference\"><a href=\"#cite_note-WyartEtAl\"><span>[</span>8<span>]</span></a></sup> find that\n",
    "-   <span>$s \\approx 1.58 \\sigma$ for the Paris Stock Exchange in\n",
    "    2002.</span>\n",
    "-   <span>$s \\approx 1.32 \\sigma$ for the NYSE in 2005.</span>\n",
    "\n",
    "[Wyart et al.]<sup id=\"cite_ref-WyartEtAl\" class=\"reference\"><a href=\"#cite_note-WyartEtAl\"><span>[</span>8<span>]</span></a></sup>, show that the following assumptions imply proportionality of\n",
    "volatility per trade and spread:\n",
    "\n",
    "1.  Diffusion of market prices (<span>*i.e.*</span>\n",
    "    $\\langle (S_\\tau-S_0)^2\\rangle \\propto \\tau $).\n",
    "2.  The costs of market orders and limit orders are roughly equal.\n",
    "\n"
   ]
  },
  {
   "cell_type": "markdown",
   "metadata": {
    "slideshow": {
     "slide_type": "slide"
    }
   },
   "source": [
    "### A simple heuristic argument\n",
    "\n",
    "- Consider a market maker $\\cM$ making a spread $\\pm \\frac s2$.\n",
    "- Wlog, suppose $\\cM$'s bid gets hit.  \n",
    "    - He buys 1 share at $-\\frac s 2$.\n",
    "    - The mid-price is impacted by $-\\lambda$.\n",
    "- $\\cM$ makes a new two-way price $-\\lambda \\pm \\frac s2$.\n",
    "    - Either his offer will be lifted\n",
    "    - Or his bid will be hit again, in which case, he will liquidate his inventory which is now 2 shares."
   ]
  },
  {
   "cell_type": "markdown",
   "metadata": {
    "slideshow": {
     "slide_type": "subslide"
    }
   },
   "source": [
    "#### Case 1: Offer is lifted\n",
    "\n",
    "- P&L is \n",
    "\n",
    "$$\n",
    "-\\lambda + \\frac s2 - \\left( -\\frac s 2  \\right) = s - \\lambda.\n",
    "$$"
   ]
  },
  {
   "cell_type": "markdown",
   "metadata": {
    "slideshow": {
     "slide_type": "subslide"
    }
   },
   "source": [
    "#### Case 2: Bid is hit\n",
    "\n",
    "- $\\cM$ buys another share at $-\\lambda - \\frac s2$\n",
    "- $\\cM$ liquidates by selling two shares at $-\\lambda - \\frac s2$.\n",
    "- P&L is\n",
    "$$\n",
    "2\\,\\left(-\\lambda - \\frac s2\\right) - \\left( -\\frac s 2 -\\lambda \\right)- \\left( -\\frac s 2  \\right) =-  \\lambda.\n",
    "$$"
   ]
  },
  {
   "cell_type": "markdown",
   "metadata": {
    "slideshow": {
     "slide_type": "subslide"
    }
   },
   "source": [
    "- Assuming probabilities are $\\frac 12$ and perfect competition, we get that\n",
    "$$\n",
    "s-\\lambda + (- \\lambda) = s - 2\\,\\lambda = 0.\n",
    "$$\n",
    "- In this simple model, the mid-price is a random walk with volatility $\\sigma=\\lambda$.\n",
    "- We thus have that\n",
    "$$\n",
    "\\sigma = \\frac{s}{2}.\n",
    "$$"
   ]
  },
  {
   "cell_type": "markdown",
   "metadata": {
    "slideshow": {
     "slide_type": "subslide"
    }
   },
   "source": [
    "### Financial economics interpretation\n",
    "\n",
    "- The financial economic interpretation is that higher volatility means greater adverse selection which is compensated by a wider spread.\n",
    "    - Volatility is a measure of the value of information to informed traders, as we shall see when we study the Kyle model."
   ]
  },
  {
   "cell_type": "markdown",
   "metadata": {
    "slideshow": {
     "slide_type": "slide"
    }
   },
   "source": [
    "### Summary\n",
    "\n",
    "- The bid-offer spread reflects:\n",
    "    - Costs\n",
    "    - Inventory\n",
    "    - Adverse selection\n",
    "- Empirically, volatility is roughly equal to the half-spread."
   ]
  },
  {
   "cell_type": "markdown",
   "metadata": {
    "slideshow": {
     "slide_type": "slide"
    }
   },
   "source": [
    "### References\n",
    "\n",
    "<br />\n",
    "\n",
    "<div class=\"reflist\" style=\"list-style-type: decimal;\">\n",
    "\n",
    "<ol>\n",
    "\n",
    "  <li id=\"cite_note-BNS\"><span class=\"mw-cite-backlink\"><b><a href=\"#cite_ref-BNS\">^</a></b></span>O.E Barndorff-Nielsen, P.R Hansen, A Lunde, N Shephard, Realized kernels\n",
    "in practice: Trades and quotes, <i>Econometrics Journal<i>\n",
    "      <b>12</b> (3) 1–32 (2009).\n",
    "  \n",
    "  </li>\n",
    "\n",
    "  <li id=\"cite_note-Bessembinder\"><span class=\"mw-cite-backlink\"><b><a href=\"#cite_ref-Bessembinder\">^</a></b></span>Hendrik Bessembinder, Issues in assessing trade execution costs,\n",
    "      <i>Journal of Financial Markets</i> <b>6</b>(3)\n",
    "233–257 (2003).\n",
    "  \n",
    "  </li>\n",
    "      \n",
    "      \n",
    "      \n",
    " <li id=\"cite_note-EasleyBVC\"><span class=\"mw-cite-backlink\"><b><a href=\"#cite_ref-EasleyBVC\">^</a></b></span>David Easley, Marcos Lopez de Prado and Maureen O'Hara, Discerning information from trade data, <i>Journal of Financial Economics</i>, <b>120</b>(2) 269--285 (2016).\n",
    "  \n",
    "  </li>\n",
    "      \n",
    "  <li id=\"cite_note-EasleyMachine\"><span class=\"mw-cite-backlink\"><b><a href=\"#cite_ref-EasleyMachine\">^</a></b></span>David Easley, Marcos Lopez de Prado, Maureen O'Hara and Zhibai Zhang, Microstructure in the machine age, <i>SSRN</i> (2019).\n",
    "  \n",
    "  </li>     \n",
    "      \n",
    "     \n",
    "      \n",
    " <li id=\"cite_note-FPR\"><span class=\"mw-cite-backlink\"><b><a href=\"#cite_ref-FPR\">^</a></b></span>Thierry Foucault, Marco Pagano and Ailsa Röell, <i>Market\n",
    "      Liqudity</i>, Oxford University Press, Chapters 2 and 3. (2013).\n",
    "  \n",
    "  </li>\n",
    "      \n",
    "  \n",
    "  \n",
    "  <li id=\"cite_note-Hasbrouck\"><span class=\"mw-cite-backlink\"><b><a href=\"#cite_ref-Hasbrouck\">^</a></b></span>Joel Hasbrouck, <i>Empirical Market Microstructure</i>, Oxford\n",
    "University Press, Chapters 5 and 6 (2007).\n",
    "  \n",
    "  </li>\n",
    "  \n",
    "  \n",
    "  <li id=\"cite_note-HuangStoll\"><span class=\"mw-cite-backlink\"><b><a href=\"#cite_ref-HuangStoll\">^</a></b></span>Roger D. Huang and Hans R. Stoll, The components of the bid-ask spread:\n",
    "      A general approach, <i>Review of Financial Studies</i>\n",
    "      <b>10</b>(4) 995–1034 (1997).\n",
    "  \n",
    "  </li>\n",
    "  \n",
    "  \n",
    "  \n",
    "  <li id=\"cite_note-MRR\"><span class=\"mw-cite-backlink\"><b><a href=\"#cite_ref-MRR\">^</a></b></span>Ananth Madhavan, Matthew Richardson, Mark Roomans, Why do security\n",
    "prices change? A transaction-level analysis of NYSE stocks,\n",
    "<i>Review of Financial Studies</i> <b>10</b>(4)\n",
    "1035–1064 (1997).\n",
    "  \n",
    "  </li>\n",
    "  \n",
    "  <li id=\"cite_note-WyartEtAl\"><span class=\"mw-cite-backlink\"><b><a href=\"#cite_ref-WyartEtAl\">^</a></b></span>Matthieu Wyart, Jean-Philippe Bouchaud, Julien Kockelkoren, Marc Potters\n",
    "and Michele Vettorazzo, Relation between bid-ask spread, impact and\n",
    "volatility in order-driven markets, <i>Quantitative Finance</i>\n",
    "      <b>8</b>(1) 41–57 (2008).\n",
    "  \n",
    "  </li>\n",
    "  \n",
    "  \n",
    "</ol>"
   ]
  }
 ],
 "metadata": {
  "celltoolbar": "Slideshow",
  "kernelspec": {
   "display_name": "Python 3 (ipykernel)",
   "language": "python",
   "name": "python3"
  },
  "language_info": {
   "codemirror_mode": {
    "name": "ipython",
    "version": 3
   },
   "file_extension": ".py",
   "mimetype": "text/x-python",
   "name": "python",
   "nbconvert_exporter": "python",
   "pygments_lexer": "ipython3",
   "version": "3.11.4"
  },
  "toc": {
   "base_numbering": 1,
   "nav_menu": {},
   "number_sections": false,
   "sideBar": true,
   "skip_h1_title": false,
   "title_cell": "Table of Contents",
   "title_sidebar": "Contents",
   "toc_cell": false,
   "toc_position": {},
   "toc_section_display": true,
   "toc_window_display": false
  },
  "varInspector": {
   "cols": {
    "lenName": 16,
    "lenType": 16,
    "lenVar": 40
   },
   "kernels_config": {
    "python": {
     "delete_cmd_postfix": "",
     "delete_cmd_prefix": "del ",
     "library": "var_list.py",
     "varRefreshCmd": "print(var_dic_list())"
    },
    "r": {
     "delete_cmd_postfix": ") ",
     "delete_cmd_prefix": "rm(",
     "library": "var_list.r",
     "varRefreshCmd": "cat(var_dic_list()) "
    }
   },
   "types_to_exclude": [
    "module",
    "function",
    "builtin_function_or_method",
    "instance",
    "_Feature"
   ],
   "window_display": false
  }
 },
 "nbformat": 4,
 "nbformat_minor": 4
}
