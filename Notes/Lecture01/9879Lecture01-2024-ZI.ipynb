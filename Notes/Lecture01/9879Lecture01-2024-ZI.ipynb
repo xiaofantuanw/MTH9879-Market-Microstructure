{
 "cells": [
  {
   "cell_type": "markdown",
   "metadata": {
    "slideshow": {
     "slide_type": "slide"
    }
   },
   "source": [
    "## MTH 9879 Market Microstructure Models: Spring 2024\n",
    "\n",
    "<p>\n",
    "\n",
    "### Lecture 1: Market mechanisms and zero intelligence models of the order book\n",
    "\n",
    "Lecture note by Jim Gatheral <br>\n",
    "  \n",
    "  \n",
    "<h3><img src=\"http://mfe.baruch.cuny.edu/wp-content/uploads/2016/04/MFE-Logo.jpg\" align = \"center\" width=500></h3>\n",
    "\n",
    "\n",
    "$$\n",
    "\\newcommand{\\bea}{\\begin{eqnarray}}\n",
    "\\newcommand{\\eea}{\\end{eqnarray}}\n",
    "\\newcommand{\\beas}{\\begin{eqnarray*}}\n",
    "\\newcommand{\\eeas}{\\end{eqnarray*}}\n",
    "\\newcommand{\\supp}{\\mathrm{supp}}\n",
    "\\newcommand{\\F}{\\mathcal{F} }\n",
    "\\newcommand{\\cF}{\\mathcal{F} }\n",
    "\\newcommand{\\E}{\\mathbb{E} }\n",
    "\\newcommand{\\Eof}[1]{\\mathbb{E}\\left[ #1 \\right]}\n",
    "\\def\\Cov{{ \\mbox{Cov} }}\n",
    "\\def\\Var{{ \\mbox{Var} }}\n",
    "\\newcommand{\\1}{\\mathbf{1} }\n",
    "\\newcommand{\\p}{\\partial}\n",
    "\\newcommand{\\PP}{\\mathbb{P} }\n",
    "\\newcommand{\\Pof}[1]{\\mathbb{P}\\left[ #1 \\right]}\n",
    "\\newcommand{\\QQ}{\\mathbb{Q} }\n",
    "\\newcommand{\\R}{\\mathbb{R} }\n",
    "\\newcommand{\\DD}{\\mathbb{D} }\n",
    "\\newcommand{\\HH}{\\mathbb{H} }\n",
    "\\newcommand{\\spn}{\\mathrm{span} }\n",
    "\\newcommand{\\cov}{\\mathrm{cov} }\n",
    "\\newcommand{\\HS}{\\mathcal{L}_{\\mathrm{HS}} }\n",
    "\\newcommand{\\Hess}{\\mathrm{Hess} }\n",
    "\\newcommand{\\trace}{\\mathrm{trace} }\n",
    "\\newcommand{\\LL}{\\mathcal{L} }\n",
    "\\newcommand{\\s}{\\mathcal{S} }\n",
    "\\newcommand{\\ee}{\\mathcal{E} }\n",
    "\\newcommand{\\ff}{\\mathcal{F} }\n",
    "\\newcommand{\\hh}{\\mathcal{H} }\n",
    "\\newcommand{\\bb}{\\mathcal{B} }\n",
    "\\newcommand{\\dd}{\\mathcal{D} }\n",
    "\\newcommand{\\g}{\\mathcal{G} }\n",
    "\\newcommand{\\half}{\\frac{1}{2} }\n",
    "\\newcommand{\\T}{\\mathcal{T} }\n",
    "\\newcommand{\\bit}{\\begin{itemize}}\n",
    "\\newcommand{\\eit}{\\end{itemize}}\n",
    "\\newcommand{\\beq}{\\begin{equation}}\n",
    "\\newcommand{\\eeq}{\\end{equation}}\n",
    "\\newcommand{\\tr}{\\mbox{tr}}\n",
    "$$\n"
   ]
  },
  {
   "cell_type": "markdown",
   "metadata": {
    "slideshow": {
     "slide_type": "slide"
    }
   },
   "source": [
    "### Outline of Lecture 1\n",
    "\n",
    "* Overview of the course\n",
    "\n",
    "* Market structure\n",
    "\n",
    "    * Order types\n",
    "    \n",
    "    * Market types\n",
    "    \n",
    "    * Trading venues\n",
    "\n",
    "* Zero intelligence models\n"
   ]
  },
  {
   "cell_type": "markdown",
   "metadata": {
    "slideshow": {
     "slide_type": "slide"
    }
   },
   "source": [
    "### Why study market microstructure?\n",
    "\n",
    "* To understand better how to trade: Specifically, how to design algorithms.\n",
    "    * Market microstructure theory could be viewed as the theory underlying algorithmic trading.\n",
    "* To be able to talk to informed clients.\n",
    "* To understand the process of price formation."
   ]
  },
  {
   "cell_type": "markdown",
   "metadata": {
    "slideshow": {
     "slide_type": "slide"
    }
   },
   "source": [
    "### Aims of this course\n",
    "\n",
    "* To be able to read and understand market microstructure literature.\n",
    "    * In particular, to be familiar with well-known microstructure models.\n",
    "* To be familiar with empirical characteristics of order books and time series, understanding their implications for modeling and trading."
   ]
  },
  {
   "cell_type": "markdown",
   "metadata": {
    "slideshow": {
     "slide_type": "slide"
    }
   },
   "source": [
    "### Philosophical overview\n",
    "\n",
    "* Two extreme views of the market:    \n",
    "    * Completely random        \n",
    "        * The zero intelligence model associated with econophysics.\n",
    "        * Use of statistical physics techniques.\n",
    "    * Completely rational\n",
    "        * Strategic trader models associated with efficient markets theory.\n",
    "        * Game theoretic solutions.\n",
    "* Reality is somewhere in-between."
   ]
  },
  {
   "cell_type": "markdown",
   "metadata": {
    "slideshow": {
     "slide_type": "slide"
    }
   },
   "source": [
    "### Order types\n",
    "\n",
    "Two basic order types:\n",
    "* Market orders\n",
    "    * Always executed if there is sufficient quantity available.\n",
    "* Limit orders\n",
    "    * May be executed only if limit price reached (note \"may\" not \"will\"!).\n",
    "    * Typically priorities are price first, then time."
   ]
  },
  {
   "cell_type": "markdown",
   "metadata": {
    "slideshow": {
     "slide_type": "subslide"
    }
   },
   "source": [
    "There are many variations such as:\n",
    "\n",
    "* Fill or kill: Must be entirely filled immediately or not at all\n",
    "\n",
    "* Immediate or cancel: Fill immediately; remaining quantity is canceled\n",
    "\n",
    "* All or nothing: Must be entirely filled or not at all when the price is reached\n",
    "\n",
    "* Marketable limit buy order: Buy at limit price but no higher.  Remaining quantity becomes best bid."
   ]
  },
  {
   "cell_type": "markdown",
   "metadata": {
    "slideshow": {
     "slide_type": "slide"
    }
   },
   "source": [
    "## Hidden orders\n",
    "\n",
    "* Users may post hidden limit orders\n",
    "* Hidden orders have lower priority than visible orders at the same price level.\n",
    "* Hidden orders are often placed between the visible bid and ask prices so market order submitters may sometimes get a price that is better than the visible best quote."
   ]
  },
  {
   "cell_type": "markdown",
   "metadata": {
    "slideshow": {
     "slide_type": "slide"
    }
   },
   "source": [
    "### Market types\n",
    "\n",
    "* *Quote-driven* markets\n",
    "    * have market makers  responsible for continuously quoting two-way prices\n",
    "    * For example ISE.\n",
    "* *Order-driven* markets \n",
    "    * Liquidity in order-driven markets is generated by customer order flow.\n",
    "    * Limit orders in the book replace market-maker quotes.\n",
    "* *Hybrid markets*, such as the NYSE are mixtures of both.\n",
    "    * For example, specialists are still responsible for ensuring two-way quotes in times of stress."
   ]
  },
  {
   "cell_type": "markdown",
   "metadata": {
    "slideshow": {
     "slide_type": "slide"
    }
   },
   "source": [
    "### Auction types\n",
    "\n",
    "Two basic types:\n",
    "* Batch auctions or *call markets*\n",
    "    * For example, opening and closing auctions on NYSE.    \n",
    "    * Trading takes place only when the market is called.\n",
    "        * Prices are \"called out\" until a price is found that maximizes the quantity traded.\n",
    "* Continuous auction or *continuous markets*\n",
    "    * For example trading during the day on NYSE.\n",
    "    * Trades can take place whenever the market is open.\n",
    "    * In a continuous market, the limit order book effectively defines supply and demand curves for the asset being traded."
   ]
  },
  {
   "cell_type": "markdown",
   "metadata": {
    "slideshow": {
     "slide_type": "slide"
    }
   },
   "source": [
    "### NYSE opening auction example\n",
    "\n",
    "Table 1: Example:  9:30am ET: Previous closing price of \\$17.00\n",
    "\n",
    "| Entry Time | Buy Limit Orders | Sell Limit Orders | Order Price | Matchable | Imbalance | Indicative Price |\n",
    "|:----------:|:----------------:|:-----------------:|:-----------:|:---------:|:---------:|:----------------:|\n",
    "|    8:30    |       1,000      |                   |    \\$19.00   |     0     |     0     |         -        |\n",
    "|    9:00    |                  |       1,000       |    Market   |   1,000   |     0     |      \\$19.00      |\n",
    "|    9:05    |       1,000      |                   |    \\$20.00   |   1,000   |     0     |      \\$20.00      |\n",
    "|    9:25    |                  |       1,000       |    \\$18.00   |   2,000   |     0     |      \\$18.00      |\n",
    "\n",
    "* The match price is the price that maximizes the volume that can be executed.\n",
    "* There are complicated rules for tie-breaking that vary between exchanges."
   ]
  },
  {
   "cell_type": "markdown",
   "metadata": {
    "slideshow": {
     "slide_type": "slide"
    }
   },
   "source": [
    "### Continuous trading\n",
    "\n",
    "* In the continuous trading session, orders are submitted and canceled. \n",
    "* The set of orders with signs, sizes and prices is known as the *limit order book*.\n",
    "\n"
   ]
  },
  {
   "cell_type": "markdown",
   "metadata": {
    "slideshow": {
     "slide_type": "slide"
    }
   },
   "source": [
    "### Trading venues\n",
    "\n",
    "In the US, trading takes place on\n",
    "* Organized exchanges such as NYSE and Nasdaq.\n",
    "    * Trading can be electronic via an ECN.\n",
    "    * Prices are formed through an auction process.\n",
    "* Crossing networks such as LiquidNet and POSIT\n",
    "    * Crosses occur with a *derivative* pricing rule.\n",
    "* Dark pools with derivative pricing rules\n",
    "    * Banks' internal crossing networks such as SIGMA X, CrossFinder, Instinct X\n",
    "    * Other dark pools such as BIDS, Level etc."
   ]
  },
  {
   "cell_type": "markdown",
   "metadata": {
    "slideshow": {
     "slide_type": "subslide"
    }
   },
   "source": [
    "This excerpt taken from the ITG 10-K filed Mar 1, 2007.\n",
    "\n",
    "---\n",
    "\n",
    "**POSIT**\n",
    "\n",
    "ITG POSIT crossing destinations, including POSIT Match, POSIT Now, and BLOCKalert, give buyers and sellers opportunities to match equity orders with complete confidentiality, no market impact, and the cost savings of midpoint pricing. POSIT offers unique value for traders with active, quantitative, and passive trading styles. POSIT provides access to rich, diverse liquidity, is useful for all trading styles and is especially valuable for trading small, illiquid names. All POSIT products cross at the midpoint of the National Best Bid or Offer (“NBBO”)."
   ]
  },
  {
   "cell_type": "markdown",
   "metadata": {
    "slideshow": {
     "slide_type": "slide"
    }
   },
   "source": [
    "### Reg. NMS\n",
    "\n",
    "From Wikipedia:\n",
    "\n",
    "> In 2005, the rules promoting the national market system were consolidated into REG NMS. Some of the more notable rules include:\n",
    "\n",
    "> Order Protection (or Trade Through) Rule - provides intermarket price priority for quotations that are immediately and automatically accessible (Rule 610)\n",
    ">Access Rule - addresses access to market data such as quotations (Rule 611)\n",
    "\n",
    ">Sub-Penny Rule - establishes minimum pricing increments (Rule 612)\n",
    ">Market Data Rules.\n",
    "\n",
    "- This means in particular that even if there is insufficient quantity at the best quote in a given market, your market order may still be filled after rerouting to another market."
   ]
  },
  {
   "cell_type": "markdown",
   "metadata": {
    "slideshow": {
     "slide_type": "slide"
    }
   },
   "source": [
    "### The BATS order book\n",
    "\n",
    "* We proceed to give a few snapshots of the BATS order book.\n",
    "    * BATS is the third largest US exchange after NYSE and Nasdaq.  It has the reputation of being the fastest exchange.\n",
    "        - BATS stands for \"Better Automated Trading System\".  It was bought by the CBOE in 2017.\n",
    "    - You can see the order book live here: http://markets.cboe.com/us/equities/market_statistics/book/SPY/."
   ]
  },
  {
   "cell_type": "markdown",
   "metadata": {
    "slideshow": {
     "slide_type": "slide"
    }
   },
   "source": [
    "## BATS (BZX) order book for MSFT\n",
    "\n",
    "\n",
    "<h2><img src=\"http://mfe.baruch.cuny.edu/wp-content/uploads/2020/01/BZX_MSFT.png\" align = \"center\" width=650></h2>\n"
   ]
  },
  {
   "cell_type": "markdown",
   "metadata": {
    "slideshow": {
     "slide_type": "slide"
    }
   },
   "source": [
    "## BATS (BYX) order book for MSFT\n",
    "\n",
    "<h2><img src=\"http://mfe.baruch.cuny.edu/wp-content/uploads/2020/01/BZY_MSFT.png\" align = \"center\" width=650></h2>\n"
   ]
  },
  {
   "cell_type": "markdown",
   "metadata": {
    "slideshow": {
     "slide_type": "slide"
    }
   },
   "source": [
    "## BATS (BZX) order book for GOOG\n",
    "\n",
    "<h2><img src=\"http://mfe.baruch.cuny.edu/wp-content/uploads/2020/01/BZX_GOOG.png\" align = \"center\" width=650></h2>\n"
   ]
  },
  {
   "cell_type": "markdown",
   "metadata": {
    "slideshow": {
     "slide_type": "slide"
    }
   },
   "source": [
    "## BATS (BYX) order book for GOOG\n",
    "\n",
    "<h2><img src=\"http://mfe.baruch.cuny.edu/wp-content/uploads/2020/01/BZY_GOOG.png\" align = \"center\" width=650></h2>\n"
   ]
  },
  {
   "cell_type": "markdown",
   "metadata": {
    "slideshow": {
     "slide_type": "slide"
    }
   },
   "source": [
    "## BATS (BZX) order book for GE\n",
    "\n",
    "<h2><img src=\"http://mfe.baruch.cuny.edu/wp-content/uploads/2020/01/BZX_GE.png\" align = \"center\" width=650></h2>\n"
   ]
  },
  {
   "cell_type": "markdown",
   "metadata": {
    "slideshow": {
     "slide_type": "slide"
    }
   },
   "source": [
    "## BATS (BYX) order book for GE\n",
    "\n",
    "<h2><img src=\"http://mfe.baruch.cuny.edu/wp-content/uploads/2020/01/BZY_GE.png\" align = \"center\" width=650></h2>\n"
   ]
  },
  {
   "cell_type": "markdown",
   "metadata": {
    "slideshow": {
     "slide_type": "slide"
    }
   },
   "source": [
    "## BATS (BZX) order book for FCX\n",
    "\n",
    "<h2><img src=\"http://mfe.baruch.cuny.edu/wp-content/uploads/2020/01/BZX_FCX.png\" align = \"center\" width=650></h2>\n"
   ]
  },
  {
   "cell_type": "markdown",
   "metadata": {
    "slideshow": {
     "slide_type": "slide"
    }
   },
   "source": [
    "## BATS (BYX) order book for FCX\n",
    "\n",
    "<h2><img src=\"http://mfe.baruch.cuny.edu/wp-content/uploads/2020/01/BZY_FCX.png\" align = \"center\" width=650></h2>\n"
   ]
  },
  {
   "cell_type": "markdown",
   "metadata": {
    "slideshow": {
     "slide_type": "slide"
    },
    "tags": []
   },
   "source": [
    "### BZX and BYX\n",
    "\n",
    "* BZX gives a rebate to limit order submitters\n",
    "    * There is an incentive to place limit orders so the size at best quote is large.\n",
    "    * Market orders are small.\n",
    "    - For small tick stocks, spreads are smaller.\n",
    "* BYX gives a rebate to market order submitters.\n",
    "    * Queue sizes are smaller.\n",
    "    * Market orders are bigger.\n",
    "* Because of different fee structures on different exchanges, the displayed spread is not the true spread.\n",
    "\n",
    "- Current BATS fee schedules are available here: http://markets.cboe.com/us/equities/membership/fee_schedule/bzx/ and here http://markets.cboe.com/us/equities/membership/fee_schedule/byx/."
   ]
  },
  {
   "cell_type": "markdown",
   "metadata": {
    "jp-MarkdownHeadingCollapsed": true,
    "slideshow": {
     "slide_type": "slide"
    },
    "tags": []
   },
   "source": [
    "### Large and small tick stocks\n",
    "\n",
    "* Stocks where the tick size is large relative to the price movement per trade are *large tick* stocks. Stocks where the tick size is small relative to the price movement per trade are *small tick* stocks.\n",
    "    * GE and FCX were large tick stocks at the time this slide was written (https://www.yahoo.com/now/reverse-stock-split-ge-trading-145334436.html).\n",
    "    * GOOG and MSFT are small tick stocks.\n",
    "* A large tick stock has a spread of one tick nearly all of the time.\n",
    "* Conversely, the spread of a small tick stock is typically greater than one tick (one cent in the US)."
   ]
  },
  {
   "cell_type": "markdown",
   "metadata": {
    "jp-MarkdownHeadingCollapsed": true,
    "slideshow": {
     "slide_type": "slide"
    },
    "tags": []
   },
   "source": [
    "### The Santa Fe zero-intelligence model\n",
    "\n",
    "In this model due to Smith, Farmer, Gillemot and Krishnamurthy:\n",
    "\n",
    "* Limit orders can be placed at any integer price level $p$ where $-\\infty < p < \\infty$.\n",
    "    * If worried about negative prices, think of these as being logarithms of the actual price.\n",
    "* Limit sell orders may be placed at any level greater than the best bid $b(t)$ at time $t$ and limit buy orders at any level less than the best offer $a(t)$.\n",
    "* In particular, just as in real markets, limit orders may be placed inside the spread (if the current spread is greater than one tick).\n",
    "* Market orders arrive randomly at rate $\\mu$.\n",
    "* Limit orders (per price level) arrive at rate $\\lambda$.\n",
    "* A proportion $\\nu$ of existing limit orders is canceled.\n",
    "* All market orders and limit orders are for one share.\n",
    "*  All the order flows are modeled as Poisson processes. "
   ]
  },
  {
   "cell_type": "markdown",
   "metadata": {
    "jp-MarkdownHeadingCollapsed": true,
    "slideshow": {
     "slide_type": "slide"
    },
    "tags": []
   },
   "source": [
    "### Analysis of the Santa Fe order book model\n",
    "\n",
    "* The Santa Fe model depends on so few parameters that, even though it is capable of generating complex behavior, it remains amenable to analytical investigation.\n",
    "* For example, it is easy to see that the asymptotic book depth far away from the best quote must be given by $\\lambda/\\nu$.\n",
    "\n",
    "The argument goes as follows:\n"
   ]
  },
  {
   "cell_type": "markdown",
   "metadata": {
    "slideshow": {
     "slide_type": "slide"
    }
   },
   "source": [
    "### Asymptotic book depth\n",
    "\n",
    "* In the steady-state, orders arriving into the book must balance orders leaving the book.\n",
    "* Far away from the best quote, the probability of a limit order leaving the book as the result of an execution against a market order is very small.\n",
    "* Thus we need only consider new orders arriving balancing existing orders leaving due to cancelation. \n",
    "    * At a given price, for a fixed time interval $\\Delta$, the expected number of orders arriving is $\\lambda \\Delta$ and the expected number of orders canceled is $\\nu d\\Delta $ where $d$ is the number of shares at the book at that price level.    \n",
    "    * For these to balance, we must have $\\lambda \\Delta= \\nu d\\Delta$, or equivalently,\n",
    "     $$\n",
    "     d=\\frac{\\lambda}{\\nu}.\n",
    "     $$"
   ]
  },
  {
   "cell_type": "markdown",
   "metadata": {
    "slideshow": {
     "slide_type": "slide"
    }
   },
   "source": [
    "### Distribution of order depth\n",
    "\n",
    "* In the Santa Fe model, the distribution of order depth is a function of distance to the best quote.\n",
    "    * Conditional on no change in the best quotes, order depth would be i.i.d at any given level of the book deeper\n",
    "    than the best quote.    \n",
    "    * In fact, as shown by SFGK, this distribution is Poisson with mean $\\lambda/\\nu$. \n",
    "    * However, as the order book evolves, the best quote prices do move, and each level in the book retains some memory of having been \"visited\" by the market price at some prior time.\n",
    "* Strictly speaking, order depth distributions are therefore conditional on the entire history of the order book and in particular on the distance to the best quote.\n",
    "* The further away a given level is from the best quote, the closer the order depth distribution will be to Poisson."
   ]
  },
  {
   "cell_type": "markdown",
   "metadata": {
    "slideshow": {
     "slide_type": "slide"
    },
    "tags": []
   },
   "source": [
    "### Dimensional analysis\n",
    "\n",
    "* Dimensional analysis is a favorite tool of physicists used to guess the relationships between model outputs and parameters.\n",
    "    * Effectively using information about scaling relationships."
   ]
  },
  {
   "cell_type": "markdown",
   "metadata": {
    "slideshow": {
     "slide_type": "subslide"
    }
   },
   "source": [
    "* The dimensions of the parameters of the Santa Fe model are as follows:\n",
    "\n",
    "| Parameter | Dimensions       |\n",
    "|:-----------:|:------------------:|\n",
    "|    $\\mu$       | shares/T        |\n",
    "|    $\\lambda$       | shares/(ticks T) |\n",
    "|    $\\nu$       | 1/T              |\n",
    "\n",
    "* In the following we use these parameter dimensions to guess the functional form of relationships between measurable quantities of interest and the input parameters."
   ]
  },
  {
   "cell_type": "markdown",
   "metadata": {
    "slideshow": {
     "slide_type": "slide"
    }
   },
   "source": [
    "### Inverse table\n",
    "\n",
    "* For convenience, we provide (unique) expressions for dimensions in terms of input parameters.\n",
    "* Inverting the previous table gives\n",
    "\n",
    "| Dimensions | Parameter combinations |\n",
    "|:----------:|:----------------------:|\n",
    "|   shares   |        $\\mu$ / $\\nu$       |\n",
    "|      T     |    1 / $\\nu$    |\n",
    "|    ticks   |           $\\mu$ / $\\lambda$          |"
   ]
  },
  {
   "cell_type": "markdown",
   "metadata": {
    "jp-MarkdownHeadingCollapsed": true,
    "slideshow": {
     "slide_type": "slide"
    },
    "tags": []
   },
   "source": [
    "### Asymptotic book depth\n",
    "\n",
    "* The asymptotic depth $d$ of the book far away from mid-market has the dimensions of $shares$ per $tick$.  The only combination of parameters with these dimensions is $\\lambda/\\nu$.\n",
    "* As we saw earlier, the exact result is in fact just $\\lambda/\\nu$ so the guess in this case is exactly correct."
   ]
  },
  {
   "cell_type": "markdown",
   "metadata": {
    "slideshow": {
     "slide_type": "slide"
    }
   },
   "source": [
    "### The spread\n",
    "\n",
    "* The spread has dimensions of $ticks$ and the only combination of parameters with these dimensions is $\\mu/\\lambda$.\n",
    "* Arguing more directly, inside the spread, limit orders are mostly removed by market orders.    \n",
    "    * The total rate of arrival of limit orders is $2\\,\\lambda\\,s$ where $s$ is the steady-state spread because as mentioned earlier, buy and sell orders may be placed inside the spread.\n",
    "    * The rate of removal of limit orders is just the rate of market orders $\\mu$.\n",
    "* We deduce that (roughly at least)\n",
    "    $$\n",
    "    s \\sim \\frac{\\mu}{2\\,\\lambda}\n",
    "    $$"
   ]
  },
  {
   "cell_type": "markdown",
   "metadata": {
    "slideshow": {
     "slide_type": "slide"
    }
   },
   "source": [
    "### The slope of the order book density\n",
    "\n",
    "* This quantity has dimensions of $shares$ per $tick$ per $tick$ (the derivative with respect to ticks of the limit order density).\n",
    "* The only combination of parameters that has these dimensions is    \n",
    "    $$\n",
    "    \\frac{\\lambda^2}{\\mu\\,\\nu}.\n",
    "    $$\n"
   ]
  },
  {
   "cell_type": "markdown",
   "metadata": {
    "slideshow": {
     "slide_type": "slide"
    }
   },
   "source": [
    "### Volatility\n",
    "\n",
    "* The (dollar) variance of the times series of trade prices generated in this model must have dimensions $ticks^2/T$.\n",
    "* Dimensional arguments imply that variance per unit time must therefore be proportional to\n",
    "    $$\n",
    "    \\frac{\\mu^2\\,\\nu}{\\lambda^2}\n",
    "    $$\n",
    "* Thus the (dollar) volatility must scale as    \n",
    "    $$\n",
    "    \\frac{\\mu\\,\\sqrt{\\nu}}{\\lambda}\n",
    "    $$"
   ]
  },
  {
   "cell_type": "markdown",
   "metadata": {
    "slideshow": {
     "slide_type": "slide"
    }
   },
   "source": [
    "### Average quote size\n",
    "\n",
    "* The average quote size $Q$ should be given roughly by the cumulative steady-state inventory $s/2$ ticks away from mid-market where $s$ is the average spread.\n",
    "* Thus    \n",
    "    $$\n",
    "    Q \\sim s^2\\,\\frac{\\lambda^2}{\\mu\\,\\nu} \\sim\n",
    "    \\frac{\\mu^2}{\\lambda^2}\\,\\frac{\\lambda^2}{\\mu\\,\\nu}=\\frac{\\mu}{\\nu}\n",
    "    $$    \n",
    "    as we would expect because once again, ${\\mu}/{\\nu}$ is the only combination of parameters with dimensions of $shares$.\n",
    "\n"
   ]
  },
  {
   "cell_type": "markdown",
   "metadata": {
    "slideshow": {
     "slide_type": "slide"
    }
   },
   "source": [
    "### Market impact\n",
    "\n",
    "The most familiar market impact model is $\\sigma\\,\\sqrt{L}$ where $\\sigma$ is the (dollar)  volatility the liquidity $L$ is fraction of average daily volume.  In this model, for a given number of shares $n$,\n",
    "\n",
    "$$\n",
    "L=\\frac{n}{\\mu}\n",
    "$$\n",
    "\n",
    "and as shown above\n",
    "\n",
    "$$\n",
    "\\sigma \\sim \\frac{\\mu\\,\\sqrt{\\nu}}{\\lambda}\n",
    "$$\n",
    "\n",
    "Re-expressing that model of market impact in terms of the parameters\n",
    "of the Santa Fe model gives\n",
    "\n",
    "$$\n",
    "I(n) \\sim\n",
    "\\frac{\\mu\\,\\sqrt{\\nu}}{\\lambda}\\,\\sqrt{\\frac{n}{\\mu}}=\\frac{1}{\\lambda}\\,\\sqrt{{\\mu\\,\\nu\\,n}}\n",
    "$$\n",
    "\n",
    "which has the correct dimensions of $ticks$."
   ]
  },
  {
   "cell_type": "markdown",
   "metadata": {
    "slideshow": {
     "slide_type": "slide"
    }
   },
   "source": [
    "### Market impact in general\n",
    "\n",
    "* In general, no matter what the form of market impact, for a given number of shares $n$ the impact must have dimensions of $ticks$.\n",
    "* The only combination of parameters with dimensions of $ticks$ is ${\\mu}/{\\lambda}$.\n",
    "* We deduce that the general form of market impact must be\n",
    "    $$\n",
    "    I(n)\\sim\\frac{\\mu}{\\lambda}\\,f\\left(\\frac{n}{N_c}\\right)=\\frac{\\mu}{\\lambda}\\,f\\left(\\frac{2\\,\\nu\\,n}{\\mu}\\right)\n",
    "    $$\n",
    "    for some function $f(.)$.\n",
    "* Clearly, the square-root model of market impact is consistent with this."
   ]
  },
  {
   "cell_type": "markdown",
   "metadata": {
    "slideshow": {
     "slide_type": "slide"
    }
   },
   "source": [
    "### Realism of Santa Fe model\n",
    "\n",
    "* In real markets,  order depth falls off rapidly away from the best quote. \n",
    "* We would therefore not expect the behavior of the Santa Fe model deep in the order book to accurately mimic a real market.\n",
    "* However, close to the best quote, the Santa Fe model *does* appear to capture some salient aspects of real markets.\n",
    "* For example:\n",
    "    * A model in a similar style was shown by Bollerslev, Domowitz and Wang to accurately predict the distribution of bid-offer spreads in the foreign exchange market.    \n",
    "    * Farmer, Patelli and Zovko estimated $\\mu$, $\\lambda$ and $\\nu$ from London Stock Exchange SETS order book data, comparing average actual bid-offer spreads and volatilities against Santa Fe model predictions and finding agreement to be quite good.\n",
    "* As we shall see, there are inevitably some aspects of real markets that zero-intelligence models cannot mimic, notably those associated with strategic behavior of traders."
   ]
  },
  {
   "cell_type": "markdown",
   "metadata": {
    "slideshow": {
     "slide_type": "slide"
    }
   },
   "source": [
    "### Implementation of the Santa Fe model\n",
    "\n",
    "* It is impossible to simulate order arrivals and cancelations at integer price levels from $-\\infty$ to $+\\infty$.\n",
    "* So consider only order arrivals and cancelations in a moving band of width $L$ centered around the current best quotes.\n",
    "    * $L$ should be chosen conservatively so as to ensure minimal edge effects.\n",
    "    * Within the band, the arrival rate of limit orders is $\\lambda$, cancelation rate is $\\nu$ times outstanding shares.\n",
    "    * Outside the band, orders may neither arrive nor be canceled.\n"
   ]
  },
  {
   "cell_type": "markdown",
   "metadata": {
    "slideshow": {
     "slide_type": "slide"
    }
   },
   "source": [
    "### Notation\n",
    "\n",
    "Table 2: Order book events\n",
    "\n",
    "|       Event       | Notation |\n",
    "|:-----------------:|:--------:|\n",
    "|  Limit buy order  |    LB    |\n",
    "|  Market buy order |    MB    |\n",
    "|  Cancel buy order |    CB    |\n",
    "| Market sell order |    MS    |\n",
    "|  Limit sell order |    LS    |\n",
    "| Cancel sell order |    CS    |\n",
    "\n",
    "We denote the probability of an event by $\\PP_{event}$"
   ]
  },
  {
   "cell_type": "markdown",
   "metadata": {
    "slideshow": {
     "slide_type": "slide"
    },
    "tags": []
   },
   "source": [
    "### Santa Fe pseudo-code\n",
    "\n",
    "<p>\n",
    "\n",
    "\n",
    "\n",
    "<font color=\"red\">\n",
    "\n",
    "- Compute the best bid $B_t$ and best offer $A_t$.\n",
    "\n",
    "- Compute the number $n_{B}$ of shares on the bid side of the book from level $A_t-1$ to level\n",
    "$A_t-L$.\n",
    "\n",
    "- Compute the number $n_{A}$ of shares on the offered side of the book\n",
    "from level $B_t+1$ to level $B_t+L$."
   ]
  },
  {
   "cell_type": "markdown",
   "metadata": {},
   "source": [
    "<font color=\"red\">\n",
    "\n",
    "- Draw a new event according to the relative probabilities\n",
    "$\n",
    "\\left\\{\\PP_{MB}, \\PP_{MS},\n",
    "\\PP_{LB}, \\PP_{LS}, \\PP_{CS}, \\PP_{CB}\\right\\} \\propto \\left\\{\\mu/2, \\mu/2,\n",
    "L\\,\\lambda, L\\,\\lambda, \\nu\\,{n_A}, \\nu\\,{n_B} \\right\\}\n",
    "$.\n",
    "\n",
    "    - If the selected event is a limit order, draw the relative\n",
    "price level from $\\left\\{1,2,\\ldots,L\\right\\}$.\n",
    "    - If the selected event is a cancelation, select randomly which order within the band to cancel.\n",
    "\n",
    "\n",
    "- Update the order book and increment $t$."
   ]
  },
  {
   "cell_type": "markdown",
   "metadata": {
    "slideshow": {
     "slide_type": "slide"
    }
   },
   "source": [
    "### Ouputs of simulation\n",
    "\n",
    "This simulation procedure yields a time series of order book data from which we extract\n",
    "quantities of interest such as spread, mid-quote etc.\n",
    "<h2><img src=\"http://mfe.baruch.cuny.edu/wp-content/uploads/2015/01/ZI-price.png\" align = \"center\" width=600></h2>\n",
    "\n",
    "Figure 1: A typical sample path"
   ]
  },
  {
   "cell_type": "markdown",
   "metadata": {
    "slideshow": {
     "slide_type": "slide"
    }
   },
   "source": [
    "### Python implementation of ZI simulation"
   ]
  },
  {
   "cell_type": "code",
   "execution_count": 1,
   "metadata": {},
   "outputs": [],
   "source": [
    "import numpy as np\n",
    "import random\n",
    "import matplotlib.pyplot as plt"
   ]
  },
  {
   "cell_type": "markdown",
   "metadata": {},
   "source": [
    "### The zero-intelligence `ZI` class"
   ]
  },
  {
   "cell_type": "code",
   "execution_count": 2,
   "metadata": {},
   "outputs": [],
   "source": [
    "# the ZI class\n",
    "\n",
    "class ZI:\n",
    "    '''\n",
    "    This defines the ZI (zero-intelligence) class\n",
    "    Adapted from the R code by Jim Gatheral\n",
    "    '''\n",
    "    \n",
    "    # Book setup\n",
    "    L = 30 # default, number of price levels to be included in iterations\n",
    "    LL = 1000 # default, total number of levels in buy and sell books\n",
    "    # initial sizes on the bid/buy side \n",
    "    buy_size = [5 for x in range(LL - 8)] + [5, 4, 4, 3, 3, 2, 2, 1] + [0 for x in range(LL + 1)]\n",
    "    buy_size = np.array(buy_size)\n",
    "    # initial sizes on the ask/sell side\n",
    "    sell_size = [0 for x in range(LL + 1)] + [1, 2, 2, 3, 3, 4, 4, 5] + [5 for x in range(LL - 8)]    \n",
    "    sell_size = np.array(sell_size)\n",
    "    \n",
    "    def __init__(self, lmda, mu, nu, L=30, LL=1000, buy_size=buy_size, sell_size=sell_size):\n",
    "        self.lmda = lmda\n",
    "        self.mu = mu\n",
    "        self.nu = nu\n",
    "        self.L = L\n",
    "        self.LL = LL\n",
    "        self.price = np.arange(-LL, LL + 1)\n",
    "        self.buy_size = buy_size.copy()\n",
    "        self.sell_size = sell_size.copy()\n",
    "        \n",
    "        # dict for order book\n",
    "        self.book = {'price': self.price,\n",
    "                     'buy_size': self.buy_size,\n",
    "                     'sell_size': self.sell_size\n",
    "                    }\n",
    "        # market activities\n",
    "        self.activities = (self.limit_buy, self.limit_sell, self.cancel_buy, \n",
    "                  self.cancel_sell, self.market_buy, self.market_sell)\n",
    "    \n",
    "    def book_shape(self, band=10):\n",
    "        buy = self.book['buy_size'][(self.mid_posn() - band - 1):self.mid_posn()]\n",
    "        sell = self.book['sell_size'][self.mid_posn():(self.mid_posn() + band)]\n",
    "        return np.concatenate([buy, sell])\n",
    "    \n",
    "    def book_shape_signed(self, band=10):\n",
    "        buy = self.book['buy_size'][(self.mid_posn() - band - 1):self.mid_posn()]\n",
    "        sell = self.book['sell_size'][self.mid_posn():(self.mid_posn() + band)]\n",
    "        return np.concatenate([-buy, sell])\n",
    "    \n",
    "    def book_plot(self, band=10, signed=False):\n",
    "        plt.figure(figsize=(8, 4))\n",
    "        if signed is True:\n",
    "            buy = self.book['buy_size'][(self.mid_posn() - band - 1):self.mid_posn()]\n",
    "            sell = self.book['sell_size'][self.mid_posn():(self.mid_posn() + band)]\n",
    "            plt.plot(np.arange(-band, 1), -buy, 'ro:')\n",
    "            plt.plot([0, 1], [0, sell[0]], 'b:')\n",
    "            plt.plot(np.arange(1, band + 1), sell, 'bo:')\n",
    "            plt.hlines(y = 0, xmin=-band, xmax=band, linestyle='dashed', linewidth=1)\n",
    "            plt.title('Signed limit order book')\n",
    "            plt.xlabel('Relative price')\n",
    "            plt.ylabel('Quantity')\n",
    "            plt.show()\n",
    "            return None\n",
    "        \n",
    "        plt.plot(np.arange(-band, band + 1), self.book_shape(band), 'ro:')\n",
    "        plt.xlabel('Relative price')\n",
    "        plt.ylabel('Quantity')\n",
    "        plt.title('Limit order book')\n",
    "        plt.show()\n",
    "        \n",
    "    # functions for finding best quotes, mid, and spread\n",
    "    def best_offer(self):\n",
    "        return self.book['price'][self.book['sell_size'] > 0].min()\n",
    "        \n",
    "    def best_bid(self):\n",
    "        return self.book['price'][self.book['buy_size'] > 0].max()\n",
    "        \n",
    "    def spread(self):\n",
    "        return self.best_offer() - self.best_bid()\n",
    "        \n",
    "    def mid(self):\n",
    "        return (self.best_offer() + self.best_bid())/2\n",
    "    \n",
    "    # functions for finding positions indices\n",
    "    def bid_posn(self):\n",
    "        return len(self.book['buy_size'][self.book['price'] <= self.best_bid()])\n",
    "\n",
    "    def ask_posn(self):\n",
    "#        return len(self.book['sell_size'][self.book['price'] >= self.best_offer()])\n",
    "        return len(self.book['sell_size'][self.book['price'] <= self.best_offer()])\n",
    "    \n",
    "    def mid_posn(self):\n",
    "        return int((self.bid_posn() + self.ask_posn())/2)\n",
    "        \n",
    "    def pick(self, m):\n",
    "        return random.randint(1, m)\n",
    "    \n",
    "    def go(self):\n",
    "        pass\n",
    "    \n",
    "    # market activity functions\n",
    "    def limit_buy(self, price=None):\n",
    "        if price is None:\n",
    "            prx = self.best_offer() - self.pick(self.L)\n",
    "        else:\n",
    "            prx = price\n",
    "            if prx >= self.best_offer():\n",
    "                print(f'Limit buy order at price {prx} greater than best offer at {self.best_offer()}')\n",
    "                return None\n",
    "        self.book['buy_size'][self.book['price']==prx] += 1\n",
    "        return ['LB', prx]\n",
    "    \n",
    "    def limit_sell(self, price=None):\n",
    "        if price is None:\n",
    "            prx = self.best_bid() + self.pick(self.L)\n",
    "        else:\n",
    "            prx = price\n",
    "            if prx <= self.best_bid():\n",
    "                print(f'Limit sell order at price {prx} smaller than best bid at {self.best_bid()}')\n",
    "                return None\n",
    "        self.book['sell_size'][self.book['price']==prx] += 1\n",
    "        return ['LS', prx]\n",
    "        \n",
    "    def market_buy(self):\n",
    "        prx = self.best_offer()\n",
    "        self.book['sell_size'][self.book['price']==prx] -= 1\n",
    "        return ['MB', prx]\n",
    "        \n",
    "    def market_sell(self):\n",
    "        prx = self.best_bid()\n",
    "        self.book['buy_size'][self.book['price']==prx] -= 1\n",
    "        return ['MS', prx]\n",
    "    \n",
    "    # function for finding the number of cancelable buy orders \n",
    "    def n_cb(self):\n",
    "        return self.book['buy_size'][self.book['price'] >= self.best_offer() - self.L].sum()\n",
    "    \n",
    "    # function for finding the number of cancelable sell orders \n",
    "    def n_cs(self):\n",
    "        return self.book['sell_size'][self.book['price'] <= self.best_bid() + self.L].sum()\n",
    "        \n",
    "    def cancel_buy(self, price=None):\n",
    "        q = self.pick(self.n_cb())\n",
    "        tmp = [x for x in self.book['buy_size']]\n",
    "        tmp.reverse()\n",
    "        tmp = np.array(tmp).cumsum()\n",
    "        posn = len(tmp[tmp >= q]) - 1\n",
    "        prx = self.book['price'][posn]\n",
    "        if price is not None:\n",
    "            prx = price\n",
    "        self.book['buy_size'][posn] -= 1\n",
    "        return ['CB', prx]\n",
    "        \n",
    "    def cancel_sell(self, price=None):\n",
    "        q = self.pick(self.n_cs())\n",
    "        tmp = np.cumsum(self.book['sell_size'])\n",
    "        posn = len(tmp[tmp < q])\n",
    "        prx = self.book['price'][posn]\n",
    "        if price is not None:\n",
    "            prx = price\n",
    "        self.book['sell_size'][posn] -= 1\n",
    "        return ['CS', prx]\n",
    "    \n",
    "    def generate_events(self, n_events=1, band=20, logging=False):\n",
    "        lb_prob = self.lmda*self.L\n",
    "        ls_prob = self.lmda*self.L\n",
    "        mb_prob = self.mu/2\n",
    "        ms_prob = self.mu/2\n",
    "        \n",
    "        # function that determines the event probabilities\n",
    "        def probs():\n",
    "            cb_prob = self.nu*self.n_cb()\n",
    "            cs_prob = self.nu*self.n_cs()\n",
    "            p = np.array([lb_prob, ls_prob, cb_prob, cs_prob, mb_prob, ms_prob])\n",
    "            return p/p.sum()\n",
    "\n",
    "        avg_book_shape = np.zeros(2*band + 1)\n",
    "\n",
    "        if logging is True:\n",
    "            event_log = []\n",
    "            for i in range(n_events):\n",
    "                p = probs()\n",
    "                act = np.random.choice(self.activities, p=p)()\n",
    "                event_log.append(act)\n",
    "                avg_book_shape += self.book_shape(band)/n_events\n",
    "\n",
    "            return event_log, avg_book_shape\n",
    "\n",
    "        for i in range(n_events):\n",
    "            p = probs()\n",
    "            np.random.choice(self.activities, p=p)()\n",
    "            avg_book_shape += self.book_shape(band)/n_events\n",
    "\n",
    "        return avg_book_shape"
   ]
  },
  {
   "cell_type": "code",
   "execution_count": 3,
   "metadata": {},
   "outputs": [],
   "source": [
    "# parameters\n",
    "# limit order arrival rate\n",
    "lmda = 1\n",
    "\n",
    "# market order arrival rate\n",
    "mu = 10\n",
    "\n",
    "# cancel order percentage arrival rate\n",
    "nu = 1/5\n",
    "\n",
    "# Instanize ZI class \n",
    "zi = ZI(mu=mu, lmda=lmda, nu=nu)"
   ]
  },
  {
   "cell_type": "code",
   "execution_count": 4,
   "metadata": {},
   "outputs": [
    {
     "data": {
      "image/png": "[encoded data removed]",
      "text/plain": [
       "<Figure size 800x400 with 1 Axes>"
      ]
     },
     "metadata": {},
     "output_type": "display_data"
    },
    {
     "data": {
      "image/png": "[encoded data removed]",
      "text/plain": [
       "<Figure size 800x400 with 1 Axes>"
      ]
     },
     "metadata": {},
     "output_type": "display_data"
    }
   ],
   "source": [
    "# plot order book\n",
    "zi.book_plot()\n",
    "zi.book_plot(signed=True)"
   ]
  },
  {
   "cell_type": "code",
   "execution_count": 5,
   "metadata": {},
   "outputs": [
    {
     "data": {
      "text/plain": [
       "(['LB', -19], ['LS', 25], ['LB', -24])"
      ]
     },
     "execution_count": 5,
     "metadata": {},
     "output_type": "execute_result"
    }
   ],
   "source": [
    "zi.limit_buy(), zi.limit_sell(), zi.limit_buy()"
   ]
  },
  {
   "cell_type": "code",
   "execution_count": 6,
   "metadata": {},
   "outputs": [
    {
     "data": {
      "text/plain": [
       "['LB', -2]"
      ]
     },
     "execution_count": 6,
     "metadata": {},
     "output_type": "execute_result"
    }
   ],
   "source": [
    "zi.limit_buy(-2)"
   ]
  },
  {
   "cell_type": "code",
   "execution_count": 7,
   "metadata": {},
   "outputs": [
    {
     "data": {
      "image/png": "[encoded data removed]",
      "text/plain": [
       "<Figure size 800x400 with 1 Axes>"
      ]
     },
     "metadata": {},
     "output_type": "display_data"
    }
   ],
   "source": [
    "zi.book_plot(30)"
   ]
  },
  {
   "cell_type": "code",
   "execution_count": 8,
   "metadata": {},
   "outputs": [
    {
     "data": {
      "text/plain": [
       "([['CS', 12]],\n",
       " array([5., 6., 5., 5., 5., 5., 5., 5., 5., 5., 5., 5., 5., 4., 4., 3., 3.,\n",
       "        2., 3., 1., 0., 1., 2., 2., 3., 3., 4., 4., 5., 5., 5., 5., 4., 5.,\n",
       "        5., 5., 5., 5., 5., 5., 5.]))"
      ]
     },
     "execution_count": 8,
     "metadata": {},
     "output_type": "execute_result"
    }
   ],
   "source": [
    "# generate market activities\n",
    "zi.generate_events(logging=True)"
   ]
  },
  {
   "cell_type": "markdown",
   "metadata": {},
   "source": [
    "### Average book shape in the  ZI simulation"
   ]
  },
  {
   "cell_type": "code",
   "execution_count": 9,
   "metadata": {},
   "outputs": [
    {
     "data": {
      "image/png": "[encoded data removed]",
      "text/plain": [
       "<Figure size 800x400 with 1 Axes>"
      ]
     },
     "metadata": {},
     "output_type": "display_data"
    },
    {
     "data": {
      "text/plain": [
       "(array([5.08, 5.18, 5.04, 4.95, 4.52, 4.96, 5.15, 5.25, 5.55, 5.31, 4.93,\n",
       "        4.63, 4.57, 3.95, 3.41, 3.51, 3.08, 1.94, 1.88, 0.5 , 0.2 , 0.58,\n",
       "        1.83, 2.24, 2.45, 3.  , 3.43, 3.7 , 4.62, 5.08, 4.94, 4.6 , 4.15,\n",
       "        4.25, 4.02, 4.57, 3.65, 4.38, 4.21, 4.31, 4.83]),\n",
       " 2,\n",
       " 3.0,\n",
       " 4)"
      ]
     },
     "execution_count": 9,
     "metadata": {},
     "output_type": "execute_result"
    }
   ],
   "source": [
    "# Burn in for 100 events\n",
    "_ = zi.generate_events(n_events=100)\n",
    "\n",
    "# order book shape after 100 events\n",
    "zi.book_plot(20)\n",
    "_, zi.best_bid(), zi.mid(), zi.best_offer()"
   ]
  },
  {
   "cell_type": "code",
   "execution_count": 10,
   "metadata": {},
   "outputs": [
    {
     "name": "stdout",
     "output_type": "stream",
     "text": [
      "39.38439130783081\n",
      "00:00:39\n"
     ]
    },
    {
     "data": {
      "text/plain": [
       "(array([4.87109, 4.80249, 4.85763, 4.95798, 4.99814, 4.93154, 4.95633,\n",
       "        4.86352, 4.79453, 4.74312, 4.72465, 4.63295, 4.50165, 4.28756,\n",
       "        3.96353, 3.57674, 3.13647, 2.63112, 1.97641, 1.23473, 0.41787,\n",
       "        0.73913, 1.34001, 1.94366, 2.45859, 3.02062, 3.51301, 4.00209,\n",
       "        4.35866, 4.59263, 4.8567 , 4.96217, 4.98094, 5.05743, 4.99626,\n",
       "        4.97851, 4.90948, 4.86007, 4.88755, 4.95177, 5.03056]),\n",
       " -21.0)"
      ]
     },
     "execution_count": 10,
     "metadata": {},
     "output_type": "execute_result"
    }
   ],
   "source": [
    "import time\n",
    "\n",
    "start = time.time()\n",
    "n_events = 100_000\n",
    "avg_book_shape = zi.generate_events(n_events=n_events)\n",
    "elapsed_time = time.time() - start\n",
    "print(elapsed_time)\n",
    "print(time.strftime(\"%H:%M:%S\", time.gmtime(elapsed_time)))\n",
    "avg_book_shape, zi.mid()"
   ]
  },
  {
   "cell_type": "code",
   "execution_count": 11,
   "metadata": {},
   "outputs": [
    {
     "data": {
      "image/png": "[encoded data removed]",
      "text/plain": [
       "<Figure size 900x500 with 1 Axes>"
      ]
     },
     "metadata": {},
     "output_type": "display_data"
    }
   ],
   "source": [
    "# plot average book shape\n",
    "band = 20\n",
    "plt.figure(figsize=(9, 5))\n",
    "plt.plot([x for x in range(-band, band + 1)], avg_book_shape, 'b:')\n",
    "plt.plot([x for x in range(-band, band + 1)], avg_book_shape, 'ro')\n",
    "plt.title(f'Avage book shape after {n_events} events')\n",
    "plt.xlabel('Relative price')\n",
    "plt.ylabel('Quantity');"
   ]
  },
  {
   "cell_type": "markdown",
   "metadata": {
    "slideshow": {
     "slide_type": "fragment"
    }
   },
   "source": [
    "Figure 2: Average book shape over 100,000 events with $\\lambda$ = 1, $\\mu$ = 10, $\\nu$ = 1/5. Note that asymptotic book depth is $\\lambda/\\nu$ = 5."
   ]
  },
  {
   "cell_type": "markdown",
   "metadata": {
    "slideshow": {
     "slide_type": "slide"
    }
   },
   "source": [
    "### Price signal in the  ZI simulation\n",
    "\n",
    "* Even in the ZI model, the shape of the order book allows prediction of price movements.\n",
    "    * Traders really would need to have zero intelligence not to condition on book shape!"
   ]
  },
  {
   "cell_type": "markdown",
   "metadata": {
    "slideshow": {
     "slide_type": "subslide"
    }
   },
   "source": [
    "<h2><img src=\"http://mfe.baruch.cuny.edu/wp-content/uploads/2015/01/asymmetry.png\" align = \"center\" width=1000></h2>"
   ]
  },
  {
   "cell_type": "markdown",
   "metadata": {},
   "source": [
    "Figure 3: With one share at best offer, average price change after 100 events vs size at best bid.  Each point is generated from 10,000 simluations; error bars are computed as 2 standard deviations of the mean."
   ]
  },
  {
   "cell_type": "markdown",
   "metadata": {
    "slideshow": {
     "slide_type": "slide"
    }
   },
   "source": [
    "### Market making in the Santa Fe model\n",
    "\n",
    "- A related feature of the model is that market making would be highly profitable.\n",
    "- However, were a market maker to be introduced, it would no longer be a zero-intelligence model.\n",
    "    - Trader behavior would become strategic.\n",
    "- This suggests a whole class of more sophisiticated *minimal intelligence* models.\n",
    "    - One improvement might be to bias the probabilities of new order types depending on the order imbalance."
   ]
  },
  {
   "cell_type": "markdown",
   "metadata": {
    "slideshow": {
     "slide_type": "slide"
    }
   },
   "source": [
    "### Further developments in ZI models\n",
    "\n",
    "* [Cont, Stoikov and Talreja]<sup id=\"cite_ref-ContStoikovTalreja\" class=\"reference\"><a href=\"#cite_note-ContStoikovTalreja\"><span>[</span>5<span>]</span></a></sup> analyze a generalized Santa Fe (ZI) model as a Markov chain.\n",
    "* They show how to compute conditional probabilities using Laplace transform techniques.  For example:    \n",
    "    * The probability that the mid-price increases at its next move.        \n",
    "        * Depends on the order book imbalance.   \n",
    "    * The probability of executing an order before the mid-price moves.\n",
    "    * The probability of making the spread.\n",
    "        * Of interest to market makers.  Cancel limit orders if price is going to move!\n",
    "  - [Cont, Stoikov and Talreja]<sup id=\"cite_ref-ContStoikovTalreja\" class=\"reference\"><a href=\"#cite_note-ContStoikovTalreja\"><span>[</span>5<span>]</span></a></sup> choose a limit order arrival (\"rain\") distribution and a cancelation distribution (by $\\Delta$) so as to match observed average book shapes for a Japanese stock."
   ]
  },
  {
   "cell_type": "markdown",
   "metadata": {
    "slideshow": {
     "slide_type": "slide"
    }
   },
   "source": [
    "### Cont and de Larrard\n",
    "\n",
    "[Cont and de Larrard]<sup id=\"cite_ref-ContLarrard\" class=\"reference\"><a href=\"#cite_note-ContLarrard\"><span>[</span>3<span>]</span></a></sup> consider the following caricature of the ZI model, appropriate for large tick stocks:\n",
    "\n",
    "* Only quantities at the best bid and the best ask ($q_a$ and $q_b$ respectively) are considered.\n",
    "* All order sizes are for one unit.  Cancelations are not proportional to existing quantity.\n",
    "* $q_a$ and $q_b$ are independent.\n",
    "* The price moves down if $q_b \\downarrow 0$ and up if $q_a \\downarrow 0$.\n",
    "* After a price change, $q_a$ and $q_b$ are picked from a stationary distribution of queue sizes, independent of history (which could for example be empirically determined)."
   ]
  },
  {
   "cell_type": "markdown",
   "metadata": {
    "slideshow": {
     "slide_type": "subslide"
    }
   },
   "source": [
    "Formally, \n",
    "\\begin{eqnarray*}\n",
    "&& q_a(t) = N^{LS}_t - N^{MB}_t - N^{CA}_t \\\\\n",
    "&& q_b(t) = N^{LB}_t - N^{MS}_t - N^{CB}_t \n",
    "\\end{eqnarray*}\n",
    "where \n",
    "\n",
    "* $N_t^{LS}$ and $N_t^{LB}$ are Poisson processes with intensity $\\lambda$ corresponding to limit orders\n",
    "* $N_t^{MS}$ and $N_t^{MB}$ are Poisson processes with intensity $\\mu$ corresponding to market orders\n",
    "* $N_t^{CA}$ and $N_t^{CB}$ are Poisson processes with intensity $\\nu$ corresponding to cancelation of limit orders\n",
    "\n",
    "All the processes are independent."
   ]
  },
  {
   "cell_type": "markdown",
   "metadata": {
    "slideshow": {
     "slide_type": "subslide"
    }
   },
   "source": [
    "Hence, $q_a(t)$ and $q_b(t)$ are compound Poisson processes with intensity $\\Lambda := \\lambda + \\mu + \\delta$ and jump size $J$ distributed as\n",
    "\n",
    "$$\n",
    "J = \\left\\{\\begin{array}{ll}\n",
    "1 & \\mbox{with probability } \\frac{\\lambda}{\\lambda + \\mu + \\delta}; \\\\\n",
    "\\\\\n",
    "-1 & \\mbox{with probability } \\frac{\\mu + \\delta}{\\lambda + \\mu + \\delta}.\n",
    "\\end{array}\\right.\n",
    "$$"
   ]
  },
  {
   "cell_type": "markdown",
   "metadata": {
    "slideshow": {
     "slide_type": "subslide"
    }
   },
   "source": [
    "In a second paper, [Cont and de Larrard]<sup id=\"cite_ref-ContLarrard2\" class=\"reference\"><a href=\"#cite_note-ContLarrard2\"><span>[</span>4<span>]</span></a></sup> derive closed-form asymptotic expressions for the following quantities:\n",
    "\n",
    "* Distribution of duration until the next price move.\n",
    "* Probability of upward move in the price.\n",
    "* Autocorrelation of price changes.\n",
    "* Price volatility."
   ]
  },
  {
   "cell_type": "markdown",
   "metadata": {
    "slideshow": {
     "slide_type": "slide"
    }
   },
   "source": [
    "### Probability of price move up\n",
    "\n",
    "Cont and de Larrard derive the following asymptotic expression assuming a balanced book (a book where the arrival rate of limit orders balances the arrival rates of market orders and cancelations):\n",
    "\n",
    "<font color=\"red\">\n",
    "    \n",
    "#### Proposition (Proposition 2 of Cont & de Larrard)\n",
    "The probability $\\phi(n,p)$ that the next price is an increase, conditioned on having $n$ orders at the bid and $p$ orders at the ask is:\n",
    "\n",
    "$$\n",
    "\\phi(n,p)=\\frac{1}{\\pi}\\,\\int_0^\\pi\\,\\left(2-\\cos t-\\sqrt{(2-\\cos t)^2-1}\\right)^p\\,\\frac{\\sin {n\\,t}\\,\\cos \\frac{t}{2}}{\\sin \\frac{t}{2}}\\, dt\n",
    "$$\n",
    "</font>\n",
    "\n",
    "* This leads to a natural expression for microprice in large tick markets!"
   ]
  },
  {
   "cell_type": "markdown",
   "metadata": {
    "slideshow": {
     "slide_type": "slide"
    }
   },
   "source": [
    "### Infinitesimal generator \n",
    "\n",
    "The infinitesimal generator of the (two dimensional) process $q_a(t)$ and $q_b(t)$ is \n",
    "\n",
    "$$\n",
    "\\beas\n",
    "\\mathcal{L} u(x,y) &=& \\lambda [u(x+h,y) + u(x,y+h) - 2u(x,y)] \\\\&&+ (\\mu + \\nu)[u(x-h,y) + u(x,y-h) - 2u(x,y)] \n",
    "\\eeas\n",
    "$$\n",
    "\n",
    "where $h$ is the tick size. \n",
    "\n",
    "On average, we must have a balanced order book so that $\\lambda = \\mu + \\nu$. Then $\\lambda = \\mu + \\nu = \\frac\\Lambda2$. $\\mathcal{L}$ becomes\n",
    "\n",
    "$$\n",
    "\\beas\n",
    "\\mathcal{L} u(x,y) &=& \\frac\\Lambda2 \\bigg[u(x+h,y) + u(x,y+h) \\\\&&+ u(x-h,y) + u(x,y-h) - 4 u(x,y)\\bigg].\n",
    "\\eeas\n",
    "$$"
   ]
  },
  {
   "cell_type": "markdown",
   "metadata": {
    "slideshow": {
     "slide_type": "slide"
    }
   },
   "source": [
    "### Boundary value problem for probability of up move\n",
    "\n",
    "Denote $\\tau_a = \\inf\\{t \\geq 0: q_a(t) = 0\\}$ and  $\\tau_b = \\inf\\{t \\geq 0: q_b(t) = 0\\}$. In other words, $\\tau_a$ ($\\tau_b$ respectively) is the first time that the ask (bid respectively) side of the book is depleted.  \n",
    "\n",
    "Let $u(x,y) = \\PP\\left[\\tau_a \\leq \\tau_b|q_b = x, q_a = y \\right]$. That is, $u$ is the probability that, conditioned on $q_b = x$ and $q_a = y$, the ask side is depleted before the bid side. Consequently, $u$ is the probability that the price moves up. "
   ]
  },
  {
   "cell_type": "markdown",
   "metadata": {
    "slideshow": {
     "slide_type": "subslide"
    }
   },
   "source": [
    "Then $u$ satisfies the partial difference equation \n",
    "\n",
    "$$\n",
    "\\beas\n",
    "\\mathcal{L} u(x,y) &=& u(x+h,y) + u(x,y+h) + u(x-h,y) + u(x,y-h) - 4 u(x,y)\\\\ &=& 0, \\quad \\forall x, y > 0\n",
    "\\eeas\n",
    "$$\n",
    "\n",
    "with boundary conditions \n",
    "\n",
    "$$\n",
    "u(x,0) = 1, \\; \\forall x \\geq 0 \\quad \\mbox{and} \\quad u(0,y) = 0, \\; \\forall y \\geq 0.\n",
    "$$"
   ]
  },
  {
   "cell_type": "markdown",
   "metadata": {
    "slideshow": {
     "slide_type": "slide"
    }
   },
   "source": [
    "### A heuristic asymptotic analysis\n",
    "\n",
    "Recall the difference equation for $u$:\n",
    "\n",
    "$$\n",
    "u(x+h,y) + u(x,y+h) + u(x-h,y) + u(x,y-h) - 4 u(x,y) = 0.\n",
    "$$\n",
    "\n",
    "Rewrite the last equation as \n",
    "\n",
    "$$\n",
    "\\beas\n",
    "&&\\frac1{h^2} \\left[u(x+h,y) + u(x-h,y) - 2 u(x,y) \\right] \\\\&&+ \\frac1{h^2} \\left[u(x,y+h) + u(x,y-h) - 2 u(x,y)\\right] = 0.\n",
    "\\eeas\n",
    "$$"
   ]
  },
  {
   "cell_type": "markdown",
   "metadata": {
    "slideshow": {
     "slide_type": "subslide"
    }
   },
   "source": [
    "In the limit, as $h \\to 0$, the difference equation converges to the Laplace equation\n",
    "\n",
    "<a name=\"eq:laplacian\"></a>(1)\n",
    "$$\n",
    "\\Delta u = u_{xx} + u_{yy} = 0.\n",
    "$$\n",
    "\n",
    " - For small $h$, we would expect the solution of this PDE to be approximately equal to the solution of the difference equation.  "
   ]
  },
  {
   "cell_type": "markdown",
   "metadata": {
    "slideshow": {
     "slide_type": "slide"
    }
   },
   "source": [
    "### Probability that next move is up\n",
    "\n",
    "Let $\\phi(x,y)$ be the probability that the next move is up given a bid size of $x$ and an ask size of $y$.  Then $\\phi$ satisfies the Laplace equation [(1)](#eq:laplacian) with boundary conditions with boundary condition $\\phi(x,0) = 1$ and $\\phi(0,y) = 0$. \n",
    "\n",
    "<h2><img src=\"http://mfe.baruch.cuny.edu/wp-content/uploads/2015/01/Laplacian.png\" align = \"center\" width=600></h2>\n"
   ]
  },
  {
   "cell_type": "markdown",
   "metadata": {
    "slideshow": {
     "slide_type": "slide"
    }
   },
   "source": [
    "### Solving the Laplace equation for $\\phi$\n",
    "\n",
    "Rewriting [(1)](#eq:laplacian) in polar coordinates $(r,\\theta)$ gives\n",
    "\n",
    "$$\n",
    "\\Delta \\phi(x,y) =  \\frac{\\p^2 \\phi}{\\p r^2}+\\frac 1 r \\,\\frac{\\p \\phi}{\\p r}+ \\frac 1 {r^2}\\frac{\\p^2 \\phi}{\\p \\theta^2}.\n",
    "$$\n",
    "\n",
    "Radial symmetry gives $\\p_r \\phi = 0$ so this equation simplifies to\n",
    "\n",
    "$$\n",
    "\\frac{\\p^2 \\phi}{\\p \\theta^2} = 0.\n",
    "$$\n",
    "\n",
    "with solution \n",
    "$\n",
    "\\phi(r,\\theta)= a \\, \\theta+ b.\n",
    "$"
   ]
  },
  {
   "cell_type": "markdown",
   "metadata": {
    "slideshow": {
     "slide_type": "subslide"
    }
   },
   "source": [
    "Applying the boundary conditions, $\\phi(r,\\pi/2)=0$ and $\\phi(r,0) = 1$ gives\n",
    "\n",
    "$$\n",
    "\\phi(x,y)= \\phi(r,\\theta) = 1-\\frac 2 \\pi \\,\\theta = 1-\\frac 2 \\pi \\,\\arctan \\frac{y}{x}=\\frac 2 \\pi \\,\\arctan \\frac x y.\n",
    "$$"
   ]
  },
  {
   "cell_type": "markdown",
   "metadata": {
    "slideshow": {
     "slide_type": "slide"
    }
   },
   "source": [
    "### Asymptotic vs Cont and de Larrard formula\n",
    "\n",
    "We set $y=1$ and plot $\\phi(x,1)$ vs $x$.\n",
    "\n",
    "<h2><img src=\"http://mfe.baruch.cuny.edu/wp-content/uploads/2015/01/TaiHoVsCont.png\" align = \"center\" width=500></h2>\n",
    "Figure 4: The blue line is simply $\\frac 2 \\pi \\,\\arctan \\frac{x}{y}$; the red dashed line is the Cont and de Larrard formula $\\frac{1}{\\pi}\\,\\int_0^\\pi\\,dt\\,\\left(2-\\cos t-\\sqrt{(2-\\cos t)^2-1}\\right)^y\\,\\frac{\\sin {x\\,t}\\,\\cos \\frac{t}{2}}{\\sin \\frac{t}{2}}$"
   ]
  },
  {
   "cell_type": "markdown",
   "metadata": {
    "slideshow": {
     "slide_type": "slide"
    }
   },
   "source": [
    "### Microprice\n",
    "\n",
    "Now that we have the probability of an up-tick, we may define a quantity which we may consider as an estimate of the efficient price.\n",
    "\n",
    "Denote the spread by $s$ and the mid-price by $m_t=(b_t+a_t)/2$.  Then we may define the *microprice* $\\tilde s_t$   as\n",
    "\n",
    "<a name=\"eq:microprice\"></a>(2)\n",
    "\\begin{eqnarray}\n",
    "\\tilde s_t &=& \\mbox{mid-price} + \\mbox{half spread} \\times \\mbox{expected price move} \\\\\n",
    "&=& m_t + \\frac s 2 \\, \\left\\{2\\,\\phi(q_b,q_a)-1\\right\\}\\nonumber\\\\\n",
    "&\\approx&m_t + \\frac s 2 \\,\\left\\{\\frac 4\\pi \\,\\arctan \\frac {q_b} {q_a}-1\\right\\}.\n",
    "\\end{eqnarray}\n",
    "\n",
    "* If $q_b \\ll q_a$, $\\tilde s_t \\approx m_t- s/2 = b_t$.\n",
    "* If $q_b \\gg q_a$, $\\tilde s_t \\approx m_t+ s/2 = a_t$."
   ]
  },
  {
   "cell_type": "markdown",
   "metadata": {
    "slideshow": {
     "slide_type": "slide"
    }
   },
   "source": [
    "### Order book imbalance\n",
    "\n",
    "[Gould and Bonart]<sup id=\"cite_ref-BG\" class=\"reference\"><a href=\"#cite_note-BG\"><span>[</span>6<span>]</span></a></sup> define the *order book imbalance*\n",
    "\n",
    "$$\n",
    "I = \\frac{ q_b-q_a}{q_b+q_a}.\n",
    "$$\n",
    "\n",
    "In terms of $I$,  the microprice [(2)](#eq:microprice) becomes\n",
    "\n",
    "\\begin{eqnarray}\n",
    "\\tilde s_t &\\approx& m_t + \\frac s 2 \\,\\left\\{\\frac 4\\pi \\,\\arctan \\frac {q_b} {q_a}-1\\right\\}\\\\\n",
    "&=&m_t + \\frac s 2 \\,\\frac 4\\pi \\,\\arctan \\frac{ q_b-q_a}{q_b+q_a}\\\\\n",
    "&=&m_t + \\frac s 2 \\,\\frac 4\\pi \\,\\arctan I.\n",
    "\\end{eqnarray}\n",
    "\n",
    "* We see that book imbalance seems to be the appropriate choice of variable in the sense that $\\tilde s_t$ is linear in $I$ for small $I$.\n",
    "    * Moreover, $I$ is anti-symmetric in $q_b$ and $q_a$."
   ]
  },
  {
   "cell_type": "markdown",
   "metadata": {
    "slideshow": {
     "slide_type": "slide"
    }
   },
   "source": [
    "### Order book imbalance empirically\n",
    "\n",
    "<h2><img src=\"http://mfe.baruch.cuny.edu/wp-content/uploads/2017/01/GouldBonartFig6.png\" align = \"center\" width=900></h2>\n",
    "\n",
    "Figure 5: Empirical probability that the next mid-price moves is up from [Gould and Bonart]<sup id=\"cite_ref-BG\" class=\"reference\"><a href=\"#cite_note-BG\"><span>[</span>6<span>]</span></a></sup>"
   ]
  },
  {
   "cell_type": "markdown",
   "metadata": {
    "slideshow": {
     "slide_type": "slide"
    }
   },
   "source": [
    "### Graph of microprice vs order book imbalance"
   ]
  },
  {
   "cell_type": "code",
   "execution_count": 12,
   "metadata": {},
   "outputs": [
    {
     "data": {
      "image/png": "[encoded data removed]",
      "text/plain": [
       "<Figure size 900x500 with 1 Axes>"
      ]
     },
     "metadata": {},
     "output_type": "display_data"
    }
   ],
   "source": [
    "# Figure 6: Microprice vs order book imbalance \n",
    "def micro_price(imbalance):\n",
    "    price = 4/np.pi*np.arctan(imbalance)\n",
    "    return price\n",
    "\n",
    "x = np.linspace(-1, 1, 1000)\n",
    "y = micro_price(x)\n",
    "\n",
    "plt.figure(figsize=(9, 5))\n",
    "plt.plot(x, y, color='red')\n",
    "plt.hlines(y=0, xmin=x.min(), xmax=x.max(), linewidth=1, linestyle='dashed')\n",
    "plt.vlines(x=0, ymin=y.min(), ymax=y.max(), linewidth=1, linestyle='dashed')\n",
    "plt.title('Micro-price vs Imbalance')\n",
    "plt.xlabel('Imbalance (I)')\n",
    "plt.ylabel('Micro-price/Half-spread')\n",
    "plt.show()"
   ]
  },
  {
   "cell_type": "markdown",
   "metadata": {
    "slideshow": {
     "slide_type": "fragment"
    }
   },
   "source": [
    "Figure 6: Microprice as a function of the order book imbalance I\n",
    "* It looks nearly linear!"
   ]
  },
  {
   "cell_type": "markdown",
   "metadata": {
    "slideshow": {
     "slide_type": "slide"
    }
   },
   "source": [
    "### Price signal in the  ZI simulation vs book imbalance\n",
    "\n",
    "<h2><img src=\"http://mfe.baruch.cuny.edu/wp-content/uploads/2015/01/asymmetryImbalance.png\" align = \"center\" width=800></h2>\n",
    "Figure 7: With one share at best offer, future price change vs book imbalance"
   ]
  },
  {
   "cell_type": "markdown",
   "metadata": {
    "slideshow": {
     "slide_type": "slide"
    }
   },
   "source": [
    "### Price signal in the  ZI simulation vs microprice\n",
    "\n",
    "<h2><img src=\"http://mfe.baruch.cuny.edu/wp-content/uploads/2015/01/asymmetryMicroprice.png\" align = \"center\" width=800></h2>\n",
    "Figure 8: With one share at best offer, future price change vs microprice"
   ]
  },
  {
   "cell_type": "markdown",
   "metadata": {
    "slideshow": {
     "slide_type": "slide"
    }
   },
   "source": [
    "### Avellaneda, Reed and Stoikov\n",
    "\n",
    "[Avellaneda, Reed and Stoikov]<sup id=\"cite_ref-AvellanedaReedStoikov\" class=\"reference\"><a href=\"#cite_note-AvellanedaReedStoikov\"><span>[</span>1<span>]</span></a></sup> make the following observations about size at the best quote in real markets:\n",
    "\n",
    "-  In the zero intelligence (ZI) model, if $q_A$ gets very small relative to $q_B$ the probability that the next price move is up should approach $100\\%$.  \n",
    "    - This is not consistent with empirical observation.\n",
    "    - Avellaneda, Reed and Stoikov (ARS) ascribe this to *hidden liquidity* (this could consist of hidden orders, liquidity on other exchanges via Reg. NMS and so on).\n",
    "- In the ZI model, $q_A$ and $q_B$ are independent.  \n",
    "    - In real markets $q_A$ and $q_B$ are negatively correlated.  Indeed a good approximation is $\\rho_{AB} \\approx -1$.\n",
    "    - They model this by introducing diagonal transitions which cancel an order on one side of the book and add a limit order on the other."
   ]
  },
  {
   "cell_type": "markdown",
   "metadata": {
    "slideshow": {
     "slide_type": "slide"
    }
   },
   "source": [
    "### The Avellaneda, Reed and Stoikov solution\n",
    "\n",
    "\n",
    "Following a similar argument to the derivation of equation (1), we obtain that the probability of an up price move is given by\n",
    "\n",
    "$$\n",
    "\\phi(x,y;H) = u(x+H,y+H)\n",
    "$$\n",
    "\n",
    "where $H$ represents hidden liquidity and $u$ satisfies\n",
    "\n",
    "<a name=\"eq:laplacian2\"></a>(2)\n",
    "$$\n",
    "u_{xx} + 2\\rho\\,u_{xy}+ u_{yy} = 0.\n",
    "$$\n",
    "\n",
    "$H$ is interpreted as a measure of the information content of the visible order book.  The smaller $H$ is, the greater the predictive power of size at the best quote."
   ]
  },
  {
   "cell_type": "markdown",
   "metadata": {
    "slideshow": {
     "slide_type": "subslide"
    }
   },
   "source": [
    "The solution is\n",
    "\n",
    "$$\n",
    "u(x,y) = \\frac 1 2 \\left\\{\n",
    "1 + \\frac{\\arctan \\left( \\sqrt{\\frac{1+\\rho}{1-\\rho}} \\frac{x-y}{x+y} \\right)}{\\arctan \\left( \\sqrt{\\frac{1+\\rho}{1-\\rho}} \\right)} \n",
    "\\right\\} .\n",
    "$$"
   ]
  },
  {
   "cell_type": "markdown",
   "metadata": {
    "slideshow": {
     "slide_type": "subslide"
    }
   },
   "source": [
    "We then have the following special cases:\n",
    "\n",
    "- $\\rho=0$:\n",
    "$$\n",
    "u(x,y) = \\frac 1 2 \\left\\{\n",
    "1 + \\frac{\\arctan \\left(  \\frac{x-y}{x+y} \\right)}{\\arctan 1} \n",
    "\\right\\} = \\frac 1 2 \\left\\{\n",
    "1 + \\frac{4}{\\pi}\\,\\arctan \\left(  \\frac{x-y}{x+y} \\right)\n",
    "\\right\\}\n",
    "$$\n",
    "which is consistent with our earlier result.\n",
    "\n",
    "\n",
    "\n",
    "- $\\rho=-1$, we have the very simple result\n",
    "$$\n",
    "u(x,y) = \\frac{x}{x+y}\n",
    "$$\n",
    "in which case the probability of an up-move is given by\n",
    "$$\n",
    "\\phi(x,y;H) = u(x+H,y+H) = \\frac{x+H}{x+y+2\\,H}.\n",
    "$$"
   ]
  },
  {
   "cell_type": "markdown",
   "metadata": {
    "slideshow": {
     "slide_type": "slide"
    }
   },
   "source": [
    "### Empirical test\n",
    "\n",
    "- ARS demonstrate that for large tick stocks, this simple model with $\\rho = -1$ successfully reproduces the empirical probability of an up-move.  \n",
    "- $H$ is typically around $15\\%$ of visible liquidity.  \n",
    "- By comparing $H$ for a given stock for various exchanges, we can determine which exchange has the most informative visible order book."
   ]
  },
  {
   "cell_type": "markdown",
   "metadata": {
    "slideshow": {
     "slide_type": "slide"
    }
   },
   "source": [
    "### Empirical estimates of $H$\n",
    "\n",
    "\n",
    "<h2><img src=\"http://mfe.baruch.cuny.edu/wp-content/uploads/2016/01/ARS_Table4.png\" align = \"center\" width=800></h2>\n",
    "\n",
    "Table 1: Hidden liquidity $H$ for four tickers and three exchanges. $s$ stands for spread in ticks."
   ]
  },
  {
   "cell_type": "markdown",
   "metadata": {
    "slideshow": {
     "slide_type": "slide"
    }
   },
   "source": [
    "### Muni-Toke and Yoshida\n",
    "\n",
    "A later paper by [Muni-Toke and Yoshida]<sup \n",
    "id=\"cite_ref-MTY\" class=\"reference\"><a href=\"#cite_note-MTY\"><span>[</span>8<span>]</span></a></sup> updates the zero-intelligence recipe by making intensities dependent on the state of the order book, consistent with empirical estimates.\n",
    "\n",
    "- The arrival rate of market orders depends on the spread and the size available at the opposite best quote.\n",
    "- The arrival rate of limit orders depends on the total quantity (up to level 10) available on the same side of the order book.\n",
    "    - Placement of the limit order is determined in a second step according to an empirically estimated distribution.\n",
    "- The arrival rate of cancelations depends again on the size available and then on the position of the order in the queue.\n",
    "    - Orders towards the front of the queue are less likely to be canceled."
   ]
  },
  {
   "cell_type": "markdown",
   "metadata": {
    "slideshow": {
     "slide_type": "slide"
    }
   },
   "source": [
    "### Summary\n",
    "\n",
    "- The limit order book can be viewed as a complex queuing system.\n",
    "- Even with very simple rules, complex order flow and price dynamics can be generated.\n",
    "- With more realistic rules, zero-intelligence models of the order book can serve as useful tools for comparing the performance of proposed order execution strategies."
   ]
  },
  {
   "cell_type": "markdown",
   "metadata": {
    "slideshow": {
     "slide_type": "slide"
    }
   },
   "source": [
    "### References\n",
    "\n",
    "<br>\n",
    "<div class=\"reflist\" style=\"list-style-type: decimal;\">\n",
    "\n",
    "\n",
    "  <li id=\"cite_note-AvellanedaReedStoikov\"><span class=\"mw-cite-backlink\"><b><a href=\"#cite_ref-AvellanedaReedStoikov\">^</a></b></span>   Marco Avellaneda, Josh Reed and Sasha Stoikov, Forecasting from level-I quotes in the presence of hidden liquidity,\n",
    "    <i>Algorithmic Finance</i>,  <b>1</b>(1) 35-43 (2011).</li>\n",
    "\n",
    "\n",
    " <li id=\"cite_note-BouchaudBook\"><span class=\"mw-cite-backlink\"><b><a href=\"#cite_ref-BouchaudBook\">^</a></b></span>   Jean-Philippe Bouchaud, Juius Bonart, Jonathan Donier, and Martin Gould, <i>Trades Quotes and Prices</i>,\n",
    "Cambridge University Press (2018).</li>\n",
    "\n",
    "\n",
    "  <li id=\"cite_note-ContLarrard\"><span class=\"mw-cite-backlink\"><b><a href=\"#cite_ref-ContLarrard\">^</a></b></span>   Rama Cont and Adrien de Larrard, Price dynamics in a Markovian limit order market, <i>SIAM J. Finan. Math.</i>,  <b> 4</b>(1) 1-25 (2013).</li>\n",
    "  \n",
    "  <li id=\"cite_note-ContLarrard2\"><span class=\"mw-cite-backlink\"><b><a href=\"#cite_ref-ContLarrard2\">^</a></b></span>   Rama Cont and Adrien de Larrard, Order book dynamics in liquid markets: limit theorems and diffusion approximations, <i>SSRN</i>, (2011).</li>\n",
    "  \n",
    "   <li id=\"cite_note-ContStoikovTalreja\"><span class=\"mw-cite-backlink\"><b><a href=\"#cite_ref-ContStoikovTalreja\">^</a></b></span>   Rama Cont, Sasha Stoikov and Rishi Talreja, A stochastic model for order book dynamics,\n",
    "<i>Operations Research</i>,  <b>58</b> 549-563 (2010).</li>\n",
    "\n",
    "   <li id=\"cite_note-BG\"><span class=\"mw-cite-backlink\"><b><a href=\"#cite_ref-BG\">^</a></b></span> Martin Gould and Julius Bonart, Queue imbalance as a one-tick-ahead price predictor in a limit order book, <i>Market Microstructure and Liquidity</i> <b>2</b>(2) 1650006 (2016).\n",
    "    \n",
    "   <li id=\"cite_note-HLR\"><span class=\"mw-cite-backlink\"><b><a href=\"#cite_ref-HLR\">^</a></b></span> Weibing Huang, Charles-Albert Lehalle and Mathieu Rosenbaum, Simulating and analyzing order book data: The queue-reactive model, <i>Journal of the American Statistical Association</i> <b>110</b>(509) 107-122 (2015).\n",
    "    \n",
    "   <li id=\"cite_note-MTY\"><span class=\"mw-cite-backlink\"><b><a href=\"#cite_ref-MTY\">^</a></b></span>   Ioane Muni Toke and Nakahiro Yoshida, Modelling intensities of order flows in a limit order book, <i>Quantitative Finance</i> <b>17</b>(5) 683-701 (2017).</li>\n",
    "    \n",
    "    \n",
    "</div>"
   ]
  }
 ],
 "metadata": {
  "celltoolbar": "Slideshow",
  "kernelspec": {
   "display_name": "Python 3 (ipykernel)",
   "language": "python",
   "name": "python3"
  },
  "language_info": {
   "codemirror_mode": {
    "name": "ipython",
    "version": 3
   },
   "file_extension": ".py",
   "mimetype": "text/x-python",
   "name": "python",
   "nbconvert_exporter": "python",
   "pygments_lexer": "ipython3",
   "version": "3.11.4"
  },
  "toc": {
   "base_numbering": 1,
   "nav_menu": {},
   "number_sections": false,
   "sideBar": true,
   "skip_h1_title": false,
   "title_cell": "Table of Contents",
   "title_sidebar": "Contents",
   "toc_cell": false,
   "toc_position": {},
   "toc_section_display": true,
   "toc_window_display": false
  },
  "varInspector": {
   "cols": {
    "lenName": 16,
    "lenType": 16,
    "lenVar": 40
   },
   "kernels_config": {
    "python": {
     "delete_cmd_postfix": "",
     "delete_cmd_prefix": "del ",
     "library": "var_list.py",
     "varRefreshCmd": "print(var_dic_list())"
    },
    "r": {
     "delete_cmd_postfix": ") ",
     "delete_cmd_prefix": "rm(",
     "library": "var_list.r",
     "varRefreshCmd": "cat(var_dic_list()) "
    }
   },
   "types_to_exclude": [
    "module",
    "function",
    "builtin_function_or_method",
    "instance",
    "_Feature"
   ],
   "window_display": false
  }
 },
 "nbformat": 4,
 "nbformat_minor": 4
}
